{
 "cells": [
  {
   "cell_type": "code",
   "execution_count": 1,
   "id": "a9b481bb",
   "metadata": {
    "ExecuteTime": {
     "end_time": "2022-10-27T08:05:19.744487Z",
     "start_time": "2022-10-27T08:05:18.833565Z"
    }
   },
   "outputs": [],
   "source": [
    "import pandas as pd"
   ]
  },
  {
   "cell_type": "code",
   "execution_count": 2,
   "id": "4bb669b3",
   "metadata": {
    "ExecuteTime": {
     "end_time": "2022-10-27T08:05:36.602615Z",
     "start_time": "2022-10-27T08:05:36.552638Z"
    }
   },
   "outputs": [
    {
     "data": {
      "text/plain": [
       "0    a\n",
       "1    b\n",
       "2    c\n",
       "dtype: object"
      ]
     },
     "execution_count": 2,
     "metadata": {},
     "output_type": "execute_result"
    }
   ],
   "source": [
    "data = ['a','b','c']\n",
    "se = pd.Series(data)\n",
    "se"
   ]
  },
  {
   "cell_type": "code",
   "execution_count": 3,
   "id": "3bc5f1e9",
   "metadata": {
    "ExecuteTime": {
     "end_time": "2022-10-27T08:07:36.271712Z",
     "start_time": "2022-10-27T08:07:36.253723Z"
    }
   },
   "outputs": [
    {
     "data": {
      "text/plain": [
       "RangeIndex(start=0, stop=3, step=1)"
      ]
     },
     "execution_count": 3,
     "metadata": {},
     "output_type": "execute_result"
    }
   ],
   "source": [
    "se.index"
   ]
  },
  {
   "cell_type": "code",
   "execution_count": 4,
   "id": "64db9552",
   "metadata": {
    "ExecuteTime": {
     "end_time": "2022-10-27T08:08:14.520947Z",
     "start_time": "2022-10-27T08:08:14.512953Z"
    }
   },
   "outputs": [
    {
     "data": {
      "text/plain": [
       "array(['a', 'b', 'c'], dtype=object)"
      ]
     },
     "execution_count": 4,
     "metadata": {},
     "output_type": "execute_result"
    }
   ],
   "source": [
    "se.values"
   ]
  },
  {
   "cell_type": "code",
   "execution_count": 5,
   "id": "e1d62017",
   "metadata": {
    "ExecuteTime": {
     "end_time": "2022-10-27T08:08:46.133505Z",
     "start_time": "2022-10-27T08:08:46.122533Z"
    }
   },
   "outputs": [
    {
     "name": "stdout",
     "output_type": "stream",
     "text": [
      "b\n",
      "c\n"
     ]
    }
   ],
   "source": [
    "print(se[1])\n",
    "print(se[2])"
   ]
  },
  {
   "cell_type": "code",
   "execution_count": 7,
   "id": "0cef4a94",
   "metadata": {
    "ExecuteTime": {
     "end_time": "2022-10-27T08:09:05.091503Z",
     "start_time": "2022-10-27T08:09:05.072536Z"
    }
   },
   "outputs": [
    {
     "name": "stdout",
     "output_type": "stream",
     "text": [
      "0    a\n",
      "1    b\n",
      "dtype: object\n",
      "0    a\n",
      "1    b\n",
      "2    c\n",
      "dtype: object\n"
     ]
    }
   ],
   "source": [
    "print(se[:2])\n",
    "print(se[:])"
   ]
  },
  {
   "cell_type": "code",
   "execution_count": 8,
   "id": "4da6db47",
   "metadata": {
    "ExecuteTime": {
     "end_time": "2022-10-27T08:11:10.228278Z",
     "start_time": "2022-10-27T08:11:10.210292Z"
    }
   },
   "outputs": [
    {
     "data": {
      "text/plain": [
       "0    a\n",
       "1    b\n",
       "2    c\n",
       "Name: alphabet, dtype: object"
      ]
     },
     "execution_count": 8,
     "metadata": {},
     "output_type": "execute_result"
    }
   ],
   "source": [
    "se.name = 'alphabet'\n",
    "se"
   ]
  },
  {
   "cell_type": "code",
   "execution_count": 9,
   "id": "2d2c0209",
   "metadata": {
    "ExecuteTime": {
     "end_time": "2022-10-27T08:11:54.690152Z",
     "start_time": "2022-10-27T08:11:54.671163Z"
    }
   },
   "outputs": [
    {
     "data": {
      "text/plain": [
       "No.\n",
       "0    a\n",
       "1    b\n",
       "2    c\n",
       "Name: alphabet, dtype: object"
      ]
     },
     "execution_count": 9,
     "metadata": {},
     "output_type": "execute_result"
    }
   ],
   "source": [
    "se.index.name = 'No.'\n",
    "se"
   ]
  },
  {
   "cell_type": "code",
   "execution_count": 13,
   "id": "684fa22e",
   "metadata": {
    "ExecuteTime": {
     "end_time": "2022-10-27T08:13:34.289269Z",
     "start_time": "2022-10-27T08:13:34.271278Z"
    }
   },
   "outputs": [
    {
     "name": "stdout",
     "output_type": "stream",
     "text": [
      "A    a\n",
      "B    b\n",
      "C    c\n",
      "D    d\n",
      "dtype: object\n",
      "a\n"
     ]
    }
   ],
   "source": [
    "data = ['a','b','c','d']\n",
    "se = pd.Series(data, index=['A','B','C','D'])\n",
    "print(se)\n",
    "print(se['A'])"
   ]
  },
  {
   "cell_type": "code",
   "execution_count": 14,
   "id": "51cdee2e",
   "metadata": {
    "ExecuteTime": {
     "end_time": "2022-10-27T08:15:25.752180Z",
     "start_time": "2022-10-27T08:15:25.741168Z"
    }
   },
   "outputs": [
    {
     "name": "stdout",
     "output_type": "stream",
     "text": [
      "1    a\n",
      "2    b\n",
      "3    c\n",
      "4    d\n",
      "dtype: object\n"
     ]
    }
   ],
   "source": [
    "se.index=[1,2,3,4]\n",
    "print(se)"
   ]
  },
  {
   "cell_type": "code",
   "execution_count": 17,
   "id": "75da44c3",
   "metadata": {
    "ExecuteTime": {
     "end_time": "2022-10-27T08:20:13.941614Z",
     "start_time": "2022-10-27T08:20:13.905643Z"
    }
   },
   "outputs": [
    {
     "data": {
      "text/html": [
       "<div>\n",
       "<style scoped>\n",
       "    .dataframe tbody tr th:only-of-type {\n",
       "        vertical-align: middle;\n",
       "    }\n",
       "\n",
       "    .dataframe tbody tr th {\n",
       "        vertical-align: top;\n",
       "    }\n",
       "\n",
       "    .dataframe thead th {\n",
       "        text-align: right;\n",
       "    }\n",
       "</style>\n",
       "<table border=\"1\" class=\"dataframe\">\n",
       "  <thead>\n",
       "    <tr style=\"text-align: right;\">\n",
       "      <th></th>\n",
       "      <th>D</th>\n",
       "      <th>E</th>\n",
       "      <th>F</th>\n",
       "    </tr>\n",
       "  </thead>\n",
       "  <tbody>\n",
       "    <tr>\n",
       "      <th>A</th>\n",
       "      <td>1</td>\n",
       "      <td>2</td>\n",
       "      <td>3</td>\n",
       "    </tr>\n",
       "    <tr>\n",
       "      <th>B</th>\n",
       "      <td>4</td>\n",
       "      <td>5</td>\n",
       "      <td>6</td>\n",
       "    </tr>\n",
       "    <tr>\n",
       "      <th>C</th>\n",
       "      <td>7</td>\n",
       "      <td>8</td>\n",
       "      <td>9</td>\n",
       "    </tr>\n",
       "  </tbody>\n",
       "</table>\n",
       "</div>"
      ],
      "text/plain": [
       "   D  E  F\n",
       "A  1  2  3\n",
       "B  4  5  6\n",
       "C  7  8  9"
      ]
     },
     "execution_count": 17,
     "metadata": {},
     "output_type": "execute_result"
    }
   ],
   "source": [
    "import numpy as np\n",
    "\n",
    "data = np.array([[1,2,3],[4,5,6],[7,8,9]])\n",
    "column = ['D','E','F']\n",
    "\n",
    "df = pd.DataFrame(data=data, index = ['A','B','C'], columns=column)\n",
    "\n",
    "df"
   ]
  },
  {
   "cell_type": "code",
   "execution_count": 18,
   "id": "e3e48113",
   "metadata": {
    "ExecuteTime": {
     "end_time": "2022-10-27T08:22:43.476905Z",
     "start_time": "2022-10-27T08:22:43.444924Z"
    }
   },
   "outputs": [
    {
     "data": {
      "text/html": [
       "<div>\n",
       "<style scoped>\n",
       "    .dataframe tbody tr th:only-of-type {\n",
       "        vertical-align: middle;\n",
       "    }\n",
       "\n",
       "    .dataframe tbody tr th {\n",
       "        vertical-align: top;\n",
       "    }\n",
       "\n",
       "    .dataframe thead th {\n",
       "        text-align: right;\n",
       "    }\n",
       "</style>\n",
       "<table border=\"1\" class=\"dataframe\">\n",
       "  <thead>\n",
       "    <tr style=\"text-align: right;\">\n",
       "      <th></th>\n",
       "      <th>country</th>\n",
       "      <th>rank</th>\n",
       "      <th>grade</th>\n",
       "    </tr>\n",
       "  </thead>\n",
       "  <tbody>\n",
       "    <tr>\n",
       "      <th>0</th>\n",
       "      <td>kor</td>\n",
       "      <td>1</td>\n",
       "      <td>A</td>\n",
       "    </tr>\n",
       "    <tr>\n",
       "      <th>1</th>\n",
       "      <td>usa</td>\n",
       "      <td>2</td>\n",
       "      <td>B</td>\n",
       "    </tr>\n",
       "    <tr>\n",
       "      <th>2</th>\n",
       "      <td>china</td>\n",
       "      <td>3</td>\n",
       "      <td>C</td>\n",
       "    </tr>\n",
       "    <tr>\n",
       "      <th>3</th>\n",
       "      <td>japan</td>\n",
       "      <td>4</td>\n",
       "      <td>D</td>\n",
       "    </tr>\n",
       "  </tbody>\n",
       "</table>\n",
       "</div>"
      ],
      "text/plain": [
       "  country  rank grade\n",
       "0     kor     1     A\n",
       "1     usa     2     B\n",
       "2   china     3     C\n",
       "3   japan     4     D"
      ]
     },
     "execution_count": 18,
     "metadata": {},
     "output_type": "execute_result"
    }
   ],
   "source": [
    "data = {\n",
    "    'country' : ['kor','usa','china','japan'],\n",
    "    'rank' : [1,2,3,4],\n",
    "    'grade' : ['A','B','C','D']\n",
    "}\n",
    "\n",
    "df = pd.DataFrame(data)\n",
    "df"
   ]
  },
  {
   "cell_type": "code",
   "execution_count": 25,
   "id": "6670ca7c",
   "metadata": {
    "ExecuteTime": {
     "end_time": "2022-10-27T08:29:17.944025Z",
     "start_time": "2022-10-27T08:29:17.932033Z"
    }
   },
   "outputs": [
    {
     "data": {
      "text/html": [
       "<div>\n",
       "<style scoped>\n",
       "    .dataframe tbody tr th:only-of-type {\n",
       "        vertical-align: middle;\n",
       "    }\n",
       "\n",
       "    .dataframe tbody tr th {\n",
       "        vertical-align: top;\n",
       "    }\n",
       "\n",
       "    .dataframe thead th {\n",
       "        text-align: right;\n",
       "    }\n",
       "</style>\n",
       "<table border=\"1\" class=\"dataframe\">\n",
       "  <thead>\n",
       "    <tr style=\"text-align: right;\">\n",
       "      <th></th>\n",
       "      <th>country</th>\n",
       "      <th>rank</th>\n",
       "    </tr>\n",
       "    <tr>\n",
       "      <th>grade</th>\n",
       "      <th></th>\n",
       "      <th></th>\n",
       "    </tr>\n",
       "  </thead>\n",
       "  <tbody>\n",
       "    <tr>\n",
       "      <th>A</th>\n",
       "      <td>kor</td>\n",
       "      <td>1</td>\n",
       "    </tr>\n",
       "    <tr>\n",
       "      <th>B</th>\n",
       "      <td>usa</td>\n",
       "      <td>2</td>\n",
       "    </tr>\n",
       "    <tr>\n",
       "      <th>C</th>\n",
       "      <td>china</td>\n",
       "      <td>3</td>\n",
       "    </tr>\n",
       "    <tr>\n",
       "      <th>D</th>\n",
       "      <td>japan</td>\n",
       "      <td>4</td>\n",
       "    </tr>\n",
       "  </tbody>\n",
       "</table>\n",
       "</div>"
      ],
      "text/plain": [
       "      country  rank\n",
       "grade              \n",
       "A         kor     1\n",
       "B         usa     2\n",
       "C       china     3\n",
       "D       japan     4"
      ]
     },
     "execution_count": 25,
     "metadata": {},
     "output_type": "execute_result"
    }
   ],
   "source": [
    "df = df.set_index('grade')\n",
    "df"
   ]
  },
  {
   "cell_type": "code",
   "execution_count": 26,
   "id": "36c4c857",
   "metadata": {
    "ExecuteTime": {
     "end_time": "2022-10-27T08:31:05.632172Z",
     "start_time": "2022-10-27T08:31:05.604209Z"
    }
   },
   "outputs": [
    {
     "data": {
      "text/html": [
       "<div>\n",
       "<style scoped>\n",
       "    .dataframe tbody tr th:only-of-type {\n",
       "        vertical-align: middle;\n",
       "    }\n",
       "\n",
       "    .dataframe tbody tr th {\n",
       "        vertical-align: top;\n",
       "    }\n",
       "\n",
       "    .dataframe thead th {\n",
       "        text-align: right;\n",
       "    }\n",
       "</style>\n",
       "<table border=\"1\" class=\"dataframe\">\n",
       "  <thead>\n",
       "    <tr style=\"text-align: right;\">\n",
       "      <th></th>\n",
       "      <th>country</th>\n",
       "      <th>rank</th>\n",
       "      <th>grade</th>\n",
       "    </tr>\n",
       "  </thead>\n",
       "  <tbody>\n",
       "    <tr>\n",
       "      <th>0</th>\n",
       "      <td>kor</td>\n",
       "      <td>1</td>\n",
       "      <td>A</td>\n",
       "    </tr>\n",
       "    <tr>\n",
       "      <th>1</th>\n",
       "      <td>usa</td>\n",
       "      <td>2</td>\n",
       "      <td>B</td>\n",
       "    </tr>\n",
       "    <tr>\n",
       "      <th>2</th>\n",
       "      <td>china</td>\n",
       "      <td>3</td>\n",
       "      <td>C</td>\n",
       "    </tr>\n",
       "    <tr>\n",
       "      <th>3</th>\n",
       "      <td>japan</td>\n",
       "      <td>4</td>\n",
       "      <td>D</td>\n",
       "    </tr>\n",
       "  </tbody>\n",
       "</table>\n",
       "</div>"
      ],
      "text/plain": [
       "  country  rank grade\n",
       "0     kor     1     A\n",
       "1     usa     2     B\n",
       "2   china     3     C\n",
       "3   japan     4     D"
      ]
     },
     "execution_count": 26,
     "metadata": {},
     "output_type": "execute_result"
    }
   ],
   "source": [
    "data = {\n",
    "    'country' : ['kor','usa','china','japan'],\n",
    "    'rank' : [1,2,3,4],\n",
    "    'grade' : ['A','B','C','D']\n",
    "}\n",
    "\n",
    "df = pd.DataFrame(data)\n",
    "df"
   ]
  },
  {
   "cell_type": "code",
   "execution_count": 27,
   "id": "a848bfff",
   "metadata": {
    "ExecuteTime": {
     "end_time": "2022-10-27T08:31:22.285496Z",
     "start_time": "2022-10-27T08:31:22.264507Z"
    }
   },
   "outputs": [
    {
     "data": {
      "text/plain": [
       "0      kor\n",
       "1      usa\n",
       "2    china\n",
       "3    japan\n",
       "Name: country, dtype: object"
      ]
     },
     "execution_count": 27,
     "metadata": {},
     "output_type": "execute_result"
    }
   ],
   "source": [
    "df.country"
   ]
  },
  {
   "cell_type": "code",
   "execution_count": 28,
   "id": "f1f3cdc1",
   "metadata": {
    "ExecuteTime": {
     "end_time": "2022-10-27T08:31:32.474790Z",
     "start_time": "2022-10-27T08:31:32.454798Z"
    }
   },
   "outputs": [
    {
     "data": {
      "text/plain": [
       "0      kor\n",
       "1      usa\n",
       "2    china\n",
       "3    japan\n",
       "Name: country, dtype: object"
      ]
     },
     "execution_count": 28,
     "metadata": {},
     "output_type": "execute_result"
    }
   ],
   "source": [
    "df['country']"
   ]
  },
  {
   "cell_type": "code",
   "execution_count": 31,
   "id": "9a163680",
   "metadata": {
    "ExecuteTime": {
     "end_time": "2022-10-27T08:33:31.743222Z",
     "start_time": "2022-10-27T08:33:31.732226Z"
    }
   },
   "outputs": [
    {
     "name": "stdout",
     "output_type": "stream",
     "text": [
      "  country grade\n",
      "0     kor     A\n",
      "1     usa     B\n",
      "2   china     C\n",
      "3   japan     D\n"
     ]
    }
   ],
   "source": [
    "print(df[['country','grade']])"
   ]
  },
  {
   "cell_type": "code",
   "execution_count": 32,
   "id": "ca7cb06e",
   "metadata": {
    "ExecuteTime": {
     "end_time": "2022-10-27T08:33:56.230462Z",
     "start_time": "2022-10-27T08:33:56.216470Z"
    }
   },
   "outputs": [
    {
     "data": {
      "text/plain": [
       "country    kor\n",
       "rank         1\n",
       "grade        A\n",
       "Name: 0, dtype: object"
      ]
     },
     "execution_count": 32,
     "metadata": {},
     "output_type": "execute_result"
    }
   ],
   "source": [
    "df.loc[0]"
   ]
  },
  {
   "cell_type": "code",
   "execution_count": 33,
   "id": "6a2d0529",
   "metadata": {
    "ExecuteTime": {
     "end_time": "2022-10-27T08:34:33.635247Z",
     "start_time": "2022-10-27T08:34:33.615257Z"
    }
   },
   "outputs": [
    {
     "data": {
      "text/html": [
       "<div>\n",
       "<style scoped>\n",
       "    .dataframe tbody tr th:only-of-type {\n",
       "        vertical-align: middle;\n",
       "    }\n",
       "\n",
       "    .dataframe tbody tr th {\n",
       "        vertical-align: top;\n",
       "    }\n",
       "\n",
       "    .dataframe thead th {\n",
       "        text-align: right;\n",
       "    }\n",
       "</style>\n",
       "<table border=\"1\" class=\"dataframe\">\n",
       "  <thead>\n",
       "    <tr style=\"text-align: right;\">\n",
       "      <th></th>\n",
       "      <th>country</th>\n",
       "      <th>rank</th>\n",
       "      <th>grade</th>\n",
       "    </tr>\n",
       "  </thead>\n",
       "  <tbody>\n",
       "    <tr>\n",
       "      <th>0</th>\n",
       "      <td>kor</td>\n",
       "      <td>1</td>\n",
       "      <td>A</td>\n",
       "    </tr>\n",
       "    <tr>\n",
       "      <th>1</th>\n",
       "      <td>usa</td>\n",
       "      <td>2</td>\n",
       "      <td>B</td>\n",
       "    </tr>\n",
       "    <tr>\n",
       "      <th>2</th>\n",
       "      <td>china</td>\n",
       "      <td>3</td>\n",
       "      <td>C</td>\n",
       "    </tr>\n",
       "  </tbody>\n",
       "</table>\n",
       "</div>"
      ],
      "text/plain": [
       "  country  rank grade\n",
       "0     kor     1     A\n",
       "1     usa     2     B\n",
       "2   china     3     C"
      ]
     },
     "execution_count": 33,
     "metadata": {},
     "output_type": "execute_result"
    }
   ],
   "source": [
    "df.loc[0:2]"
   ]
  },
  {
   "cell_type": "code",
   "execution_count": 34,
   "id": "d620e599",
   "metadata": {
    "ExecuteTime": {
     "end_time": "2022-10-27T08:35:46.073173Z",
     "start_time": "2022-10-27T08:35:46.050187Z"
    }
   },
   "outputs": [
    {
     "data": {
      "text/html": [
       "<div>\n",
       "<style scoped>\n",
       "    .dataframe tbody tr th:only-of-type {\n",
       "        vertical-align: middle;\n",
       "    }\n",
       "\n",
       "    .dataframe tbody tr th {\n",
       "        vertical-align: top;\n",
       "    }\n",
       "\n",
       "    .dataframe thead th {\n",
       "        text-align: right;\n",
       "    }\n",
       "</style>\n",
       "<table border=\"1\" class=\"dataframe\">\n",
       "  <thead>\n",
       "    <tr style=\"text-align: right;\">\n",
       "      <th></th>\n",
       "      <th>country</th>\n",
       "      <th>rank</th>\n",
       "      <th>grade</th>\n",
       "    </tr>\n",
       "  </thead>\n",
       "  <tbody>\n",
       "    <tr>\n",
       "      <th>0</th>\n",
       "      <td>kor</td>\n",
       "      <td>1</td>\n",
       "      <td>A</td>\n",
       "    </tr>\n",
       "    <tr>\n",
       "      <th>2</th>\n",
       "      <td>china</td>\n",
       "      <td>3</td>\n",
       "      <td>C</td>\n",
       "    </tr>\n",
       "  </tbody>\n",
       "</table>\n",
       "</div>"
      ],
      "text/plain": [
       "  country  rank grade\n",
       "0     kor     1     A\n",
       "2   china     3     C"
      ]
     },
     "execution_count": 34,
     "metadata": {},
     "output_type": "execute_result"
    }
   ],
   "source": [
    "df.loc[[0,2]]"
   ]
  },
  {
   "cell_type": "code",
   "execution_count": 35,
   "id": "c9aa93fa",
   "metadata": {
    "ExecuteTime": {
     "end_time": "2022-10-27T08:36:57.758593Z",
     "start_time": "2022-10-27T08:36:57.739604Z"
    }
   },
   "outputs": [
    {
     "data": {
      "text/plain": [
       "'A'"
      ]
     },
     "execution_count": 35,
     "metadata": {},
     "output_type": "execute_result"
    }
   ],
   "source": [
    "df.loc[0,'grade']"
   ]
  },
  {
   "cell_type": "code",
   "execution_count": 41,
   "id": "a925d87b",
   "metadata": {
    "ExecuteTime": {
     "end_time": "2022-10-27T08:37:29.740008Z",
     "start_time": "2022-10-27T08:37:29.724014Z"
    }
   },
   "outputs": [
    {
     "data": {
      "text/plain": [
       "'A'"
      ]
     },
     "execution_count": 41,
     "metadata": {},
     "output_type": "execute_result"
    }
   ],
   "source": [
    "df['grade'][0]"
   ]
  },
  {
   "cell_type": "code",
   "execution_count": 42,
   "id": "b97ceb18",
   "metadata": {
    "ExecuteTime": {
     "end_time": "2022-10-27T08:38:18.703736Z",
     "start_time": "2022-10-27T08:38:18.683767Z"
    },
    "scrolled": true
   },
   "outputs": [
    {
     "data": {
      "text/html": [
       "<div>\n",
       "<style scoped>\n",
       "    .dataframe tbody tr th:only-of-type {\n",
       "        vertical-align: middle;\n",
       "    }\n",
       "\n",
       "    .dataframe tbody tr th {\n",
       "        vertical-align: top;\n",
       "    }\n",
       "\n",
       "    .dataframe thead th {\n",
       "        text-align: right;\n",
       "    }\n",
       "</style>\n",
       "<table border=\"1\" class=\"dataframe\">\n",
       "  <thead>\n",
       "    <tr style=\"text-align: right;\">\n",
       "      <th></th>\n",
       "      <th>country</th>\n",
       "      <th>grade</th>\n",
       "    </tr>\n",
       "  </thead>\n",
       "  <tbody>\n",
       "    <tr>\n",
       "      <th>0</th>\n",
       "      <td>kor</td>\n",
       "      <td>A</td>\n",
       "    </tr>\n",
       "    <tr>\n",
       "      <th>1</th>\n",
       "      <td>usa</td>\n",
       "      <td>B</td>\n",
       "    </tr>\n",
       "    <tr>\n",
       "      <th>2</th>\n",
       "      <td>china</td>\n",
       "      <td>C</td>\n",
       "    </tr>\n",
       "  </tbody>\n",
       "</table>\n",
       "</div>"
      ],
      "text/plain": [
       "  country grade\n",
       "0     kor     A\n",
       "1     usa     B\n",
       "2   china     C"
      ]
     },
     "execution_count": 42,
     "metadata": {},
     "output_type": "execute_result"
    }
   ],
   "source": [
    "df.loc[0:2, ['country','grade']]"
   ]
  },
  {
   "cell_type": "code",
   "execution_count": 54,
   "id": "e9c05efc",
   "metadata": {
    "ExecuteTime": {
     "end_time": "2022-10-27T08:46:25.707951Z",
     "start_time": "2022-10-27T08:46:25.682967Z"
    }
   },
   "outputs": [
    {
     "data": {
      "text/html": [
       "<div>\n",
       "<style scoped>\n",
       "    .dataframe tbody tr th:only-of-type {\n",
       "        vertical-align: middle;\n",
       "    }\n",
       "\n",
       "    .dataframe tbody tr th {\n",
       "        vertical-align: top;\n",
       "    }\n",
       "\n",
       "    .dataframe thead th {\n",
       "        text-align: right;\n",
       "    }\n",
       "</style>\n",
       "<table border=\"1\" class=\"dataframe\">\n",
       "  <thead>\n",
       "    <tr style=\"text-align: right;\">\n",
       "      <th></th>\n",
       "      <th>country</th>\n",
       "      <th>rank</th>\n",
       "      <th>grade</th>\n",
       "    </tr>\n",
       "  </thead>\n",
       "  <tbody>\n",
       "    <tr>\n",
       "      <th>0</th>\n",
       "      <td>kor</td>\n",
       "      <td>1</td>\n",
       "      <td>A</td>\n",
       "    </tr>\n",
       "    <tr>\n",
       "      <th>2</th>\n",
       "      <td>china</td>\n",
       "      <td>3</td>\n",
       "      <td>C</td>\n",
       "    </tr>\n",
       "    <tr>\n",
       "      <th>3</th>\n",
       "      <td>japan</td>\n",
       "      <td>4</td>\n",
       "      <td>D</td>\n",
       "    </tr>\n",
       "  </tbody>\n",
       "</table>\n",
       "</div>"
      ],
      "text/plain": [
       "  country  rank grade\n",
       "0     kor     1     A\n",
       "2   china     3     C\n",
       "3   japan     4     D"
      ]
     },
     "execution_count": 54,
     "metadata": {},
     "output_type": "execute_result"
    }
   ],
   "source": [
    "df.loc[(df['grade']=='A') | (df['rank']>2)]"
   ]
  },
  {
   "cell_type": "code",
   "execution_count": 57,
   "id": "452e866e",
   "metadata": {
    "ExecuteTime": {
     "end_time": "2022-10-28T03:24:44.703053Z",
     "start_time": "2022-10-28T03:24:44.683068Z"
    }
   },
   "outputs": [
    {
     "data": {
      "text/html": [
       "<div>\n",
       "<style scoped>\n",
       "    .dataframe tbody tr th:only-of-type {\n",
       "        vertical-align: middle;\n",
       "    }\n",
       "\n",
       "    .dataframe tbody tr th {\n",
       "        vertical-align: top;\n",
       "    }\n",
       "\n",
       "    .dataframe thead th {\n",
       "        text-align: right;\n",
       "    }\n",
       "</style>\n",
       "<table border=\"1\" class=\"dataframe\">\n",
       "  <thead>\n",
       "    <tr style=\"text-align: right;\">\n",
       "      <th></th>\n",
       "      <th>country</th>\n",
       "      <th>rank</th>\n",
       "      <th>grade</th>\n",
       "    </tr>\n",
       "  </thead>\n",
       "  <tbody>\n",
       "    <tr>\n",
       "      <th>0</th>\n",
       "      <td>kor</td>\n",
       "      <td>1</td>\n",
       "      <td>A</td>\n",
       "    </tr>\n",
       "  </tbody>\n",
       "</table>\n",
       "</div>"
      ],
      "text/plain": [
       "  country  rank grade\n",
       "0     kor     1     A"
      ]
     },
     "execution_count": 57,
     "metadata": {},
     "output_type": "execute_result"
    }
   ],
   "source": [
    "df[df['country'] == 'kor']"
   ]
  }
 ],
 "metadata": {
  "kernelspec": {
   "display_name": "Python 3 (ipykernel)",
   "language": "python",
   "name": "python3"
  },
  "language_info": {
   "codemirror_mode": {
    "name": "ipython",
    "version": 3
   },
   "file_extension": ".py",
   "mimetype": "text/x-python",
   "name": "python",
   "nbconvert_exporter": "python",
   "pygments_lexer": "ipython3",
   "version": "3.9.7"
  },
  "toc": {
   "base_numbering": 1,
   "nav_menu": {},
   "number_sections": true,
   "sideBar": true,
   "skip_h1_title": false,
   "title_cell": "Table of Contents",
   "title_sidebar": "Contents",
   "toc_cell": false,
   "toc_position": {},
   "toc_section_display": true,
   "toc_window_display": false
  },
  "varInspector": {
   "cols": {
    "lenName": 16,
    "lenType": 16,
    "lenVar": 40
   },
   "kernels_config": {
    "python": {
     "delete_cmd_postfix": "",
     "delete_cmd_prefix": "del ",
     "library": "var_list.py",
     "varRefreshCmd": "print(var_dic_list())"
    },
    "r": {
     "delete_cmd_postfix": ") ",
     "delete_cmd_prefix": "rm(",
     "library": "var_list.r",
     "varRefreshCmd": "cat(var_dic_list()) "
    }
   },
   "types_to_exclude": [
    "module",
    "function",
    "builtin_function_or_method",
    "instance",
    "_Feature"
   ],
   "window_display": false
  }
 },
 "nbformat": 4,
 "nbformat_minor": 5
}
