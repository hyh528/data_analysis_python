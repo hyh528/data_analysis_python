{
 "cells": [
  {
   "cell_type": "code",
   "execution_count": 5,
   "id": "c3d396ad",
   "metadata": {
    "ExecuteTime": {
     "end_time": "2022-10-26T04:05:20.847894Z",
     "start_time": "2022-10-26T04:05:17.151230Z"
    }
   },
   "outputs": [],
   "source": [
    "from selenium import webdriver\n",
    "from selenium.webdriver.common.by import By\n",
    "driver = webdriver.Chrome()"
   ]
  },
  {
   "cell_type": "code",
   "execution_count": 7,
   "id": "190a72c0",
   "metadata": {
    "ExecuteTime": {
     "end_time": "2022-10-26T04:09:30.948175Z",
     "start_time": "2022-10-26T04:09:30.927190Z"
    }
   },
   "outputs": [],
   "source": [
    "import requests\n",
    "from selenium.webdriver.common.keys import Keys\n",
    "from selenium.webdriver.support.ui import WebDriverWait\n",
    "from selenium.webdriver.support import expected_conditions as EC\n",
    "from selenium.webdriver.common.by import By\n",
    "from selenium.webdriver.common.keys import Keys\n",
    "from bs4 import BeautifulSoup\n",
    "import time\n",
    "from time import sleep\n",
    "import random\n",
    "import pandas as pd\n",
    "import numpy as np"
   ]
  },
  {
   "cell_type": "code",
   "execution_count": 3,
   "id": "6887a98a",
   "metadata": {
    "ExecuteTime": {
     "end_time": "2022-10-26T04:04:54.903469Z",
     "start_time": "2022-10-26T04:04:54.885480Z"
    }
   },
   "outputs": [],
   "source": [
    "URL = 'https://play.google.com/store/apps/details?id=net.gameduo.ninja'"
   ]
  },
  {
   "cell_type": "code",
   "execution_count": 6,
   "id": "03014707",
   "metadata": {
    "ExecuteTime": {
     "end_time": "2022-10-26T04:05:40.520407Z",
     "start_time": "2022-10-26T04:05:36.572818Z"
    }
   },
   "outputs": [],
   "source": [
    "driver.get(URL)"
   ]
  },
  {
   "cell_type": "code",
   "execution_count": 15,
   "id": "cc82163d",
   "metadata": {
    "ExecuteTime": {
     "end_time": "2022-10-26T04:23:11.533673Z",
     "start_time": "2022-10-26T04:23:08.861121Z"
    }
   },
   "outputs": [],
   "source": [
    "see_all_reviews = '//*[@id=\"ow76\"]/section/header/div/div[2]/button'\n",
    "\n",
    "seed = np.random.randint(100)\n",
    "np.random.seed(seed)\n",
    "a = np.random.randint(5)\n",
    "time.sleep(a)\n",
    "    \n",
    "driver.find_element(By.XPATH,see_all_reviews).click()"
   ]
  },
  {
   "cell_type": "code",
   "execution_count": 16,
   "id": "483d86ff",
   "metadata": {
    "ExecuteTime": {
     "end_time": "2022-10-26T04:24:13.662084Z",
     "start_time": "2022-10-26T04:24:13.654088Z"
    }
   },
   "outputs": [],
   "source": [
    "def scroll(pop):\n",
    "    try:        \n",
    "        last_height = driver.execute_script(\"return arguments[0].scrollHeight\", modal)\n",
    "        while True:\n",
    "            driver.execute_script(\"arguments[0].scrollTo(0, arguments[0].scrollHeight);\", modal)\n",
    "            \n",
    "            time.sleep(a)\n",
    "            \n",
    "            driver.execute_script(\"arguments[0].scrollTo(0, arguments[0].scrollHeight-50);\", modal)\n",
    "            time.sleep(a)\n",
    "         \n",
    "            new_height = driver.execute_script(\"return arguments[0].scrollHeight\", modal)\n",
    "            try:\n",
    "                see_all_reviews = driver.find_element_by_xpath('/html/body/div[1]/div[4]/c-wiz/div/div[2]/div/div/main/div/div[1]/div[2]/div[2]/div/span/span').click()\n",
    "            except:\n",
    "                if new_height == last_height:\n",
    "                    print(\"done\")\n",
    "                    break\n",
    "                last_height = new_height\n",
    "                \n",
    "    except Exception as e:\n",
    "        print(\"error: \", e)"
   ]
  },
  {
   "cell_type": "code",
   "execution_count": null,
   "id": "8db2eefe",
   "metadata": {
    "ExecuteTime": {
     "start_time": "2022-10-26T04:24:18.269Z"
    }
   },
   "outputs": [],
   "source": [
    "pop = WebDriverWait(driver, 2).until(EC.element_to_be_clickable((By.XPATH, \"//div[@class='fysCi']\")))\n",
    "scroll(pop)"
   ]
  },
  {
   "cell_type": "code",
   "execution_count": null,
   "id": "99fd6add",
   "metadata": {},
   "outputs": [],
   "source": [
    "html_source = driver.page_source\n",
    "soup_source = BeautifulSoup(html_source, 'html.parser')"
   ]
  },
  {
   "cell_type": "code",
   "execution_count": null,
   "id": "a86be344",
   "metadata": {},
   "outputs": [],
   "source": [
    "driver.close()"
   ]
  },
  {
   "cell_type": "code",
   "execution_count": null,
   "id": "a749db66",
   "metadata": {},
   "outputs": [],
   "source": [
    "review_source = soup_source.find_all(class_ = 'RHo1pe')\n",
    "\n",
    "dataset = []\n",
    "\n",
    "review_num = 0 \n",
    "\n",
    "for review in review_source:\n",
    "    review_num+=1\n",
    "   \n",
    "    date_full = review.find_all(class_ = 'bp9Aid')[0].text\n",
    "    date_year = date_full[0:4] \n",
    "    \n",
    "    year_index = date_full.find('Ã«Â…Â„')\n",
    "    month_index = date_full.find('Ã¬Â›Â”')\n",
    "    day_index = date_full.find('Ã¬ÂÂ¼')\n",
    "    \n",
    "    date_month = str(int(date_full[year_index+1:month_index])) \n",
    "        date_month = '0' + date_month\n",
    "    \n",
    "    date_day = str(int(date_full[month_index+1:day_index])) \n",
    "    if len(date_day) == 1:\n",
    "        date_day = '0' + date_day\n",
    "    \n",
    "   \n",
    "    date_full = date_year + date_month + date_day\n",
    "    user_name = review.find_all(class_ = 'X5PpBb')[0].text\n",
    "    rating = review.find_all(class_ = \"iXRFPc\")[0]['aria-label'][10]\n",
    "    content = review.find_all(class_ = 'h3YV2d')[0].text \n",
    "\n",
    "    data = {\n",
    "        \"id\": review_num, \n",
    "        \"date\": date_full,\n",
    "        \"dateYear\": date_year,\n",
    "        \"dateMonth\": date_month,\n",
    "        \"dateDay\": date_day,\n",
    "        \"rating\": rating,\n",
    "        \"userName\": user_name,\n",
    "        \"content\": content\n",
    "    }\n",
    "    dataset.append(data)"
   ]
  }
 ],
 "metadata": {
  "kernelspec": {
   "display_name": "Python 3 (ipykernel)",
   "language": "python",
   "name": "python3"
  },
  "language_info": {
   "codemirror_mode": {
    "name": "ipython",
    "version": 3
   },
   "file_extension": ".py",
   "mimetype": "text/x-python",
   "name": "python",
   "nbconvert_exporter": "python",
   "pygments_lexer": "ipython3",
   "version": "3.9.7"
  },
  "toc": {
   "base_numbering": 1,
   "nav_menu": {},
   "number_sections": true,
   "sideBar": true,
   "skip_h1_title": false,
   "title_cell": "Table of Contents",
   "title_sidebar": "Contents",
   "toc_cell": false,
   "toc_position": {},
   "toc_section_display": true,
   "toc_window_display": false
  },
  "varInspector": {
   "cols": {
    "lenName": 16,
    "lenType": 16,
    "lenVar": 40
   },
   "kernels_config": {
    "python": {
     "delete_cmd_postfix": "",
     "delete_cmd_prefix": "del ",
     "library": "var_list.py",
     "varRefreshCmd": "print(var_dic_list())"
    },
    "r": {
     "delete_cmd_postfix": ") ",
     "delete_cmd_prefix": "rm(",
     "library": "var_list.r",
     "varRefreshCmd": "cat(var_dic_list()) "
    }
   },
   "types_to_exclude": [
    "module",
    "function",
    "builtin_function_or_method",
    "instance",
    "_Feature"
   ],
   "window_display": false
  }
 },
 "nbformat": 4,
 "nbformat_minor": 5
}
