{
 "cells": [
  {
   "cell_type": "code",
   "execution_count": 5,
   "id": "25c66c30",
   "metadata": {
    "ExecuteTime": {
     "end_time": "2022-10-26T04:05:20.847894Z",
     "start_time": "2022-10-26T04:05:17.151230Z"
    }
   },
   "outputs": [],
   "source": [
    "from selenium import webdriver\n",
    "from selenium.webdriver.common.by import By\n"
   ]
  },
  {
   "cell_type": "code",
   "execution_count": 7,
   "id": "7794430f",
   "metadata": {
    "ExecuteTime": {
     "end_time": "2022-10-26T04:09:30.948175Z",
     "start_time": "2022-10-26T04:09:30.927190Z"
    }
   },
   "outputs": [],
   "source": [
    "import requests\n",
    "from selenium.webdriver.common.keys import Keys\n",
    "from selenium.webdriver.common.by import By\n",
    "from selenium.webdriver.common.keys import Keys\n",
    "from selenium.webdriver.support import expected_conditions as EC\n",
    "from bs4 import BeautifulSoup\n",
    "import time\n",
    "from time import sleep\n",
    "import random\n",
    "import pandas as pd\n",
    "import numpy as np"
   ]
  },
  {
   "cell_type": "code",
   "execution_count": 45,
   "id": "1de9d215",
   "metadata": {
    "ExecuteTime": {
     "end_time": "2022-10-26T05:42:02.636462Z",
     "start_time": "2022-10-26T05:41:59.618840Z"
    }
   },
   "outputs": [],
   "source": [
    "driver = webdriver.Chrome()"
   ]
  },
  {
   "cell_type": "code",
   "execution_count": 46,
   "id": "e6a563bf",
   "metadata": {
    "ExecuteTime": {
     "end_time": "2022-10-26T05:42:24.472647Z",
     "start_time": "2022-10-26T05:42:22.966775Z"
    }
   },
   "outputs": [
    {
     "name": "stdout",
     "output_type": "stream",
     "text": [
      "검색어 입력 : 닌자대전\n"
     ]
    }
   ],
   "source": [
    "keyword = input('검색어 입력 : ')\n",
    "URL = f'https://play.google.com/store/search?q={keyword}&c=apps'"
   ]
  },
  {
   "cell_type": "code",
   "execution_count": null,
   "id": "342955eb",
   "metadata": {},
   "outputs": [],
   "source": [
    "browser.find_element(By.CLASS_NAME, 'Si6A0c').a_tag."
   ]
  },
  {
   "cell_type": "code",
   "execution_count": null,
   "id": "d533537a",
   "metadata": {},
   "outputs": [],
   "source": [
    "#닌자대전 \n",
    "https://play.google.com/store/apps/details?id=net.gameduo.ninja"
   ]
  },
  {
   "cell_type": "code",
   "execution_count": 47,
   "id": "6eec59fd",
   "metadata": {
    "ExecuteTime": {
     "end_time": "2022-10-26T05:43:19.631415Z",
     "start_time": "2022-10-26T05:43:16.534036Z"
    }
   },
   "outputs": [],
   "source": [
    "driver.get(URL)"
   ]
  },
  {
   "cell_type": "code",
   "execution_count": 15,
   "id": "577f9bc0",
   "metadata": {
    "ExecuteTime": {
     "end_time": "2022-10-26T04:23:11.533673Z",
     "start_time": "2022-10-26T04:23:08.861121Z"
    }
   },
   "outputs": [],
   "source": [
    "see_all_reviews = '//*[@id=\"ow76\"]/section/header/div/div[2]/button'\n",
    "\n",
    "seed = np.random.randint(100)\n",
    "np.random.seed(seed)\n",
    "a = np.random.randint(5)\n",
    "time.sleep(a)\n",
    "    \n",
    "driver.find_element(By.XPATH,see_all_reviews).click()"
   ]
  },
  {
   "cell_type": "code",
   "execution_count": 50,
   "id": "53e7a10e",
   "metadata": {
    "ExecuteTime": {
     "end_time": "2022-10-26T05:55:23.578097Z",
     "start_time": "2022-10-26T05:55:23.548116Z"
    }
   },
   "outputs": [],
   "source": [
    "def scroll(pop):    \n",
    "    last_height = driver.execute_script(\"return arguments[0].scrollHeight\", modal)\n",
    "    \n",
    "    while True:\n",
    "        driver.execute_script(\"arguments[0].scrollTo(0, arguments[0].scrollHeight);\", modal)\n",
    "            \n",
    "        time.sleep(a)\n",
    "            \n",
    "        driver.execute_script(\"arguments[0].scrollTo(0, arguments[0].scrollHeight-50);\", modal)\n",
    "        time.sleep(a)\n",
    "         \n",
    "        new_height = driver.execute_script(\"return arguments[0].scrollHeight\", modal)\n",
    "            \n",
    "        try:\n",
    "             see_all_reviews = driver.find_element_by_xpath('/html/body/div[1]/div[4]/c-wiz/div/div[2]/div/div/main/div/div[1]/div[2]/div[2]/div/span/span').click()\n",
    "            \n",
    "        except:\n",
    "            if new_height == last_height:\n",
    "                print(\"done\")\n",
    "                break\n",
    "            last_height = new_height\n",
    "                "
   ]
  },
  {
   "cell_type": "code",
   "execution_count": 17,
   "id": "57deb3b2",
   "metadata": {
    "ExecuteTime": {
     "end_time": "2022-10-26T05:04:33.615552Z",
     "start_time": "2022-10-26T04:24:18.270644Z"
    }
   },
   "outputs": [
    {
     "name": "stdout",
     "output_type": "stream",
     "text": [
      "done\n"
     ]
    }
   ],
   "source": [
    "pop = WebDriverWait(driver, 2).until(EC.element_to_be_clickable((By.XPATH, \"//div[@class='fysCi']\")))\n",
    "scroll(pop)"
   ]
  },
  {
   "cell_type": "code",
   "execution_count": 19,
   "id": "75b4a5db",
   "metadata": {
    "ExecuteTime": {
     "end_time": "2022-10-26T05:16:05.485327Z",
     "start_time": "2022-10-26T05:13:58.946215Z"
    }
   },
   "outputs": [],
   "source": [
    "html = driver.page_source\n",
    "soup = BeautifulSoup(html, 'html.parser')"
   ]
  },
  {
   "cell_type": "code",
   "execution_count": 30,
   "id": "428c07c2",
   "metadata": {
    "ExecuteTime": {
     "end_time": "2022-10-26T05:28:02.740987Z",
     "start_time": "2022-10-26T05:28:01.977060Z"
    }
   },
   "outputs": [],
   "source": [
    "driver.close()"
   ]
  },
  {
   "cell_type": "code",
   "execution_count": 33,
   "id": "92911049",
   "metadata": {
    "ExecuteTime": {
     "end_time": "2022-10-26T05:30:51.527109Z",
     "start_time": "2022-10-26T05:30:51.485128Z"
    }
   },
   "outputs": [
    {
     "name": "stdout",
     "output_type": "stream",
     "text": [
      "2020년 3월 30일\n"
     ]
    }
   ],
   "source": [
    "date = review.find_all(class_ = 'bp9Aid')[0].text\n",
    "print(date)"
   ]
  },
  {
   "cell_type": "code",
   "execution_count": 34,
   "id": "bada19d8",
   "metadata": {
    "ExecuteTime": {
     "end_time": "2022-10-26T05:33:32.076598Z",
     "start_time": "2022-10-26T05:33:32.064587Z"
    }
   },
   "outputs": [
    {
     "name": "stdout",
     "output_type": "stream",
     "text": [
      "Google 사용자\n"
     ]
    }
   ],
   "source": [
    "user_name = review.find_all(class_ = 'X5PpBb')[0].text\n",
    "print(user_name)"
   ]
  },
  {
   "cell_type": "code",
   "execution_count": 35,
   "id": "ab2216b8",
   "metadata": {
    "ExecuteTime": {
     "end_time": "2022-10-26T05:34:19.521872Z",
     "start_time": "2022-10-26T05:34:19.506879Z"
    }
   },
   "outputs": [
    {
     "name": "stdout",
     "output_type": "stream",
     "text": [
      "5\n"
     ]
    }
   ],
   "source": [
    "rating = review.find_all(class_ = \"iXRFPc\")[0]['aria-label'][10]\n",
    "print(rating)"
   ]
  },
  {
   "cell_type": "code",
   "execution_count": 36,
   "id": "ab8ce8e5",
   "metadata": {
    "ExecuteTime": {
     "end_time": "2022-10-26T05:35:03.114479Z",
     "start_time": "2022-10-26T05:35:03.071504Z"
    }
   },
   "outputs": [
    {
     "name": "stdout",
     "output_type": "stream",
     "text": [
      "잼썽\n"
     ]
    }
   ],
   "source": [
    "content = review.find_all(class_ = 'h3YV2d')[0].text \n",
    "print(content)"
   ]
  },
  {
   "cell_type": "code",
   "execution_count": 20,
   "id": "04b5b8c2",
   "metadata": {
    "ExecuteTime": {
     "end_time": "2022-10-26T05:19:28.871316Z",
     "start_time": "2022-10-26T05:19:09.868853Z"
    }
   },
   "outputs": [],
   "source": [
    "reviews = soup.find_all(class_ = 'RHo1pe')\n",
    "\n",
    "data_list = []\n",
    "\n",
    "review_num = 0 \n",
    "\n",
    "for review in reviews:\n",
    "    review_num+=1\n",
    "   \n",
    "    date = review.find_all(class_ = 'bp9Aid')[0].text\n",
    "    user_name = review.find_all(class_ = 'X5PpBb')[0].text\n",
    "    rating = review.find_all(class_ = \"iXRFPc\")[0]['aria-label'][10]\n",
    "    content = review.find_all(class_ = 'h3YV2d')[0].text \n",
    "\n",
    "    data = {\n",
    "        \"num\": review_num, \n",
    "        \"date\": date,\n",
    "        \"rating\": rating,\n",
    "        \"userName\": user_name,\n",
    "        \"content\": content\n",
    "    }\n",
    "    \n",
    "    data_list.append(data)"
   ]
  },
  {
   "cell_type": "code",
   "execution_count": 22,
   "id": "62ca511d",
   "metadata": {
    "ExecuteTime": {
     "end_time": "2022-10-26T05:22:39.210168Z",
     "start_time": "2022-10-26T05:22:39.065918Z"
    }
   },
   "outputs": [],
   "source": [
    "df = pd.DataFrame(data_list)\n",
    "df.to_csv('google_play_reviews.csv', encoding = 'utf-8-sig', index=False)"
   ]
  },
  {
   "cell_type": "code",
   "execution_count": 29,
   "id": "4feace9d",
   "metadata": {
    "ExecuteTime": {
     "end_time": "2022-10-26T05:27:14.475821Z",
     "start_time": "2022-10-26T05:27:14.370862Z"
    }
   },
   "outputs": [
    {
     "data": {
      "text/html": [
       "<div>\n",
       "<style scoped>\n",
       "    .dataframe tbody tr th:only-of-type {\n",
       "        vertical-align: middle;\n",
       "    }\n",
       "\n",
       "    .dataframe tbody tr th {\n",
       "        vertical-align: top;\n",
       "    }\n",
       "\n",
       "    .dataframe thead th {\n",
       "        text-align: right;\n",
       "    }\n",
       "</style>\n",
       "<table border=\"1\" class=\"dataframe\">\n",
       "  <thead>\n",
       "    <tr style=\"text-align: right;\">\n",
       "      <th></th>\n",
       "      <th>num</th>\n",
       "      <th>date</th>\n",
       "      <th>rating</th>\n",
       "      <th>userName</th>\n",
       "      <th>content</th>\n",
       "    </tr>\n",
       "  </thead>\n",
       "  <tbody>\n",
       "    <tr>\n",
       "      <th>0</th>\n",
       "      <td>1</td>\n",
       "      <td>2022년 9월 29일</td>\n",
       "      <td>5</td>\n",
       "      <td>황재준</td>\n",
       "      <td>이 게임이 갓게임인 이유 1.5성은 극악의 확률이다. 이런것 없이 5성닌자들이 많이...</td>\n",
       "    </tr>\n",
       "    <tr>\n",
       "      <th>1</th>\n",
       "      <td>2</td>\n",
       "      <td>2019년 11월 28일</td>\n",
       "      <td>5</td>\n",
       "      <td>Google 사용자</td>\n",
       "      <td>게임 재밌게 잘하고있습니다. 근데 요번에 업데이트를 한 후 버그가 약간 있는것같습니...</td>\n",
       "    </tr>\n",
       "    <tr>\n",
       "      <th>2</th>\n",
       "      <td>3</td>\n",
       "      <td>2020년 1월 20일</td>\n",
       "      <td>5</td>\n",
       "      <td>Google 사용자</td>\n",
       "      <td>게임방식이 직관적인 반면 스킬 조합 부분에서는 흥미가 일만한 퍼즐 요소가 있어서 굉...</td>\n",
       "    </tr>\n",
       "    <tr>\n",
       "      <th>3</th>\n",
       "      <td>4</td>\n",
       "      <td>2020년 3월 12일</td>\n",
       "      <td>5</td>\n",
       "      <td>Google 사용자</td>\n",
       "      <td>정말 제 인생겜입니다, 컨트롤이 중요시되며 좋은 아이템도 많이 드랍해주어서 무과금도...</td>\n",
       "    </tr>\n",
       "    <tr>\n",
       "      <th>4</th>\n",
       "      <td>5</td>\n",
       "      <td>2020년 6월 17일</td>\n",
       "      <td>5</td>\n",
       "      <td>렛츠고흐</td>\n",
       "      <td>게임 다 좋고 재밌습니다. 자기 노력만 있다면 투자한 시간만큼 스펙업도 됌 아직 수...</td>\n",
       "    </tr>\n",
       "    <tr>\n",
       "      <th>...</th>\n",
       "      <td>...</td>\n",
       "      <td>...</td>\n",
       "      <td>...</td>\n",
       "      <td>...</td>\n",
       "      <td>...</td>\n",
       "    </tr>\n",
       "    <tr>\n",
       "      <th>6595</th>\n",
       "      <td>6596</td>\n",
       "      <td>2020년 3월 25일</td>\n",
       "      <td>5</td>\n",
       "      <td>Google 사용자</td>\n",
       "      <td>버그</td>\n",
       "    </tr>\n",
       "    <tr>\n",
       "      <th>6596</th>\n",
       "      <td>6597</td>\n",
       "      <td>2020년 3월 29일</td>\n",
       "      <td>5</td>\n",
       "      <td>Google 사용자</td>\n",
       "      <td>Dd</td>\n",
       "    </tr>\n",
       "    <tr>\n",
       "      <th>6597</th>\n",
       "      <td>6598</td>\n",
       "      <td>2020년 3월 21일</td>\n",
       "      <td>5</td>\n",
       "      <td>Google 사용자</td>\n",
       "      <td>졸쟘</td>\n",
       "    </tr>\n",
       "    <tr>\n",
       "      <th>6598</th>\n",
       "      <td>6599</td>\n",
       "      <td>2020년 3월 29일</td>\n",
       "      <td>4</td>\n",
       "      <td>Google 사용자</td>\n",
       "      <td>쏘쏘</td>\n",
       "    </tr>\n",
       "    <tr>\n",
       "      <th>6599</th>\n",
       "      <td>6600</td>\n",
       "      <td>2020년 3월 30일</td>\n",
       "      <td>5</td>\n",
       "      <td>Google 사용자</td>\n",
       "      <td>잼썽</td>\n",
       "    </tr>\n",
       "  </tbody>\n",
       "</table>\n",
       "<p>6600 rows × 5 columns</p>\n",
       "</div>"
      ],
      "text/plain": [
       "       num           date  rating    userName  \\\n",
       "0        1   2022년 9월 29일       5         황재준   \n",
       "1        2  2019년 11월 28일       5  Google 사용자   \n",
       "2        3   2020년 1월 20일       5  Google 사용자   \n",
       "3        4   2020년 3월 12일       5  Google 사용자   \n",
       "4        5   2020년 6월 17일       5        렛츠고흐   \n",
       "...    ...            ...     ...         ...   \n",
       "6595  6596   2020년 3월 25일       5  Google 사용자   \n",
       "6596  6597   2020년 3월 29일       5  Google 사용자   \n",
       "6597  6598   2020년 3월 21일       5  Google 사용자   \n",
       "6598  6599   2020년 3월 29일       4  Google 사용자   \n",
       "6599  6600   2020년 3월 30일       5  Google 사용자   \n",
       "\n",
       "                                                content  \n",
       "0     이 게임이 갓게임인 이유 1.5성은 극악의 확률이다. 이런것 없이 5성닌자들이 많이...  \n",
       "1     게임 재밌게 잘하고있습니다. 근데 요번에 업데이트를 한 후 버그가 약간 있는것같습니...  \n",
       "2     게임방식이 직관적인 반면 스킬 조합 부분에서는 흥미가 일만한 퍼즐 요소가 있어서 굉...  \n",
       "3     정말 제 인생겜입니다, 컨트롤이 중요시되며 좋은 아이템도 많이 드랍해주어서 무과금도...  \n",
       "4     게임 다 좋고 재밌습니다. 자기 노력만 있다면 투자한 시간만큼 스펙업도 됌 아직 수...  \n",
       "...                                                 ...  \n",
       "6595                                                 버그  \n",
       "6596                                                 Dd  \n",
       "6597                                                 졸쟘  \n",
       "6598                                                 쏘쏘  \n",
       "6599                                                 잼썽  \n",
       "\n",
       "[6600 rows x 5 columns]"
      ]
     },
     "execution_count": 29,
     "metadata": {},
     "output_type": "execute_result"
    }
   ],
   "source": [
    "df = pd.read_csv('google_play_reviews.csv', encoding = 'utf-8-sig')\n",
    "df"
   ]
  }
 ],
 "metadata": {
  "kernelspec": {
   "display_name": "Python 3 (ipykernel)",
   "language": "python",
   "name": "python3"
  },
  "language_info": {
   "codemirror_mode": {
    "name": "ipython",
    "version": 3
   },
   "file_extension": ".py",
   "mimetype": "text/x-python",
   "name": "python",
   "nbconvert_exporter": "python",
   "pygments_lexer": "ipython3",
   "version": "3.9.7"
  },
  "toc": {
   "base_numbering": 1,
   "nav_menu": {},
   "number_sections": true,
   "sideBar": true,
   "skip_h1_title": false,
   "title_cell": "Table of Contents",
   "title_sidebar": "Contents",
   "toc_cell": false,
   "toc_position": {},
   "toc_section_display": true,
   "toc_window_display": false
  },
  "varInspector": {
   "cols": {
    "lenName": 16,
    "lenType": 16,
    "lenVar": 40
   },
   "kernels_config": {
    "python": {
     "delete_cmd_postfix": "",
     "delete_cmd_prefix": "del ",
     "library": "var_list.py",
     "varRefreshCmd": "print(var_dic_list())"
    },
    "r": {
     "delete_cmd_postfix": ") ",
     "delete_cmd_prefix": "rm(",
     "library": "var_list.r",
     "varRefreshCmd": "cat(var_dic_list()) "
    }
   },
   "types_to_exclude": [
    "module",
    "function",
    "builtin_function_or_method",
    "instance",
    "_Feature"
   ],
   "window_display": false
  }
 },
 "nbformat": 4,
 "nbformat_minor": 5
}
