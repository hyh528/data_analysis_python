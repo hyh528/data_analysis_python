{
 "cells": [
  {
   "cell_type": "code",
   "execution_count": 1,
   "id": "7771de1a",
   "metadata": {
    "ExecuteTime": {
     "end_time": "2022-10-26T06:11:34.425896Z",
     "start_time": "2022-10-26T06:11:29.651849Z"
    }
   },
   "outputs": [],
   "source": [
    "from selenium import webdriver\n",
    "from selenium.webdriver.common.by import By\n",
    "\n",
    "import requests\n",
    "from selenium.webdriver.common.keys import Keys\n",
    "from selenium.webdriver.common.by import By\n",
    "from selenium.webdriver.common.keys import Keys\n",
    "from selenium.webdriver.support import expected_conditions as EC\n",
    "from bs4 import BeautifulSoup\n",
    "import time\n",
    "from time import sleep\n",
    "import random\n",
    "import pandas as pd\n",
    "import numpy as np\n",
    "\n",
    "driver = webdriver.Chrome()"
   ]
  },
  {
   "cell_type": "code",
   "execution_count": 4,
   "id": "27de14d0",
   "metadata": {
    "ExecuteTime": {
     "end_time": "2022-10-26T06:14:00.277334Z",
     "start_time": "2022-10-26T06:13:58.411762Z"
    }
   },
   "outputs": [
    {
     "name": "stdout",
     "output_type": "stream",
     "text": [
      "검색어 입력 : 인공지능\n"
     ]
    }
   ],
   "source": [
    "keyword = input('검색어 입력 : ')\n",
    "\n",
    "url = f'https://www.dbpia.co.kr/search/topSearch?startCount=0&collection=ALL&range=A&searchField=ALL&sort=RANK&query={keyword}&includeAr=false'"
   ]
  },
  {
   "cell_type": "code",
   "execution_count": 5,
   "id": "3fd5e089",
   "metadata": {
    "ExecuteTime": {
     "end_time": "2022-10-26T06:14:02.485037Z",
     "start_time": "2022-10-26T06:14:01.930950Z"
    }
   },
   "outputs": [],
   "source": [
    "driver.get(url)"
   ]
  },
  {
   "cell_type": "code",
   "execution_count": 12,
   "id": "298a576e",
   "metadata": {
    "ExecuteTime": {
     "end_time": "2022-10-26T06:24:10.110712Z",
     "start_time": "2022-10-26T06:24:09.872851Z"
    }
   },
   "outputs": [],
   "source": [
    "thesis_summary = driver.find_elements(By.CLASS_NAME, 'thesis__summary')\n",
    "\n",
    "thesis_summary_list = []\n",
    "\n",
    "driver.find_element(By.CLASS_NAME, 'thesis__link').click()\n",
    "\n"
   ]
  },
  {
   "cell_type": "code",
   "execution_count": 52,
   "id": "0e0ce222",
   "metadata": {
    "ExecuteTime": {
     "end_time": "2022-10-26T06:40:36.997252Z",
     "start_time": "2022-10-26T06:40:36.945269Z"
    }
   },
   "outputs": [],
   "source": [
    "title = driver.find_elements(By.CLASS_NAME, 'thesisDetail__head')"
   ]
  },
  {
   "cell_type": "code",
   "execution_count": 63,
   "id": "5c722d2b",
   "metadata": {
    "ExecuteTime": {
     "end_time": "2022-10-26T06:53:27.827630Z",
     "start_time": "2022-10-26T06:53:27.768578Z"
    }
   },
   "outputs": [],
   "source": [
    "kor_title = driver.find_elements(By.CLASS_NAME, 'thesisDetail__tit')"
   ]
  },
  {
   "cell_type": "code",
   "execution_count": 64,
   "id": "ccb1bf13",
   "metadata": {
    "ExecuteTime": {
     "end_time": "2022-10-26T06:53:28.825132Z",
     "start_time": "2022-10-26T06:53:28.816136Z"
    }
   },
   "outputs": [],
   "source": [
    "for i in kor_title:\n",
    "    print(i.text)\n"
   ]
  },
  {
   "cell_type": "code",
   "execution_count": 56,
   "id": "c0e0c8cc",
   "metadata": {
    "ExecuteTime": {
     "end_time": "2022-10-26T06:43:19.231720Z",
     "start_time": "2022-10-26T06:43:19.191745Z"
    }
   },
   "outputs": [],
   "source": [
    "eng_title = driver.find_elements(By.CLASS_NAME, 'thesisDetail__keyword')"
   ]
  },
  {
   "cell_type": "code",
   "execution_count": 69,
   "id": "4b454cbd",
   "metadata": {
    "ExecuteTime": {
     "end_time": "2022-10-26T07:07:25.186454Z",
     "start_time": "2022-10-26T07:07:25.159471Z"
    }
   },
   "outputs": [
    {
     "name": "stdout",
     "output_type": "stream",
     "text": [
      "Parent window title: 인공지능 : 논문 검색 결과 - DBpia, 연구자를 돕는 똑똑한 학술콘텐츠 플랫폼\n",
      "CDwindow-9A5E3E749575075DFCEA28CA86143E8C\n"
     ]
    }
   ],
   "source": [
    "#prints parent window title\n",
    "print(\"Parent window title: \" + driver.title)\n",
    "p = driver.current_window_handle\n"
   ]
  }
 ],
 "metadata": {
  "kernelspec": {
   "display_name": "Python 3 (ipykernel)",
   "language": "python",
   "name": "python3"
  },
  "language_info": {
   "codemirror_mode": {
    "name": "ipython",
    "version": 3
   },
   "file_extension": ".py",
   "mimetype": "text/x-python",
   "name": "python",
   "nbconvert_exporter": "python",
   "pygments_lexer": "ipython3",
   "version": "3.9.7"
  },
  "toc": {
   "base_numbering": 1,
   "nav_menu": {},
   "number_sections": true,
   "sideBar": true,
   "skip_h1_title": false,
   "title_cell": "Table of Contents",
   "title_sidebar": "Contents",
   "toc_cell": false,
   "toc_position": {},
   "toc_section_display": true,
   "toc_window_display": false
  },
  "varInspector": {
   "cols": {
    "lenName": 16,
    "lenType": 16,
    "lenVar": 40
   },
   "kernels_config": {
    "python": {
     "delete_cmd_postfix": "",
     "delete_cmd_prefix": "del ",
     "library": "var_list.py",
     "varRefreshCmd": "print(var_dic_list())"
    },
    "r": {
     "delete_cmd_postfix": ") ",
     "delete_cmd_prefix": "rm(",
     "library": "var_list.r",
     "varRefreshCmd": "cat(var_dic_list()) "
    }
   },
   "types_to_exclude": [
    "module",
    "function",
    "builtin_function_or_method",
    "instance",
    "_Feature"
   ],
   "window_display": false
  }
 },
 "nbformat": 4,
 "nbformat_minor": 5
}
