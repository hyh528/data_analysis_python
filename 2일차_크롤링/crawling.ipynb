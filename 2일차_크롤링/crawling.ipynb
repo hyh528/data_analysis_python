{
 "cells": [
  {
   "cell_type": "markdown",
   "id": "28ca981e",
   "metadata": {},
   "source": [
    "# 환율 테이블 데이터"
   ]
  },
  {
   "cell_type": "code",
   "execution_count": 1,
   "id": "970b98ab",
   "metadata": {
    "ExecuteTime": {
     "end_time": "2022-10-25T12:02:24.726886Z",
     "start_time": "2022-10-25T12:02:20.021449Z"
    },
    "scrolled": true
   },
   "outputs": [
    {
     "name": "stdout",
     "output_type": "stream",
     "text": [
      "Requirement already satisfied: selenium in c:\\users\\maius\\anaconda3\\envs\\datascience\\lib\\site-packages (4.4.3)\n",
      "Requirement already satisfied: certifi>=2021.10.8 in c:\\users\\maius\\anaconda3\\envs\\datascience\\lib\\site-packages (from selenium) (2021.10.8)\n",
      "Requirement already satisfied: urllib3[socks]~=1.26 in c:\\users\\maius\\anaconda3\\envs\\datascience\\lib\\site-packages (from selenium) (1.26.7)\n",
      "Requirement already satisfied: trio-websocket~=0.9 in c:\\users\\maius\\anaconda3\\envs\\datascience\\lib\\site-packages (from selenium) (0.9.2)\n",
      "Requirement already satisfied: trio~=0.17 in c:\\users\\maius\\anaconda3\\envs\\datascience\\lib\\site-packages (from selenium) (0.21.0)\n",
      "Requirement already satisfied: sniffio in c:\\users\\maius\\anaconda3\\envs\\datascience\\lib\\site-packages (from trio~=0.17->selenium) (1.2.0)\n",
      "Requirement already satisfied: cffi>=1.14 in c:\\users\\maius\\anaconda3\\envs\\datascience\\lib\\site-packages (from trio~=0.17->selenium) (1.14.6)\n",
      "Requirement already satisfied: attrs>=19.2.0 in c:\\users\\maius\\anaconda3\\envs\\datascience\\lib\\site-packages (from trio~=0.17->selenium) (21.2.0)\n",
      "Requirement already satisfied: async-generator>=1.9 in c:\\users\\maius\\anaconda3\\envs\\datascience\\lib\\site-packages (from trio~=0.17->selenium) (1.10)\n",
      "Requirement already satisfied: sortedcontainers in c:\\users\\maius\\anaconda3\\envs\\datascience\\lib\\site-packages (from trio~=0.17->selenium) (2.4.0)\n",
      "Requirement already satisfied: outcome in c:\\users\\maius\\anaconda3\\envs\\datascience\\lib\\site-packages (from trio~=0.17->selenium) (1.2.0)\n",
      "Requirement already satisfied: idna in c:\\users\\maius\\anaconda3\\envs\\datascience\\lib\\site-packages (from trio~=0.17->selenium) (3.2)\n",
      "Requirement already satisfied: pycparser in c:\\users\\maius\\anaconda3\\envs\\datascience\\lib\\site-packages (from cffi>=1.14->trio~=0.17->selenium) (2.20)\n",
      "Requirement already satisfied: wsproto>=0.14 in c:\\users\\maius\\anaconda3\\envs\\datascience\\lib\\site-packages (from trio-websocket~=0.9->selenium) (1.1.0)\n",
      "Requirement already satisfied: PySocks!=1.5.7,<2.0,>=1.5.6 in c:\\users\\maius\\anaconda3\\envs\\datascience\\lib\\site-packages (from urllib3[socks]~=1.26->selenium) (1.7.1)\n",
      "Requirement already satisfied: h11<1,>=0.9.0 in c:\\users\\maius\\anaconda3\\envs\\datascience\\lib\\site-packages (from wsproto>=0.14->trio-websocket~=0.9->selenium) (0.13.0)\n",
      "Note: you may need to restart the kernel to use updated packages.\n"
     ]
    }
   ],
   "source": [
    "pip install selenium"
   ]
  },
  {
   "cell_type": "code",
   "execution_count": 16,
   "id": "76cdc6e7",
   "metadata": {
    "ExecuteTime": {
     "end_time": "2022-10-26T03:30:23.236932Z",
     "start_time": "2022-10-26T03:30:23.223936Z"
    }
   },
   "outputs": [],
   "source": [
    "from selenium import webdriver"
   ]
  },
  {
   "cell_type": "code",
   "execution_count": 17,
   "id": "fd27b42b",
   "metadata": {
    "ExecuteTime": {
     "end_time": "2022-10-26T03:30:23.718582Z",
     "start_time": "2022-10-26T03:30:23.699595Z"
    }
   },
   "outputs": [],
   "source": [
    "from selenium.webdriver.common.by import By"
   ]
  },
  {
   "cell_type": "code",
   "execution_count": 18,
   "id": "ec34eaee",
   "metadata": {
    "ExecuteTime": {
     "end_time": "2022-10-26T03:30:27.505401Z",
     "start_time": "2022-10-26T03:30:24.108378Z"
    }
   },
   "outputs": [],
   "source": [
    "browser = webdriver.Chrome()"
   ]
  },
  {
   "cell_type": "code",
   "execution_count": 19,
   "id": "0c604fbf",
   "metadata": {
    "ExecuteTime": {
     "end_time": "2022-10-26T03:30:29.189244Z",
     "start_time": "2022-10-26T03:30:27.558363Z"
    }
   },
   "outputs": [],
   "source": [
    "browser.get(\"https://search.naver.com/search.naver?ie=UTF-8&query=%EB%84%A4%EC%9D%B4%EB%B2%84%ED%99%98%EC%9C%A8&sm=chr_hty\")"
   ]
  },
  {
   "cell_type": "code",
   "execution_count": 20,
   "id": "c7d9494e",
   "metadata": {
    "ExecuteTime": {
     "end_time": "2022-10-26T03:30:30.937746Z",
     "start_time": "2022-10-26T03:30:29.263194Z"
    }
   },
   "outputs": [
    {
     "name": "stdout",
     "output_type": "stream",
     "text": [
      "['미국 USD']\n",
      "['미국 USD', '일본 JPY 100']\n",
      "['미국 USD', '일본 JPY 100', '유럽연합 EUR']\n",
      "['미국 USD', '일본 JPY 100', '유럽연합 EUR', '중국 CNY']\n",
      "['미국 USD', '일본 JPY 100', '유럽연합 EUR', '중국 CNY', '영국 GBP']\n",
      "['미국 USD', '일본 JPY 100', '유럽연합 EUR', '중국 CNY', '영국 GBP', '호주 AUD']\n",
      "['미국 USD', '일본 JPY 100', '유럽연합 EUR', '중국 CNY', '영국 GBP', '호주 AUD', '캐나다 CAD']\n",
      "['미국 USD', '일본 JPY 100', '유럽연합 EUR', '중국 CNY', '영국 GBP', '호주 AUD', '캐나다 CAD', '뉴질랜드 NZD']\n"
     ]
    }
   ],
   "source": [
    "table = browser.find_element(By.CLASS_NAME, 'rate_table_info')\n",
    "rwdata = browser.find_elements(By.XPATH, '//*[@id=\"_cs_foreigninfo\"]/div/div[2]/div/div[1]/div[2]/table/tbody/tr')\n",
    "\n",
    "country_list = []\n",
    "\n",
    "\n",
    "for row in rwdata:\n",
    "    country_name = row.find_element(By.TAG_NAME, 'th').text\n",
    "    country_list.append(country_name)\n",
    "    print(country_list)\n"
   ]
  },
  {
   "cell_type": "code",
   "execution_count": 21,
   "id": "0a4db53e",
   "metadata": {
    "ExecuteTime": {
     "end_time": "2022-10-26T03:30:31.324482Z",
     "start_time": "2022-10-26T03:30:31.009698Z"
    }
   },
   "outputs": [
    {
     "name": "stdout",
     "output_type": "stream",
     "text": [
      "['1425.00', '961.28', '1419.02', '194.94', '1633.62', '912.36', '1047.68', '819.23']\n"
     ]
    }
   ],
   "source": [
    "#print(len(rwdata))\n",
    "\n",
    "rates = []\n",
    "for row in rwdata:\n",
    "#     print(row.text)\n",
    "    rate = row.find_element(By.TAG_NAME, 'td').text\n",
    "    rate = rate.replace(\",\", \"\")\n",
    "    rates.append(rate)\n",
    "print(rates)"
   ]
  },
  {
   "cell_type": "code",
   "execution_count": 91,
   "id": "59e992de",
   "metadata": {
    "ExecuteTime": {
     "end_time": "2022-10-25T12:53:38.878264Z",
     "start_time": "2022-10-25T12:53:38.861264Z"
    }
   },
   "outputs": [
    {
     "name": "stdout",
     "output_type": "stream",
     "text": [
      "8\n"
     ]
    }
   ],
   "source": [
    "print(len(rwdata))"
   ]
  },
  {
   "cell_type": "code",
   "execution_count": 30,
   "id": "bc4dc0e1",
   "metadata": {
    "ExecuteTime": {
     "end_time": "2022-10-26T03:32:55.020489Z",
     "start_time": "2022-10-26T03:32:54.723694Z"
    }
   },
   "outputs": [
    {
     "name": "stdout",
     "output_type": "stream",
     "text": [
      "['8.00']\n",
      "['8.00', '7.13']\n",
      "['8.00', '7.13', '6.39']\n",
      "['8.00', '7.13', '6.39', '1.02']\n",
      "['8.00', '7.13', '6.39', '1.02', '9.60']\n",
      "['8.00', '7.13', '6.39', '1.02', '9.60', '2.68']\n",
      "['8.00', '7.13', '6.39', '1.02', '9.60', '2.68', '3.91']\n",
      "['8.00', '7.13', '6.39', '1.02', '9.60', '2.68', '3.91', '5.46']\n"
     ]
    }
   ],
   "source": [
    "dtd_list = []\n",
    "\n",
    "for row in rwdata:\n",
    "    dtd = row.find_element(By.CLASS_NAME, 'flu_nm>em').text\n",
    "    dtd_list.append(dtd)\n",
    "    print(dtd_list)"
   ]
  },
  {
   "cell_type": "code",
   "execution_count": 51,
   "id": "2e3264ae",
   "metadata": {
    "ExecuteTime": {
     "end_time": "2022-10-26T03:45:35.967381Z",
     "start_time": "2022-10-26T03:45:35.599620Z"
    }
   },
   "outputs": [
    {
     "name": "stdout",
     "output_type": "stream",
     "text": [
      "['▼8.00']\n",
      "['▼8.00', '▼7.13']\n",
      "['▼8.00', '▼7.13', '▼6.39']\n",
      "['▼8.00', '▼7.13', '▼6.39', '▼1.02']\n",
      "['▼8.00', '▼7.13', '▼6.39', '▼1.02', '▼9.60']\n",
      "['▼8.00', '▼7.13', '▼6.39', '▼1.02', '▼9.60', '▼2.68']\n",
      "['▼8.00', '▼7.13', '▼6.39', '▼1.02', '▼9.60', '▼2.68', '▼3.91']\n",
      "['▼8.00', '▼7.13', '▼6.39', '▼1.02', '▼9.60', '▼2.68', '▼3.91', '▼5.46']\n"
     ]
    }
   ],
   "source": [
    "dtd_list = []\n",
    "\n",
    "for row in rwdata:\n",
    "    dtd = row.find_element(By.CLASS_NAME, 'flu_nm').text\n",
    "    dtd = dtd.removeprefix('전일대비\\n')\n",
    "    dtd = dtd.replace('하락','▼')\n",
    "    dtd = dtd.replace('등락', '▲')\n",
    "    dtd_list.append(dtd)\n",
    "  \n",
    "    print(dtd_list)"
   ]
  },
  {
   "cell_type": "code",
   "execution_count": null,
   "id": "23e12c46",
   "metadata": {},
   "outputs": [],
   "source": []
  },
  {
   "cell_type": "code",
   "execution_count": 52,
   "id": "d4b7a8fc",
   "metadata": {
    "ExecuteTime": {
     "end_time": "2022-10-26T03:45:54.565792Z",
     "start_time": "2022-10-26T03:45:54.221926Z"
    }
   },
   "outputs": [],
   "source": [
    "fluctuation_list = []\n",
    "\n",
    "for row in rwdata:\n",
    "    fluctuation = row.find_element(By.CLASS_NAME, 'flu_pct').text\n",
    "    fluctuation_list.append(fluctuation)\n",
    "#    print(fluctuation_list)"
   ]
  },
  {
   "cell_type": "code",
   "execution_count": 53,
   "id": "9546fb01",
   "metadata": {
    "ExecuteTime": {
     "end_time": "2022-10-26T03:46:02.868806Z",
     "start_time": "2022-10-26T03:46:02.848840Z"
    }
   },
   "outputs": [],
   "source": [
    "file = open(\"currency2.csv\", \"a\", encoding=\"UTF-8-sig\")\n",
    "file.write(\"{}, {}, {}, {} \\n\".format(\"통화명\", \"매매기준율\", \"전일대비\", \"등락률\"))\n",
    "file.close()"
   ]
  },
  {
   "cell_type": "code",
   "execution_count": 54,
   "id": "a780305a",
   "metadata": {
    "ExecuteTime": {
     "end_time": "2022-10-26T03:46:04.601291Z",
     "start_time": "2022-10-26T03:46:04.592298Z"
    }
   },
   "outputs": [],
   "source": [
    "file = open(\"currency2.csv\", \"a\", encoding=\"UTF-8-sig\")\n",
    "\n",
    "for i in range(len(rwdata)):\n",
    "    file.write(\"{}, {}, {}, {} \\n\".format(country_list[i], rates[i], dtd_list[i], fluctuation_list[i]))\n",
    "\n",
    "file.close()"
   ]
  },
  {
   "cell_type": "markdown",
   "id": "e40b1802",
   "metadata": {},
   "source": [
    "# 뉴스 여러 페이지 크롤링"
   ]
  },
  {
   "cell_type": "code",
   "execution_count": 11,
   "id": "7c16bc05",
   "metadata": {
    "ExecuteTime": {
     "end_time": "2022-10-25T14:28:26.235138Z",
     "start_time": "2022-10-25T14:28:25.485770Z"
    }
   },
   "outputs": [],
   "source": [
    "browser.get(\"https://www.google.com/search?q=%EC%9E%90%EB%8F%99%ED%99%94&rlz=1C5CHFA_enKR1029KR1029&tbm=nws&source=lnt&tbs=qdr:w&sa=X&ved=2ahUKEwjkssCG4Pr6AhUMyGEKHX92C0sQpwV6BAgCEBs&biw=1239&bih=696&dpr=1\")"
   ]
  },
  {
   "cell_type": "code",
   "execution_count": 136,
   "id": "5a36dc6e",
   "metadata": {
    "ExecuteTime": {
     "end_time": "2022-10-25T13:27:08.786455Z",
     "start_time": "2022-10-25T13:27:08.624418Z"
    }
   },
   "outputs": [
    {
     "data": {
      "text/plain": [
       "['[비즈&] 롯데홈쇼핑 물류센터에 업계 최초 자동화 시스템 도입 外',\n",
       " \"'5분이면 청약 끝'…한화생명 청약자동화 솔루션 특허 취득\",\n",
       " '롯데홈쇼핑 이천 물류센터 오픈...최첨단 자동화 시스템 갖춰',\n",
       " '‘2022 국제 공구 및 스마트 용접 자동화전’ 성료',\n",
       " \"지멘스 차세대 IC DFT 자동화 솔루션 '테센트 멀티-다이' 공개\",\n",
       " '창원시 \"국내 최대 용접 및 절단자동화전 328억 수출상담\"',\n",
       " '자동화로 네트워크 전체 스위치 업그레이드를 효율화하는 방법',\n",
       " '디티앤씨알오 “자동화 CRO 플랫폼으로 성장할 것”',\n",
       " '유아이패스 “자동화 시장 RPA에서 지능형 프로세스 자동화(IPA ...',\n",
       " '롯데홈쇼핑 이천 물류센터 오픈…자동화 시스템 도입']"
      ]
     },
     "execution_count": 136,
     "metadata": {},
     "output_type": "execute_result"
    }
   ],
   "source": [
    "titles = browser.find_elements(By.CLASS_NAME, 'mCBkyc')\n",
    "\n",
    "title = []\n",
    "for i in titles:\n",
    "    temp_title = i.text\n",
    "    temp_title = temp_title.replace(\",\", \"\")\n",
    "    title.append(temp_title)\n",
    "\n",
    "title"
   ]
  },
  {
   "cell_type": "code",
   "execution_count": 137,
   "id": "c81ae5cd",
   "metadata": {
    "ExecuteTime": {
     "end_time": "2022-10-25T13:27:09.836484Z",
     "start_time": "2022-10-25T13:27:09.675446Z"
    }
   },
   "outputs": [
    {
     "data": {
      "text/plain": [
       "['롯데홈쇼핑이 경기도 이천에 업계 최초로 자동화 시스템을 도입한 물류센터를 열었습니다. 자율주행 기반의 로봇을 도입하고 8134평 규모의 단층 구조 원라인 시스템으로...',\n",
       " '(서울=연합인포맥스) 정지서 기자 = 한화생명이 업계 최초로 보험 신계약 과정을 로봇 기술로 자동화하며 법인대리점(GA) 시장에서의 영업 경쟁력 강화에 나섰다.',\n",
       " '자율주행로봇 무인운반차 로봇팔 디팔렛타이저 등 최첨단 자동화 설비 도입. 롯데홈쇼핑(대표 이완신)이 난 21일(금) 경기도 이천에서 업계 최초로 자동화 시스템을...',\n",
       " \"최첨단 공구 및 스마트 용접 자동화기기를 한눈에 볼 수 있었던 '2022 국제 공구 및 스마트 용접 자동화전(TOOL TECH + SMART WELDING AUTOMATION FAIR)'이 나흘간 2...\",\n",
       " '... 가 선보인 테센트 멀티-다이 소프트웨어는 2.5D 및 3D IC 설계와 관련된 매우 복잡한 DFT 작업을 수행하기 위한 업계에서 가장 포괄적인 DFT 자동화 솔루션이다.',\n",
       " '용접 절단 최대 수요지인 창원에서 지난 18일부터 4일 간 개최된 34년 역사의 용접·절단 기술 전문 전시회인 창원국제용접 및 절단자동화전에는 1만여명의 관람객이 다녀...',\n",
       " '자동화는 반복적인 네트워킹 작업에서 큰 차이를 만들어낼 수 있다. 파이썬 스크립트와 오픈소스 툴을 사용해 엔터프라이즈 스위치 업그레이드를 효율화하기 위해 필자...',\n",
       " 'IPO 간담회 개최. 디티앤씨알오 “자동화 CRO 플랫폼으로 성장할 것”. “최근 3년간 매출과 신규 수주가 늘었고 2020년에는 흑자전환에 성공했습니다.',\n",
       " '웨이브2에는 엔터프라이즈 자동화뿐 아니라 퍼스널 자동화(Personal Automation) 요소도 포함된다. 그는 “지난 3년 동안 많은 기업들이 RPA를 적용하면서 시간과 비용을...',\n",
       " '롯데홈쇼핑은 경기도 이천에 자동화 시스템을 도입한 최첨단 물류센터를 오픈했다. 지난 21일 열린 오픈식에는 이완신 롯데홈쇼핑 대표 박찬복 롯데글로벌로지스 대표...']"
      ]
     },
     "execution_count": 137,
     "metadata": {},
     "output_type": "execute_result"
    }
   ],
   "source": [
    "contents = browser.find_elements(By.CLASS_NAME, 'GI74Re')\n",
    "\n",
    "content = []\n",
    "for i in contents:\n",
    "    temp_content = i.text\n",
    "    temp_content = temp_content.replace(\",\", \"\")\n",
    "    content.append(temp_content)\n",
    "    \n",
    "content"
   ]
  },
  {
   "cell_type": "code",
   "execution_count": 138,
   "id": "9606dc9f",
   "metadata": {
    "ExecuteTime": {
     "end_time": "2022-10-25T13:27:13.094964Z",
     "start_time": "2022-10-25T13:27:12.972270Z"
    }
   },
   "outputs": [
    {
     "name": "stdout",
     "output_type": "stream",
     "text": [
      "제목 : [비즈&] 롯데홈쇼핑 물류센터에 업계 최초 자동화 시스템 도입 外\n",
      "내용 : 롯데홈쇼핑이 경기도 이천에 업계 최초로 자동화 시스템을 도입한 물류센터를 열었습니다. 자율주행 기반의 로봇을 도입하고 8134평 규모의 단층 구조 원라인 시스템으로...\n"
     ]
    }
   ],
   "source": [
    "links = browser.find_elements(By.CLASS_NAME, 'WlydOe')\n",
    "\n",
    "link = []\n",
    "for i in links:\n",
    "    link.append(i.get_attribute('href'))\n",
    "    \n",
    "print(\"제목 : \" + title[0])\n",
    "print(\"내용 : \" + content[0])"
   ]
  },
  {
   "cell_type": "code",
   "execution_count": 178,
   "id": "be98a031",
   "metadata": {
    "ExecuteTime": {
     "end_time": "2022-10-25T14:20:21.856428Z",
     "start_time": "2022-10-25T14:20:21.839424Z"
    }
   },
   "outputs": [],
   "source": [
    "file = open(\"google_news.csv\", \"a\", encoding=\"UTF-8-sig\")\n",
    "file.write(\"{}, {}, {} \\n\".format(\"제목\", \"내용\", \"링크\"))\n",
    "file.close()"
   ]
  },
  {
   "cell_type": "code",
   "execution_count": 139,
   "id": "c8f6b4a6",
   "metadata": {
    "ExecuteTime": {
     "end_time": "2022-10-25T13:27:15.528757Z",
     "start_time": "2022-10-25T13:27:15.499751Z"
    }
   },
   "outputs": [],
   "source": [
    "file = open(\"google_news.csv\", \"a\", encoding=\"UTF-8-sig\")\n",
    "\n",
    "for i in range(len(title)):\n",
    "    file.write(\"{}, {}, {} \\n\".format(title[i], content[i], link[i]))\n",
    "\n",
    "file.close()"
   ]
  },
  {
   "cell_type": "code",
   "execution_count": 140,
   "id": "03c36259",
   "metadata": {
    "ExecuteTime": {
     "end_time": "2022-10-25T13:29:09.803758Z",
     "start_time": "2022-10-25T13:29:09.762750Z"
    }
   },
   "outputs": [
    {
     "data": {
      "text/plain": [
       "'https://www.google.com/search?q=%EC%9E%90%EB%8F%99%ED%99%94&rlz=1C5CHFA_enKR1029KR1029&biw=1239&bih=696&tbs=qdr:w&tbm=nws&ei=9eNXY4HPM9bi-AbRgby4Aw&start=10&sa=N&ved=2ahUKEwjBnZjRvfv6AhVWMd4KHdEADzcQ8tMDegQIARAE'"
      ]
     },
     "execution_count": 140,
     "metadata": {},
     "output_type": "execute_result"
    }
   ],
   "source": [
    "browser.find_element(By.CLASS_NAME, 'fl').get_attribute('href')"
   ]
  },
  {
   "cell_type": "code",
   "execution_count": 173,
   "id": "88090c73",
   "metadata": {
    "ExecuteTime": {
     "end_time": "2022-10-25T14:08:00.039116Z",
     "start_time": "2022-10-25T14:07:48.113102Z"
    },
    "scrolled": true
   },
   "outputs": [
    {
     "name": "stdout",
     "output_type": "stream",
     "text": [
      "['[비즈&] 롯데홈쇼핑 물류센터에 업계 최초 자동화 시스템 도입 外', \"'5분이면 청약 끝'…한화생명 청약자동화 솔루션 특허 취득\", '롯데홈쇼핑 이천 물류센터 오픈...최첨단 자동화 시스템 갖춰', '‘2022 국제 공구 및 스마트 용접 자동화전’ 성료', \"지멘스 차세대 IC DFT 자동화 솔루션 '테센트 멀티-다이' 공개\", '창원시 \"국내 최대 용접 및 절단자동화전 328억 수출상담\"', '자동화로 네트워크 전체 스위치 업그레이드를 효율화하는 방법', '유아이패스 “자동화 시장 RPA에서 지능형 프로세스 자동화(IPA ...', '롯데홈쇼핑 이천 물류센터 오픈…자동화 시스템 도입', '디티앤씨알오 “자동화 CRO 플랫폼으로 성장할 것”']\n",
      "[\"플로어블 사업 자동화 행사 '플로우페스트 2022' 개최… 보쉬 ...\", \"[기고] Digital Labor와 사람이 공생하는 '미래'가 아닌 '현실 ...\", '[AI 기반 제조혁신-②] 조선업계 업황 개선에 인력 부족은 더욱 ...', '최고의 회사 판매 소비 가격 및 성장률과 함께 광업 실험실 ...', '블루프리즘 전사적 자동화 지원하는 통합 지능형 자동화 플랫폼 출시', \"주방 자동화로 인력난 대처하는 日 국수전문점 '매직 누들 향미 ...\", \"[유통가Info.] 롯데홈쇼핑 자동화 시스템 도입한 '이천 물류센터 ...\", '한화생명 청약자동화 솔루션 특허 취득', \"BIkorea 모바일 사이트 블루프리즘 '통합 지능형 자동화' 플랫폼 ...\", '엔터프라이즈 로봇 프로세스 자동화 시장 2022 성장 최신 동향 ...']\n"
     ]
    },
    {
     "ename": "KeyboardInterrupt",
     "evalue": "",
     "output_type": "error",
     "traceback": [
      "\u001b[1;31m---------------------------------------------------------------------------\u001b[0m",
      "\u001b[1;31mKeyboardInterrupt\u001b[0m                         Traceback (most recent call last)",
      "\u001b[1;32m~\\AppData\\Local\\Temp/ipykernel_7692/1466325503.py\u001b[0m in \u001b[0;36m<module>\u001b[1;34m\u001b[0m\n\u001b[0;32m      9\u001b[0m     \u001b[0mtitle\u001b[0m \u001b[1;33m=\u001b[0m \u001b[1;33m[\u001b[0m\u001b[1;33m]\u001b[0m\u001b[1;33m\u001b[0m\u001b[1;33m\u001b[0m\u001b[0m\n\u001b[0;32m     10\u001b[0m     \u001b[1;32mfor\u001b[0m \u001b[0mi\u001b[0m \u001b[1;32min\u001b[0m \u001b[0mtitles\u001b[0m\u001b[1;33m:\u001b[0m\u001b[1;33m\u001b[0m\u001b[1;33m\u001b[0m\u001b[0m\n\u001b[1;32m---> 11\u001b[1;33m             \u001b[0mtemp_title\u001b[0m \u001b[1;33m=\u001b[0m \u001b[0mi\u001b[0m\u001b[1;33m.\u001b[0m\u001b[0mtext\u001b[0m\u001b[1;33m\u001b[0m\u001b[1;33m\u001b[0m\u001b[0m\n\u001b[0m\u001b[0;32m     12\u001b[0m             \u001b[0mtemp_title\u001b[0m \u001b[1;33m=\u001b[0m \u001b[0mtemp_title\u001b[0m\u001b[1;33m.\u001b[0m\u001b[0mreplace\u001b[0m\u001b[1;33m(\u001b[0m\u001b[1;34m\",\"\u001b[0m\u001b[1;33m,\u001b[0m \u001b[1;34m\"\"\u001b[0m\u001b[1;33m)\u001b[0m\u001b[1;33m\u001b[0m\u001b[1;33m\u001b[0m\u001b[0m\n\u001b[0;32m     13\u001b[0m             \u001b[0mtitle\u001b[0m\u001b[1;33m.\u001b[0m\u001b[0mappend\u001b[0m\u001b[1;33m(\u001b[0m\u001b[0mtemp_title\u001b[0m\u001b[1;33m)\u001b[0m\u001b[1;33m\u001b[0m\u001b[1;33m\u001b[0m\u001b[0m\n",
      "\u001b[1;32m~\\anaconda3\\envs\\datascience\\lib\\site-packages\\selenium\\webdriver\\remote\\webelement.py\u001b[0m in \u001b[0;36mtext\u001b[1;34m(self)\u001b[0m\n\u001b[0;32m     82\u001b[0m     \u001b[1;32mdef\u001b[0m \u001b[0mtext\u001b[0m\u001b[1;33m(\u001b[0m\u001b[0mself\u001b[0m\u001b[1;33m)\u001b[0m \u001b[1;33m->\u001b[0m \u001b[0mstr\u001b[0m\u001b[1;33m:\u001b[0m\u001b[1;33m\u001b[0m\u001b[1;33m\u001b[0m\u001b[0m\n\u001b[0;32m     83\u001b[0m         \u001b[1;34m\"\"\"The text of the element.\"\"\"\u001b[0m\u001b[1;33m\u001b[0m\u001b[1;33m\u001b[0m\u001b[0m\n\u001b[1;32m---> 84\u001b[1;33m         \u001b[1;32mreturn\u001b[0m \u001b[0mself\u001b[0m\u001b[1;33m.\u001b[0m\u001b[0m_execute\u001b[0m\u001b[1;33m(\u001b[0m\u001b[0mCommand\u001b[0m\u001b[1;33m.\u001b[0m\u001b[0mGET_ELEMENT_TEXT\u001b[0m\u001b[1;33m)\u001b[0m\u001b[1;33m[\u001b[0m\u001b[1;34m'value'\u001b[0m\u001b[1;33m]\u001b[0m\u001b[1;33m\u001b[0m\u001b[1;33m\u001b[0m\u001b[0m\n\u001b[0m\u001b[0;32m     85\u001b[0m \u001b[1;33m\u001b[0m\u001b[0m\n\u001b[0;32m     86\u001b[0m     \u001b[1;32mdef\u001b[0m \u001b[0mclick\u001b[0m\u001b[1;33m(\u001b[0m\u001b[0mself\u001b[0m\u001b[1;33m)\u001b[0m \u001b[1;33m->\u001b[0m \u001b[1;32mNone\u001b[0m\u001b[1;33m:\u001b[0m\u001b[1;33m\u001b[0m\u001b[1;33m\u001b[0m\u001b[0m\n",
      "\u001b[1;32m~\\anaconda3\\envs\\datascience\\lib\\site-packages\\selenium\\webdriver\\remote\\webelement.py\u001b[0m in \u001b[0;36m_execute\u001b[1;34m(self, command, params)\u001b[0m\n\u001b[0;32m    394\u001b[0m             \u001b[0mparams\u001b[0m \u001b[1;33m=\u001b[0m \u001b[1;33m{\u001b[0m\u001b[1;33m}\u001b[0m\u001b[1;33m\u001b[0m\u001b[1;33m\u001b[0m\u001b[0m\n\u001b[0;32m    395\u001b[0m         \u001b[0mparams\u001b[0m\u001b[1;33m[\u001b[0m\u001b[1;34m'id'\u001b[0m\u001b[1;33m]\u001b[0m \u001b[1;33m=\u001b[0m \u001b[0mself\u001b[0m\u001b[1;33m.\u001b[0m\u001b[0m_id\u001b[0m\u001b[1;33m\u001b[0m\u001b[1;33m\u001b[0m\u001b[0m\n\u001b[1;32m--> 396\u001b[1;33m         \u001b[1;32mreturn\u001b[0m \u001b[0mself\u001b[0m\u001b[1;33m.\u001b[0m\u001b[0m_parent\u001b[0m\u001b[1;33m.\u001b[0m\u001b[0mexecute\u001b[0m\u001b[1;33m(\u001b[0m\u001b[0mcommand\u001b[0m\u001b[1;33m,\u001b[0m \u001b[0mparams\u001b[0m\u001b[1;33m)\u001b[0m\u001b[1;33m\u001b[0m\u001b[1;33m\u001b[0m\u001b[0m\n\u001b[0m\u001b[0;32m    397\u001b[0m \u001b[1;33m\u001b[0m\u001b[0m\n\u001b[0;32m    398\u001b[0m     \u001b[1;32mdef\u001b[0m \u001b[0mfind_element\u001b[0m\u001b[1;33m(\u001b[0m\u001b[0mself\u001b[0m\u001b[1;33m,\u001b[0m \u001b[0mby\u001b[0m\u001b[1;33m=\u001b[0m\u001b[0mBy\u001b[0m\u001b[1;33m.\u001b[0m\u001b[0mID\u001b[0m\u001b[1;33m,\u001b[0m \u001b[0mvalue\u001b[0m\u001b[1;33m=\u001b[0m\u001b[1;32mNone\u001b[0m\u001b[1;33m)\u001b[0m \u001b[1;33m->\u001b[0m \u001b[0mWebElement\u001b[0m\u001b[1;33m:\u001b[0m\u001b[1;33m\u001b[0m\u001b[1;33m\u001b[0m\u001b[0m\n",
      "\u001b[1;32m~\\anaconda3\\envs\\datascience\\lib\\site-packages\\selenium\\webdriver\\remote\\webdriver.py\u001b[0m in \u001b[0;36mexecute\u001b[1;34m(self, driver_command, params)\u001b[0m\n\u001b[0;32m    424\u001b[0m \u001b[1;33m\u001b[0m\u001b[0m\n\u001b[0;32m    425\u001b[0m         \u001b[0mparams\u001b[0m \u001b[1;33m=\u001b[0m \u001b[0mself\u001b[0m\u001b[1;33m.\u001b[0m\u001b[0m_wrap_value\u001b[0m\u001b[1;33m(\u001b[0m\u001b[0mparams\u001b[0m\u001b[1;33m)\u001b[0m\u001b[1;33m\u001b[0m\u001b[1;33m\u001b[0m\u001b[0m\n\u001b[1;32m--> 426\u001b[1;33m         \u001b[0mresponse\u001b[0m \u001b[1;33m=\u001b[0m \u001b[0mself\u001b[0m\u001b[1;33m.\u001b[0m\u001b[0mcommand_executor\u001b[0m\u001b[1;33m.\u001b[0m\u001b[0mexecute\u001b[0m\u001b[1;33m(\u001b[0m\u001b[0mdriver_command\u001b[0m\u001b[1;33m,\u001b[0m \u001b[0mparams\u001b[0m\u001b[1;33m)\u001b[0m\u001b[1;33m\u001b[0m\u001b[1;33m\u001b[0m\u001b[0m\n\u001b[0m\u001b[0;32m    427\u001b[0m         \u001b[1;32mif\u001b[0m \u001b[0mresponse\u001b[0m\u001b[1;33m:\u001b[0m\u001b[1;33m\u001b[0m\u001b[1;33m\u001b[0m\u001b[0m\n\u001b[0;32m    428\u001b[0m             \u001b[0mself\u001b[0m\u001b[1;33m.\u001b[0m\u001b[0merror_handler\u001b[0m\u001b[1;33m.\u001b[0m\u001b[0mcheck_response\u001b[0m\u001b[1;33m(\u001b[0m\u001b[0mresponse\u001b[0m\u001b[1;33m)\u001b[0m\u001b[1;33m\u001b[0m\u001b[1;33m\u001b[0m\u001b[0m\n",
      "\u001b[1;32m~\\anaconda3\\envs\\datascience\\lib\\site-packages\\selenium\\webdriver\\remote\\remote_connection.py\u001b[0m in \u001b[0;36mexecute\u001b[1;34m(self, command, params)\u001b[0m\n\u001b[0;32m    342\u001b[0m         \u001b[0mdata\u001b[0m \u001b[1;33m=\u001b[0m \u001b[0mutils\u001b[0m\u001b[1;33m.\u001b[0m\u001b[0mdump_json\u001b[0m\u001b[1;33m(\u001b[0m\u001b[0mparams\u001b[0m\u001b[1;33m)\u001b[0m\u001b[1;33m\u001b[0m\u001b[1;33m\u001b[0m\u001b[0m\n\u001b[0;32m    343\u001b[0m         \u001b[0murl\u001b[0m \u001b[1;33m=\u001b[0m \u001b[1;34mf\"{self._url}{path}\"\u001b[0m\u001b[1;33m\u001b[0m\u001b[1;33m\u001b[0m\u001b[0m\n\u001b[1;32m--> 344\u001b[1;33m         \u001b[1;32mreturn\u001b[0m \u001b[0mself\u001b[0m\u001b[1;33m.\u001b[0m\u001b[0m_request\u001b[0m\u001b[1;33m(\u001b[0m\u001b[0mcommand_info\u001b[0m\u001b[1;33m[\u001b[0m\u001b[1;36m0\u001b[0m\u001b[1;33m]\u001b[0m\u001b[1;33m,\u001b[0m \u001b[0murl\u001b[0m\u001b[1;33m,\u001b[0m \u001b[0mbody\u001b[0m\u001b[1;33m=\u001b[0m\u001b[0mdata\u001b[0m\u001b[1;33m)\u001b[0m\u001b[1;33m\u001b[0m\u001b[1;33m\u001b[0m\u001b[0m\n\u001b[0m\u001b[0;32m    345\u001b[0m \u001b[1;33m\u001b[0m\u001b[0m\n\u001b[0;32m    346\u001b[0m     \u001b[1;32mdef\u001b[0m \u001b[0m_request\u001b[0m\u001b[1;33m(\u001b[0m\u001b[0mself\u001b[0m\u001b[1;33m,\u001b[0m \u001b[0mmethod\u001b[0m\u001b[1;33m,\u001b[0m \u001b[0murl\u001b[0m\u001b[1;33m,\u001b[0m \u001b[0mbody\u001b[0m\u001b[1;33m=\u001b[0m\u001b[1;32mNone\u001b[0m\u001b[1;33m)\u001b[0m\u001b[1;33m:\u001b[0m\u001b[1;33m\u001b[0m\u001b[1;33m\u001b[0m\u001b[0m\n",
      "\u001b[1;32m~\\anaconda3\\envs\\datascience\\lib\\site-packages\\selenium\\webdriver\\remote\\remote_connection.py\u001b[0m in \u001b[0;36m_request\u001b[1;34m(self, method, url, body)\u001b[0m\n\u001b[0;32m    364\u001b[0m \u001b[1;33m\u001b[0m\u001b[0m\n\u001b[0;32m    365\u001b[0m         \u001b[1;32mif\u001b[0m \u001b[0mself\u001b[0m\u001b[1;33m.\u001b[0m\u001b[0mkeep_alive\u001b[0m\u001b[1;33m:\u001b[0m\u001b[1;33m\u001b[0m\u001b[1;33m\u001b[0m\u001b[0m\n\u001b[1;32m--> 366\u001b[1;33m             \u001b[0mresponse\u001b[0m \u001b[1;33m=\u001b[0m \u001b[0mself\u001b[0m\u001b[1;33m.\u001b[0m\u001b[0m_conn\u001b[0m\u001b[1;33m.\u001b[0m\u001b[0mrequest\u001b[0m\u001b[1;33m(\u001b[0m\u001b[0mmethod\u001b[0m\u001b[1;33m,\u001b[0m \u001b[0murl\u001b[0m\u001b[1;33m,\u001b[0m \u001b[0mbody\u001b[0m\u001b[1;33m=\u001b[0m\u001b[0mbody\u001b[0m\u001b[1;33m,\u001b[0m \u001b[0mheaders\u001b[0m\u001b[1;33m=\u001b[0m\u001b[0mheaders\u001b[0m\u001b[1;33m)\u001b[0m\u001b[1;33m\u001b[0m\u001b[1;33m\u001b[0m\u001b[0m\n\u001b[0m\u001b[0;32m    367\u001b[0m             \u001b[0mstatuscode\u001b[0m \u001b[1;33m=\u001b[0m \u001b[0mresponse\u001b[0m\u001b[1;33m.\u001b[0m\u001b[0mstatus\u001b[0m\u001b[1;33m\u001b[0m\u001b[1;33m\u001b[0m\u001b[0m\n\u001b[0;32m    368\u001b[0m         \u001b[1;32melse\u001b[0m\u001b[1;33m:\u001b[0m\u001b[1;33m\u001b[0m\u001b[1;33m\u001b[0m\u001b[0m\n",
      "\u001b[1;32m~\\anaconda3\\envs\\datascience\\lib\\site-packages\\urllib3\\request.py\u001b[0m in \u001b[0;36mrequest\u001b[1;34m(self, method, url, fields, headers, **urlopen_kw)\u001b[0m\n\u001b[0;32m     72\u001b[0m \u001b[1;33m\u001b[0m\u001b[0m\n\u001b[0;32m     73\u001b[0m         \u001b[1;32mif\u001b[0m \u001b[0mmethod\u001b[0m \u001b[1;32min\u001b[0m \u001b[0mself\u001b[0m\u001b[1;33m.\u001b[0m\u001b[0m_encode_url_methods\u001b[0m\u001b[1;33m:\u001b[0m\u001b[1;33m\u001b[0m\u001b[1;33m\u001b[0m\u001b[0m\n\u001b[1;32m---> 74\u001b[1;33m             return self.request_encode_url(\n\u001b[0m\u001b[0;32m     75\u001b[0m                 \u001b[0mmethod\u001b[0m\u001b[1;33m,\u001b[0m \u001b[0murl\u001b[0m\u001b[1;33m,\u001b[0m \u001b[0mfields\u001b[0m\u001b[1;33m=\u001b[0m\u001b[0mfields\u001b[0m\u001b[1;33m,\u001b[0m \u001b[0mheaders\u001b[0m\u001b[1;33m=\u001b[0m\u001b[0mheaders\u001b[0m\u001b[1;33m,\u001b[0m \u001b[1;33m**\u001b[0m\u001b[0murlopen_kw\u001b[0m\u001b[1;33m\u001b[0m\u001b[1;33m\u001b[0m\u001b[0m\n\u001b[0;32m     76\u001b[0m             )\n",
      "\u001b[1;32m~\\anaconda3\\envs\\datascience\\lib\\site-packages\\urllib3\\request.py\u001b[0m in \u001b[0;36mrequest_encode_url\u001b[1;34m(self, method, url, fields, headers, **urlopen_kw)\u001b[0m\n\u001b[0;32m     94\u001b[0m             \u001b[0murl\u001b[0m \u001b[1;33m+=\u001b[0m \u001b[1;34m\"?\"\u001b[0m \u001b[1;33m+\u001b[0m \u001b[0murlencode\u001b[0m\u001b[1;33m(\u001b[0m\u001b[0mfields\u001b[0m\u001b[1;33m)\u001b[0m\u001b[1;33m\u001b[0m\u001b[1;33m\u001b[0m\u001b[0m\n\u001b[0;32m     95\u001b[0m \u001b[1;33m\u001b[0m\u001b[0m\n\u001b[1;32m---> 96\u001b[1;33m         \u001b[1;32mreturn\u001b[0m \u001b[0mself\u001b[0m\u001b[1;33m.\u001b[0m\u001b[0murlopen\u001b[0m\u001b[1;33m(\u001b[0m\u001b[0mmethod\u001b[0m\u001b[1;33m,\u001b[0m \u001b[0murl\u001b[0m\u001b[1;33m,\u001b[0m \u001b[1;33m**\u001b[0m\u001b[0mextra_kw\u001b[0m\u001b[1;33m)\u001b[0m\u001b[1;33m\u001b[0m\u001b[1;33m\u001b[0m\u001b[0m\n\u001b[0m\u001b[0;32m     97\u001b[0m \u001b[1;33m\u001b[0m\u001b[0m\n\u001b[0;32m     98\u001b[0m     def request_encode_body(\n",
      "\u001b[1;32m~\\anaconda3\\envs\\datascience\\lib\\site-packages\\urllib3\\poolmanager.py\u001b[0m in \u001b[0;36murlopen\u001b[1;34m(self, method, url, redirect, **kw)\u001b[0m\n\u001b[0;32m    373\u001b[0m             \u001b[0mresponse\u001b[0m \u001b[1;33m=\u001b[0m \u001b[0mconn\u001b[0m\u001b[1;33m.\u001b[0m\u001b[0murlopen\u001b[0m\u001b[1;33m(\u001b[0m\u001b[0mmethod\u001b[0m\u001b[1;33m,\u001b[0m \u001b[0murl\u001b[0m\u001b[1;33m,\u001b[0m \u001b[1;33m**\u001b[0m\u001b[0mkw\u001b[0m\u001b[1;33m)\u001b[0m\u001b[1;33m\u001b[0m\u001b[1;33m\u001b[0m\u001b[0m\n\u001b[0;32m    374\u001b[0m         \u001b[1;32melse\u001b[0m\u001b[1;33m:\u001b[0m\u001b[1;33m\u001b[0m\u001b[1;33m\u001b[0m\u001b[0m\n\u001b[1;32m--> 375\u001b[1;33m             \u001b[0mresponse\u001b[0m \u001b[1;33m=\u001b[0m \u001b[0mconn\u001b[0m\u001b[1;33m.\u001b[0m\u001b[0murlopen\u001b[0m\u001b[1;33m(\u001b[0m\u001b[0mmethod\u001b[0m\u001b[1;33m,\u001b[0m \u001b[0mu\u001b[0m\u001b[1;33m.\u001b[0m\u001b[0mrequest_uri\u001b[0m\u001b[1;33m,\u001b[0m \u001b[1;33m**\u001b[0m\u001b[0mkw\u001b[0m\u001b[1;33m)\u001b[0m\u001b[1;33m\u001b[0m\u001b[1;33m\u001b[0m\u001b[0m\n\u001b[0m\u001b[0;32m    376\u001b[0m \u001b[1;33m\u001b[0m\u001b[0m\n\u001b[0;32m    377\u001b[0m         \u001b[0mredirect_location\u001b[0m \u001b[1;33m=\u001b[0m \u001b[0mredirect\u001b[0m \u001b[1;32mand\u001b[0m \u001b[0mresponse\u001b[0m\u001b[1;33m.\u001b[0m\u001b[0mget_redirect_location\u001b[0m\u001b[1;33m(\u001b[0m\u001b[1;33m)\u001b[0m\u001b[1;33m\u001b[0m\u001b[1;33m\u001b[0m\u001b[0m\n",
      "\u001b[1;32m~\\anaconda3\\envs\\datascience\\lib\\site-packages\\urllib3\\connectionpool.py\u001b[0m in \u001b[0;36murlopen\u001b[1;34m(self, method, url, body, headers, retries, redirect, assert_same_host, timeout, pool_timeout, release_conn, chunked, body_pos, **response_kw)\u001b[0m\n\u001b[0;32m    697\u001b[0m \u001b[1;33m\u001b[0m\u001b[0m\n\u001b[0;32m    698\u001b[0m             \u001b[1;31m# Make the request on the httplib connection object.\u001b[0m\u001b[1;33m\u001b[0m\u001b[1;33m\u001b[0m\u001b[1;33m\u001b[0m\u001b[0m\n\u001b[1;32m--> 699\u001b[1;33m             httplib_response = self._make_request(\n\u001b[0m\u001b[0;32m    700\u001b[0m                 \u001b[0mconn\u001b[0m\u001b[1;33m,\u001b[0m\u001b[1;33m\u001b[0m\u001b[1;33m\u001b[0m\u001b[0m\n\u001b[0;32m    701\u001b[0m                 \u001b[0mmethod\u001b[0m\u001b[1;33m,\u001b[0m\u001b[1;33m\u001b[0m\u001b[1;33m\u001b[0m\u001b[0m\n",
      "\u001b[1;32m~\\anaconda3\\envs\\datascience\\lib\\site-packages\\urllib3\\connectionpool.py\u001b[0m in \u001b[0;36m_make_request\u001b[1;34m(self, conn, method, url, timeout, chunked, **httplib_request_kw)\u001b[0m\n\u001b[0;32m    443\u001b[0m                     \u001b[1;31m# Python 3 (including for exceptions like SystemExit).\u001b[0m\u001b[1;33m\u001b[0m\u001b[1;33m\u001b[0m\u001b[1;33m\u001b[0m\u001b[0m\n\u001b[0;32m    444\u001b[0m                     \u001b[1;31m# Otherwise it looks like a bug in the code.\u001b[0m\u001b[1;33m\u001b[0m\u001b[1;33m\u001b[0m\u001b[1;33m\u001b[0m\u001b[0m\n\u001b[1;32m--> 445\u001b[1;33m                     \u001b[0msix\u001b[0m\u001b[1;33m.\u001b[0m\u001b[0mraise_from\u001b[0m\u001b[1;33m(\u001b[0m\u001b[0me\u001b[0m\u001b[1;33m,\u001b[0m \u001b[1;32mNone\u001b[0m\u001b[1;33m)\u001b[0m\u001b[1;33m\u001b[0m\u001b[1;33m\u001b[0m\u001b[0m\n\u001b[0m\u001b[0;32m    446\u001b[0m         \u001b[1;32mexcept\u001b[0m \u001b[1;33m(\u001b[0m\u001b[0mSocketTimeout\u001b[0m\u001b[1;33m,\u001b[0m \u001b[0mBaseSSLError\u001b[0m\u001b[1;33m,\u001b[0m \u001b[0mSocketError\u001b[0m\u001b[1;33m)\u001b[0m \u001b[1;32mas\u001b[0m \u001b[0me\u001b[0m\u001b[1;33m:\u001b[0m\u001b[1;33m\u001b[0m\u001b[1;33m\u001b[0m\u001b[0m\n\u001b[0;32m    447\u001b[0m             \u001b[0mself\u001b[0m\u001b[1;33m.\u001b[0m\u001b[0m_raise_timeout\u001b[0m\u001b[1;33m(\u001b[0m\u001b[0merr\u001b[0m\u001b[1;33m=\u001b[0m\u001b[0me\u001b[0m\u001b[1;33m,\u001b[0m \u001b[0murl\u001b[0m\u001b[1;33m=\u001b[0m\u001b[0murl\u001b[0m\u001b[1;33m,\u001b[0m \u001b[0mtimeout_value\u001b[0m\u001b[1;33m=\u001b[0m\u001b[0mread_timeout\u001b[0m\u001b[1;33m)\u001b[0m\u001b[1;33m\u001b[0m\u001b[1;33m\u001b[0m\u001b[0m\n",
      "\u001b[1;32m~\\anaconda3\\envs\\datascience\\lib\\site-packages\\urllib3\\packages\\six.py\u001b[0m in \u001b[0;36mraise_from\u001b[1;34m(value, from_value)\u001b[0m\n",
      "\u001b[1;32m~\\anaconda3\\envs\\datascience\\lib\\site-packages\\urllib3\\connectionpool.py\u001b[0m in \u001b[0;36m_make_request\u001b[1;34m(self, conn, method, url, timeout, chunked, **httplib_request_kw)\u001b[0m\n\u001b[0;32m    438\u001b[0m                 \u001b[1;31m# Python 3\u001b[0m\u001b[1;33m\u001b[0m\u001b[1;33m\u001b[0m\u001b[1;33m\u001b[0m\u001b[0m\n\u001b[0;32m    439\u001b[0m                 \u001b[1;32mtry\u001b[0m\u001b[1;33m:\u001b[0m\u001b[1;33m\u001b[0m\u001b[1;33m\u001b[0m\u001b[0m\n\u001b[1;32m--> 440\u001b[1;33m                     \u001b[0mhttplib_response\u001b[0m \u001b[1;33m=\u001b[0m \u001b[0mconn\u001b[0m\u001b[1;33m.\u001b[0m\u001b[0mgetresponse\u001b[0m\u001b[1;33m(\u001b[0m\u001b[1;33m)\u001b[0m\u001b[1;33m\u001b[0m\u001b[1;33m\u001b[0m\u001b[0m\n\u001b[0m\u001b[0;32m    441\u001b[0m                 \u001b[1;32mexcept\u001b[0m \u001b[0mBaseException\u001b[0m \u001b[1;32mas\u001b[0m \u001b[0me\u001b[0m\u001b[1;33m:\u001b[0m\u001b[1;33m\u001b[0m\u001b[1;33m\u001b[0m\u001b[0m\n\u001b[0;32m    442\u001b[0m                     \u001b[1;31m# Remove the TypeError from the exception chain in\u001b[0m\u001b[1;33m\u001b[0m\u001b[1;33m\u001b[0m\u001b[1;33m\u001b[0m\u001b[0m\n",
      "\u001b[1;32m~\\anaconda3\\envs\\datascience\\lib\\http\\client.py\u001b[0m in \u001b[0;36mgetresponse\u001b[1;34m(self)\u001b[0m\n\u001b[0;32m   1346\u001b[0m         \u001b[1;32mtry\u001b[0m\u001b[1;33m:\u001b[0m\u001b[1;33m\u001b[0m\u001b[1;33m\u001b[0m\u001b[0m\n\u001b[0;32m   1347\u001b[0m             \u001b[1;32mtry\u001b[0m\u001b[1;33m:\u001b[0m\u001b[1;33m\u001b[0m\u001b[1;33m\u001b[0m\u001b[0m\n\u001b[1;32m-> 1348\u001b[1;33m                 \u001b[0mresponse\u001b[0m\u001b[1;33m.\u001b[0m\u001b[0mbegin\u001b[0m\u001b[1;33m(\u001b[0m\u001b[1;33m)\u001b[0m\u001b[1;33m\u001b[0m\u001b[1;33m\u001b[0m\u001b[0m\n\u001b[0m\u001b[0;32m   1349\u001b[0m             \u001b[1;32mexcept\u001b[0m \u001b[0mConnectionError\u001b[0m\u001b[1;33m:\u001b[0m\u001b[1;33m\u001b[0m\u001b[1;33m\u001b[0m\u001b[0m\n\u001b[0;32m   1350\u001b[0m                 \u001b[0mself\u001b[0m\u001b[1;33m.\u001b[0m\u001b[0mclose\u001b[0m\u001b[1;33m(\u001b[0m\u001b[1;33m)\u001b[0m\u001b[1;33m\u001b[0m\u001b[1;33m\u001b[0m\u001b[0m\n",
      "\u001b[1;32m~\\anaconda3\\envs\\datascience\\lib\\http\\client.py\u001b[0m in \u001b[0;36mbegin\u001b[1;34m(self)\u001b[0m\n\u001b[0;32m    314\u001b[0m         \u001b[1;31m# read until we get a non-100 response\u001b[0m\u001b[1;33m\u001b[0m\u001b[1;33m\u001b[0m\u001b[1;33m\u001b[0m\u001b[0m\n\u001b[0;32m    315\u001b[0m         \u001b[1;32mwhile\u001b[0m \u001b[1;32mTrue\u001b[0m\u001b[1;33m:\u001b[0m\u001b[1;33m\u001b[0m\u001b[1;33m\u001b[0m\u001b[0m\n\u001b[1;32m--> 316\u001b[1;33m             \u001b[0mversion\u001b[0m\u001b[1;33m,\u001b[0m \u001b[0mstatus\u001b[0m\u001b[1;33m,\u001b[0m \u001b[0mreason\u001b[0m \u001b[1;33m=\u001b[0m \u001b[0mself\u001b[0m\u001b[1;33m.\u001b[0m\u001b[0m_read_status\u001b[0m\u001b[1;33m(\u001b[0m\u001b[1;33m)\u001b[0m\u001b[1;33m\u001b[0m\u001b[1;33m\u001b[0m\u001b[0m\n\u001b[0m\u001b[0;32m    317\u001b[0m             \u001b[1;32mif\u001b[0m \u001b[0mstatus\u001b[0m \u001b[1;33m!=\u001b[0m \u001b[0mCONTINUE\u001b[0m\u001b[1;33m:\u001b[0m\u001b[1;33m\u001b[0m\u001b[1;33m\u001b[0m\u001b[0m\n\u001b[0;32m    318\u001b[0m                 \u001b[1;32mbreak\u001b[0m\u001b[1;33m\u001b[0m\u001b[1;33m\u001b[0m\u001b[0m\n",
      "\u001b[1;32m~\\anaconda3\\envs\\datascience\\lib\\http\\client.py\u001b[0m in \u001b[0;36m_read_status\u001b[1;34m(self)\u001b[0m\n\u001b[0;32m    275\u001b[0m \u001b[1;33m\u001b[0m\u001b[0m\n\u001b[0;32m    276\u001b[0m     \u001b[1;32mdef\u001b[0m \u001b[0m_read_status\u001b[0m\u001b[1;33m(\u001b[0m\u001b[0mself\u001b[0m\u001b[1;33m)\u001b[0m\u001b[1;33m:\u001b[0m\u001b[1;33m\u001b[0m\u001b[1;33m\u001b[0m\u001b[0m\n\u001b[1;32m--> 277\u001b[1;33m         \u001b[0mline\u001b[0m \u001b[1;33m=\u001b[0m \u001b[0mstr\u001b[0m\u001b[1;33m(\u001b[0m\u001b[0mself\u001b[0m\u001b[1;33m.\u001b[0m\u001b[0mfp\u001b[0m\u001b[1;33m.\u001b[0m\u001b[0mreadline\u001b[0m\u001b[1;33m(\u001b[0m\u001b[0m_MAXLINE\u001b[0m \u001b[1;33m+\u001b[0m \u001b[1;36m1\u001b[0m\u001b[1;33m)\u001b[0m\u001b[1;33m,\u001b[0m \u001b[1;34m\"iso-8859-1\"\u001b[0m\u001b[1;33m)\u001b[0m\u001b[1;33m\u001b[0m\u001b[1;33m\u001b[0m\u001b[0m\n\u001b[0m\u001b[0;32m    278\u001b[0m         \u001b[1;32mif\u001b[0m \u001b[0mlen\u001b[0m\u001b[1;33m(\u001b[0m\u001b[0mline\u001b[0m\u001b[1;33m)\u001b[0m \u001b[1;33m>\u001b[0m \u001b[0m_MAXLINE\u001b[0m\u001b[1;33m:\u001b[0m\u001b[1;33m\u001b[0m\u001b[1;33m\u001b[0m\u001b[0m\n\u001b[0;32m    279\u001b[0m             \u001b[1;32mraise\u001b[0m \u001b[0mLineTooLong\u001b[0m\u001b[1;33m(\u001b[0m\u001b[1;34m\"status line\"\u001b[0m\u001b[1;33m)\u001b[0m\u001b[1;33m\u001b[0m\u001b[1;33m\u001b[0m\u001b[0m\n",
      "\u001b[1;32m~\\anaconda3\\envs\\datascience\\lib\\socket.py\u001b[0m in \u001b[0;36mreadinto\u001b[1;34m(self, b)\u001b[0m\n\u001b[0;32m    667\u001b[0m         \u001b[1;32mwhile\u001b[0m \u001b[1;32mTrue\u001b[0m\u001b[1;33m:\u001b[0m\u001b[1;33m\u001b[0m\u001b[1;33m\u001b[0m\u001b[0m\n\u001b[0;32m    668\u001b[0m             \u001b[1;32mtry\u001b[0m\u001b[1;33m:\u001b[0m\u001b[1;33m\u001b[0m\u001b[1;33m\u001b[0m\u001b[0m\n\u001b[1;32m--> 669\u001b[1;33m                 \u001b[1;32mreturn\u001b[0m \u001b[0mself\u001b[0m\u001b[1;33m.\u001b[0m\u001b[0m_sock\u001b[0m\u001b[1;33m.\u001b[0m\u001b[0mrecv_into\u001b[0m\u001b[1;33m(\u001b[0m\u001b[0mb\u001b[0m\u001b[1;33m)\u001b[0m\u001b[1;33m\u001b[0m\u001b[1;33m\u001b[0m\u001b[0m\n\u001b[0m\u001b[0;32m    670\u001b[0m             \u001b[1;32mexcept\u001b[0m \u001b[0mtimeout\u001b[0m\u001b[1;33m:\u001b[0m\u001b[1;33m\u001b[0m\u001b[1;33m\u001b[0m\u001b[0m\n\u001b[0;32m    671\u001b[0m                 \u001b[0mself\u001b[0m\u001b[1;33m.\u001b[0m\u001b[0m_timeout_occurred\u001b[0m \u001b[1;33m=\u001b[0m \u001b[1;32mTrue\u001b[0m\u001b[1;33m\u001b[0m\u001b[1;33m\u001b[0m\u001b[0m\n",
      "\u001b[1;31mKeyboardInterrupt\u001b[0m: "
     ]
    }
   ],
   "source": [
    "for i in range(11):\n",
    "    \n",
    "    seed = np.random.randint(100)\n",
    "    np.random.seed(seed)\n",
    "    a = np.random.randint(5)\n",
    "    time.sleep(a)\n",
    "    \n",
    "    titles = browser.find_elements(By.CLASS_NAME, 'mCBkyc')\n",
    "    title = []\n",
    "    for i in titles:\n",
    "            temp_title = i.text\n",
    "            temp_title = temp_title.replace(\",\", \"\")\n",
    "            title.append(temp_title)\n",
    "\n",
    "    print(title)\n",
    "    \n",
    "    seed = np.random.randint(100)\n",
    "    np.random.seed(seed)\n",
    "    a = np.random.randint(5)\n",
    "    time.sleep(a)\n",
    "\n",
    "    browser.find_element(By.XPATH, '//*[@id=\"pnnext\"]/span[2]').click()"
   ]
  },
  {
   "cell_type": "code",
   "execution_count": 13,
   "id": "2f3672dc",
   "metadata": {
    "ExecuteTime": {
     "end_time": "2022-10-25T14:29:02.489522Z",
     "start_time": "2022-10-25T14:29:02.481545Z"
    }
   },
   "outputs": [],
   "source": [
    "import time"
   ]
  },
  {
   "cell_type": "code",
   "execution_count": 14,
   "id": "1e397c8a",
   "metadata": {
    "ExecuteTime": {
     "end_time": "2022-10-25T14:31:09.259423Z",
     "start_time": "2022-10-25T14:29:04.445118Z"
    }
   },
   "outputs": [
    {
     "name": "stdout",
     "output_type": "stream",
     "text": [
      "['[비즈&] 롯데홈쇼핑 물류센터에 업계 최초 자동화 시스템 도입 外', \"'5분이면 청약 끝'…한화생명 청약자동화 솔루션 특허 취득\", '롯데홈쇼핑 이천 물류센터 오픈...최첨단 자동화 시스템 갖춰', '‘2022 국제 공구 및 스마트 용접 자동화전’ 성료', \"지멘스 차세대 IC DFT 자동화 솔루션 '테센트 멀티-다이' 공개\", '창원시 창원국제용접 및 절단자동화전 성료', '창원시 \"국내 최대 용접 및 절단자동화전 328억 수출상담\"', '자동화로 네트워크 전체 스위치 업그레이드를 효율화하는 방법', '유아이패스 “자동화 시장 RPA에서 지능형 프로세스 자동화(IPA ...', '롯데홈쇼핑 이천 물류센터 오픈…자동화 시스템 도입']\n",
      "['디티앤씨알오 “자동화 CRO 플랫폼으로 성장할 것”', '최고의 회사 판매 소비 가격 및 성장률과 함께 광업 실험실 ...', \"플로어블 사업 자동화 행사 '플로우페스트 2022' 개최… 보쉬 ...\", '[AI 기반 제조혁신-②] 조선업계 업황 개선에 인력 부족은 더욱 ...', \"[기고] Digital Labor와 사람이 공생하는 '미래'가 아닌 '현실 ...\", '블루프리즘 전사적 자동화 지원하는 통합 지능형 자동화 플랫폼 출시', \"주방 자동화로 인력난 대처하는 日 국수전문점 '매직 누들 향미 ...\", \"[유통가Info.] 롯데홈쇼핑 자동화 시스템 도입한 '이천 물류센터 ...\", '한화생명 청약자동화 솔루션 특허 취득', \"BIkorea 모바일 사이트 블루프리즘 '통합 지능형 자동화' 플랫폼 ...\"]\n",
      "['엔터프라이즈 로봇 프로세스 자동화 시장 2022 성장 최신 동향 ...', '한화생명 청약자동화 솔루션 특허 취득 - 서울경제', '백오피스 자동화 시장(2022~2028) – 산업 분야 전반에 걸쳐 ...', '한국미쓰도요 정밀 측정 자동화 주제 오픈하우스 개최', '\"국내 기업 97% 자동화 고도화 고려...문제는 인력난\"', \"한화생명 청약자동화 솔루션 특허 '설계부터 청약까지 단 5분'\", '산업자동화 TSN 공통 적합성 시험 개발 위한 TIACC 출범.. CC ...', '코닉오토메이션 LG화학에 자동화시스템 구축', '[한국산업대전] 물류 자동화 만드는 부품 및 솔루션', '블루프리즘 전사적 자동화 확산 지원하는 통합 지능형 자동화 ...']\n",
      "['그루밍 지역의 필드 포스 자동화 시장 경쟁 통찰력 및 기회 ...', '美 인비아 쉽히어로 2개 물류창고 추가 자동화', '美 인비아 쉽히어로 2개 물류창고 추가 자동화', '산업 자동화 거리 측정 센서 시장: 2028년까지 제품 주요 ...', \"블루프리즘 전사적 자동화 확산 돕는 '통합 지능형 자동화 ...\", '로봇신문사 모바일 모바일 사이트 화낙 아일랜드 로봇·자동화 ...', '피플펀드 대출 승인전략 자동화 시스템 개발…연내 적용', '지능형 프로세스 자동화(IPA) 시장 2022 글로벌 통찰력 및 ...', '\\'코스닥 상장\\' 앞둔 뉴로메카 \"로봇 자동화로 글로벌 본격 공략\"', '블루프리즘 통합 지능형 자동화 플랫폼 출시 < 솔루션 < 뉴스 ...']\n",
      "['[화요광장] 인공지능(AI)으로 인한 생산성 향상에 대한 효과 분석', 'CDP 마케팅 자동화 솔루션과 함께 사용되어야 하는 네 가지 이유', '코닉오토메이션 LG화학 ‘검사 자동화 시스템’ 구축 수주', '카카오 홍은택 \"복구 지연 원인은 서버 자동화 배포 시스템\"', '로봇 공학 기반 자동화 시스템 2022-2028 시장 규모 성장 동향 ...', '양식 자동화 소프트웨어 시장 2022 규모 성장 분석 보고서 ...', '실험실 자동화 소프트웨어 시장은 가까운 장래에 큰 영향을 미칠 ...', '롯데홈쇼핑 이천 물류센터 오픈···최첨단 자동화 출고 시스템 구축', '유아이패스 \"국내 기업들 지능형 프로세스 자동화(IPA) 전환이 ...', '“한국 조직의 3분의 2 2025년까지 RPA 도입 및 전사적 확장할 것”']\n",
      "['[한국산업대전] AI 기반 제상 자동화로 에너지 절감', \"협동로봇 개척자 '뉴로메카' 공모가 1만6900원 '밴드 최상단 ...\", '[ISEC 2022] 시높시스 오픈소스 보안 자동화에 대한 글로벌 ...', '자동화 vs 밧줄 당기기... 많이 다른 남과 북의 도하작전', '[한국산업대전] 분말펌프 및 분말 정량 토출기…로봇자동화 대응', \"지멘스 DFT 작업 자동화 위한 '테센트 멀티 다이' 솔루션 발표\", \"두산로보틱스 '2022 창원국제용접 및 절단자동화전' 참가\", '에이티에이 ‘2022 창원국제용접 및 절단자동화전’서 협동로봇 활용한 자동화 시스템 선보여... “참관객 이니셜로 라벨 부착 시연!”', '[스타트업 101 #67] 스토어링크 AI 기반 마케팅 자동화 솔루션 ...', '데일리경제']\n",
      "['2022-2028년까지 애플리케이션 및 개발 예측별로 분류된 ...', '블루프리즘 BPM 결합한 통합 지능형 자동화 플랫폼 공개', '블루프리즘 통합 지능형 자동화 플랫폼 내놔', '[후생신보] 삼광의료재단 충남 대전 소재 중부센터 전격 개원', \"[기업IR] 제일전기공업 '부산제조혁신협의회' 개최...스마트공장 ...\", '“최첨단 물류 자동화 도입” 롯데홈쇼핑 이천 물류센터 개관', '[약업신문]대한약사회 약국 의약품 재고관리 자동화 추진', '코윈테크 368억원 규모 2차전지 시스템 수주 ... 잇단 수출계약 ...', '약사회-심평원 약국 의약품 재고 관리 자동화 추진', '삼광의료재단 대전에 중부센터 개원…첨단 자동화 검사 시스템 ...']\n",
      "['아나로그디바이스 일렉트로니카 2022에서 산업의 지속 가능한 ...', \"[직썰현장] 로봇·무인·자동화…프랜차이즈 창업 '대세'를 찾아라\", '대성기술텍 ‘2022 창원국제용접 및 절단자동화전’서 ‘DAM Plus 레이저 절단기’ 공개… “스마트 자동화 지원으로 높은 가성비”', '로봇카페 비트 서대구역 등 KTX 주요역사 입점…자동화로 ...', '석유 및 가스 산업 자동화 시장 개요 및 경쟁 분석 – ABB Ltd ...', '슈어소프트테크 ‘2022 대구 국제 미래모빌리티엑스포’서 소프트웨어 검증 자동화 분야 독자 기술 알린다!', '에스씨하이테크 ‘2022 창원국제용접 및 절단자동화전’서 복합기능 갖춘 산업로봇용 ACF 선보여', '스마트 홈 자동화 시장 신흥 동향 및 글로벌 수요 2022~2028 ...', '[르포] 로봇 600여대가 車 용접하고 조립...차세대 CUV 생산거점 ...', '리지드 ‘2022 창원국제용접 및 절단자동화전’서 파이프 스탠드 및 용접 바이스 알려… “다양한 용도의 작업대 역할”']\n",
      "['시간과 노력을 줄이고도 더 안전하게 MS Security의 지향점', '제록스 분기 실적 발표... 어닝쇼크 매출 시장전망치 부합', '영빈테크 ‘2022 창원국제용접 및 절단자동화전’서 독일제 슈퍼 크리녹스 & 파이프 벤딩 복합기 소개해', '제이엘코리아 ‘2022 창원국제용접 및 절단자동화전’서 레이저 용접기 선보여... “모재의 열변형 없는 장점!”', '초인종 카메라 탓에 택배기사의 ‘상사’처럼 굴다', '레이텍코리아 ‘2022 창원국제용접 및 절단자동화전’서 시그문드(siegmund) 용접테이블과 모듈화 클램핑 시스템 소개해', '서경브레이징 HARFKO 2022서 다양한 브레이징 기계 소개해... “브레이징 자동화 독자 기술로 시장 선도하겠다!”', '유성이앤지 ‘2022 창원국제용접 및 절단자동화전’서 핸디형 파이버 레이저 마킹기 선보여... “유지관리 비용 최소화!”', 'SDA(서비스 제공 자동화) 시장 2022 글로벌 통찰력 및 비즈니스 ...', '[ISEC 2022] 시큐레터 리버스 엔지니어링 기술 활용한 악성코드 ...']\n",
      "['코윈테크 368억원 수주 계약 체결...2차전지 시장 지속적인 수주 확대', 'SPC그룹 뒤늦은 사고방지 대책...불매운동 잠재울 수 있을까', '비티케이오성 ‘2022 창원국제용접 및 절단자동화전’서 원터치 그라인딩 옵셋트 선보여... “흔들림 현상 없는 안전성!”', \"아나로그디바이스 '일렉트로니카 2022'에서 산업의 지속 가능한 ...\", '일등테크 ‘2022 창원국제용접 및 절단자동화전’서 소부제 철판 개선가공기 선보여... “분당 가공능력 우수!”', '코시스 ‘2022 창원국제용접 및 절단자동화전’서 형강 드릴 톱절단 탬덤라인 공개... “다양한 형강 3면 홀 작업 가능!”', 'Advanced Instruments 임상 실험실 생산성을 극대화하는 자동 ...', '\"딱 걸렸다\"…김포경찰서 시민신고로 보이스피싱 수거책 검거', '삼광의료재단 대전 유성구에 중부센터 개원', '데일리경제']\n",
      "['[오라클 클라우드월드 2022]오라클 기업 매매·거래 통합·자동화 ...', '광양만권경제자유구역청 ‘2022 창원국제용접 및 절단자동화전’서 하동지구 ‘대송산업단지’ 기업 유치 나서!', '두산로보틱스 협력사와 로봇용접 자동화 솔루션 선보인다', \"창조테크 '2022 창원국제용접 및 절단자동화전'서 파이프 베벨 ...\", '자동화 엔지니어링 서비스 시장 2022 성장하는 수요 규모 및 ...', '룩테크 ‘2022 창원국제용접 및 절단자동화전’서 신개념 금형 보수장비 ‘메탈닥터(METAL DOCTOR)’ 알렸다!', '한국카쿠무역 ‘2022 창원국제용접 및 절단자동화전’서 냉각팬 및 원심형 터보팬 공개… “안전과 환경 중시하는 완전 방수팬”', '주요 업체의 자동화 된 손 소독제 자동 판매기 시장 경쟁 환경 및 ...', '[특파원 리포트] 실리콘 가울프스피드(WOLF.K) 다양한 긍정적 ...', 'TM ‘2022 창원국제용접 및 절단자동화전’서 독일 비커스(WIKUS)社 철골 절단용 톱날 알려… “양면코팅의 견고함 강점”']\n",
      "['[Pangyo Tech] 비트코퍼레이션 미래형 로봇카페 KTX 서대구역에 입점... “자동화로 서비스 품질 UP!”', \"디지털 도어락 '즉시 잠기고 자동으로 열린다'\", '가온소프트 ‘2022 창원국제용접 및 절단자동화전’서 적재위치 트레킹 통한 실시간 모니터링 시스템 소개해... “물류인식 간소화!”', '엔디티엔지니어링 ‘2022 창원국제용접 및 절단자동화전’서 휴대용 초음파 탐상기 전시... “실외작업 최적화된 디자인!”', '전주시·정보문화산업진흥원 건설현장 자동화 시스템 구축', 'SMATEC 2022 제2회 스마트 제조 엔지니어링 콘퍼런스 개최', '한국아이에스 ‘2022 창원국제용접 및 절단자동화전’서 쉴드가스 절약형 레귤레이터 전시… “약 40%의 가스절약 효과!”', '아이티케이웰딩 ‘2022 창원국제용접 및 절단자동화전’서 플라즈마 아크 용접 콘솔 소개해... “용접 주변기기 국산화 목표!”', '자동화 계측 시장 2022 정확한 전망 – ABB Ltd Emerson ...', \"K-건설기계 '친환경·스마트' 바람 분다\"]\n",
      "['오라클 회장 \"상호연결·자동화로 `공공의료 DB` 만들겠다\"', '최신 사이버위협 대응 인공지능·머신러닝 보안자동화 정보보호 ...', '[PRNewswire] Advanced Instruments 임상 실험실 생산성을 ...', '[르포]한국지엠 창원공장 가보니…최첨단 자동화로 시간당 60대 ...', '더 빠르고 안전하게...KIST 로봇 활용 비대면·원격 검체 채취 ...', \"BIkorea 모바일 사이트 유니버설 로봇 '협동로봇 활용 사례 ...\", 'Advanced Instruments 자동 삼투압 측정기 OsmoPRO® MAX ...', '년까지 로봇 프로세스 자동화 소프트웨어 시장 개요 규모 ...', '자동화된 인슐린 전달 시스템 시장 2022는 2028년까지 ...', '자동화된 드론 비행 소프트웨어 시장 2020 최근 개발 및 성장 ...']\n",
      "['유니버설 로봇 협동로봇 활용 사례 전시회 연다', \"HR 담당자들 “대화형 AI 플랫폼 도입 '직원경험 혁신' 가장 기대해”\", \"요양병원 청구·입퇴원 업무 '로봇'이 대신한다\", '[SOAR ⑤] 포티넷 | “충실한 SOA SIRP TIP 기능…국내 맞춤 ...', '차세대 CUV 생산 준비 박차 GM 창원공장 살펴보니', '11월 상장 뉴로메카…“세계 최대 규모 협동로봇 생산능력 구축 ...', '[뉴로메카] [투자의 시대/IPO기업] 협동로봇 자동화의 선도기업', '유니버설 로봇 협동로봇 활용 사례 전시회 11월 1-2일 개최', \"한전 '경인 물류센터' 첨단기술 기반 물류혁신 나선다\", '[인터뷰] 안준형 오아시스마켓 대표 \"한파에 왜 IPO? 옥석 가려 ...']\n",
      "[\"한전 '경인 물류센터' 첨단기술 기반 물류혁신 나선다\", '[인터뷰] 안준형 오아시스마켓 대표 \"한파에 왜 IPO? 옥석 가려 ...', '데일리경제', 'IoT와 AI…건설현장의 안전과 생산성 제고한다', '[카드] 뉴로메카 공모가 최상단…수요예측 1652.1대 1', '美 앨리 로보틱스 노코드 로봇팔 개발', '제네시스 최초의 전용 전기차 GV60 제작 과정 영상 공개', \"'카톡 먹통' 카카오 부족했던 세 가지…자동화·셧다운 훈련·자체 ...\", '\"연간 50만대 생산 내년 흑자 전환하겠다\"', '지멘스EDA 2.5D/3D IC DFT 작업 자동화 툴 공개']\n",
      "[\"초인종 카메라 탓에 택배기사의 '상사'처럼 굴다\", '코윈테크 글로벌 대형사 368억 수주 계약 체결', '[기고] 망설여지는 RPA 전사도입... AI와 클라우드로 해결 가능해', \"'한국지엠의 미래' 창원공장…“무결점 신차 위한 '스마트팩토리 ...\", '부산항 신항 스마트 공동물류센터..누가 운영할까?', \"'주방기기도 자동화 시대'\", \"'참치캔 작은 뼈' 3단계 수작업에도 놓쳤는데…놀라운 일이\", '엔터플 싱크트리 노코드로 백엔드 개발시간 80%↓', \"현대엔지니어링 'HEC 2022 기술컨퍼런스' 개최\", '[ISEC 2022] 2차 개정된 개인정보보호법과 향후 정책방향 ...']\n",
      "['3D 로봇 비전 플랫폼 적용 사례 공유하는 웨비나 열린다', '국토부 BIM 활성화 위한 교육지원 시범사업 추진', '\"펑션12 프런트 개발 시간 20분의 1로 단축\"', '동서식품 경남 창원공장에 스마트팩토리 가동··418억원 투자', '브라더인터내셔널코리아 다관절 로봇용 고강성 감속기 출시', '한국폴리텍대학 부산캠퍼스 에스피시스템스와 산학협력 교류 ...', '농협은행 대손보전 업무 디지털화…“농민 권익 보호 강화”', '데브간 케이던스 CEO “AI 기반 설계로 미세공정 진화 돕는다”', \"이든티앤에스 RPA 솔루션 '웍트로닉스' 오는 27일 공개\", '“친환경 세제 공동 개발 나섰다”…한국이콜랩 뽀득과 MOU']\n",
      "['홈버튼 ‘임대부동산계의 빅데이터 플랫폼으로 도약’', '이든티앤에스 네이버 클라우드 플랫폼 온라인 웨비나서 ‘웍 ...', '카카오 홍은택 \"복구 지연 원인은 서버 자동화 배포 시스템\"', '서울시 관악복합평생교육센터 11월 1일 개관', '[한국산업대전] 고경도 난삭재료 가공용 드릴링 머신 선보여', '[한국산업대전] 컴프레셔 에너지 효율 고려할 때', '[한국산업대전] “국산 감속기 정부의 집중적·지속적인 지원 필요”', '한국지엠 경차 전용 창원 공장 차세대 CUV 라인으로 탈바꿈', '표철민 체인파트너스 대표의 ‘Dream’ & ‘Changer’', '[The dailynews l 미래를 여는 희망찬 신문] Advanced ...']\n",
      "['[The dailynews l 미래를 여는 희망찬 신문] Advanced ...', \"모티브인텔리전스 '2022 일·생활균형 서울형 강소기업' 선정\", '[재테크 TIP] 이달 IPO 청약 일정은?…\"반도체·로봇 기업 상장 ...', '[ISEC 2022] 지란지교에스앤씨 워라밸이 가능한 방화벽 정책관리', 'DGB금융그룹 4세대 지능형 보안관제시스템 구축', '서비스나우-데이터독 27일 클라우드 운영 혁신 웨비나 개최', '[카드] 코윈테크 글로벌 대형사에 368억원 규모 수주 계약', \"디지털 장밋빛 미래의 그림자… '일자리 예습' 준비해야 할 때\", '[2022 건설협력증진대상] 국토교통부장관상-영신디엔씨', 'BIM 활성화 촉진을 위한 교육지원 시범사업 추진']\n",
      "['BIM 활성화 촉진을 위한 교육지원 시범사업 추진', \"인간을 대신하는 '튀김로봇 바리스타로봇 미러로이드'…\", '부산항 신항 스마트 공동물류센터 운영사 선정 절차 개시', 'ISC 유럽 반도체 시장 공략 잰걸음', '구미시 방사청·구미국방벤처센터와 방산기업 현장소통간담회 ...', '“수작업 의존하는 철의장 산업 디지털 전환으로 생산성 높여야”', '[한국산업대전] 용입률 높은 AC 스팟용접기', '건설기계 ‘친환경·스마트·콘셉트화’ 바람', '롯데홈쇼핑 이천 물류센터 오픈…최첨단 물류 인프라 구현', 'BIM 활성화 위한 교육지원 시범사업 추진']\n",
      "['[신제품] 슈나이더일렉트릭 코리아', '[보건복지타임스] Advanced Instruments 임상 실험실 생산성을 ...', '[한국산업대전] 습식 샌딩 블라스트 머신의 해외 판로 개척에 ...', '국토부 BIM 활성화 위한 교육지원 시범사업 추진', \"의료용 대마 뜬다?…안동에 쏠리는 스타트업의 시선[Geeks' Briefing]\", '선형 전송 자동화 시스템 시장 규모 상태 글로벌 수요 및 상위 ...', '\"스마트폰으로 단 5분\"…한화생명 청약자동화 솔루션 특허 취득', '자동화 음식물처리기 린클프라임 롯데홈쇼핑 25일 TV라이브 편성', '물류 자동화 시장 세분화 시장 선수 동향 및 예측 2030 – 아시아 ...', 'Oracle Microsoft Broadcom BMC Software 등 주요 업체의 ...']\n"
     ]
    },
    {
     "name": "stdout",
     "output_type": "stream",
     "text": [
      "['멜트 샵 자동화 및 최적화 서비스 시장 규모 상태 수요 성장 및 ...', '우편 자동화 시스템 시장: 신흥 동향 성장 분석 CAGR 및 기회 ...', '산업 자동화 시장을 위한 포그 컴퓨팅은 예측 2022-2028 동안 ...', '마케팅 자동화 도구 시장: 2029년까지 제품 주요 주요 업체 ...', '자동화된 자재 처리 시스템 시장 2021-2031년 동안 상당한 ...', '초자동화 시장 전략 개요 및 2029 년까지 기술 범위 예측: UiPath ...', '자동화 로봇 기술 시장 경쟁 인사이트 2022-2028: ABB Fanuc ...', '자동화 지게차 시장 2022를 위한 센서 및 카메라 종합 인사이트 ...', 'ETL 자동화 테스트 시장 예측 2022 – 2028: 주요 이해 관계자를 ...', '자동화 된 세포 배양 시장 조사 역학 통계 및 2027 년 예측 ...']\n",
      "['글로벌 자동화된 식민지 카운터 시장 SWOT 분석 주요 동향 및 ...', '[2022-2032] 의료 자동화 시장 규모 점유율 및 성장 보고서', '산업 자동화 소프트웨어시장 예측 Emerson Electric Rockwell ...', '자동화 계측 시장에서 2028 년까지 놀라운 성장을 목격 – 시사 ...', '자동화 제조 2022-2028년 예측 기간 동안 시장 건전한 속도']\n"
     ]
    },
    {
     "ename": "NoSuchElementException",
     "evalue": "Message: no such element: Unable to locate element: {\"method\":\"xpath\",\"selector\":\"//*[@id=\"pnnext\"]/span[2]\"}\n  (Session info: chrome=106.0.5249.119)\nStacktrace:\nBacktrace:\n\tOrdinal0 [0x003F1ED3+2236115]\n\tOrdinal0 [0x003892F1+1807089]\n\tOrdinal0 [0x002966FD+812797]\n\tOrdinal0 [0x002C55DF+1005023]\n\tOrdinal0 [0x002C57CB+1005515]\n\tOrdinal0 [0x002F7632+1209906]\n\tOrdinal0 [0x002E1AD4+1120980]\n\tOrdinal0 [0x002F59E2+1202658]\n\tOrdinal0 [0x002E18A6+1120422]\n\tOrdinal0 [0x002BA73D+960317]\n\tOrdinal0 [0x002BB71F+964383]\n\tGetHandleVerifier [0x0069E7E2+2743074]\n\tGetHandleVerifier [0x006908D4+2685972]\n\tGetHandleVerifier [0x00482BAA+532202]\n\tGetHandleVerifier [0x00481990+527568]\n\tOrdinal0 [0x0039080C+1837068]\n\tOrdinal0 [0x00394CD8+1854680]\n\tOrdinal0 [0x00394DC5+1854917]\n\tOrdinal0 [0x0039ED64+1895780]\n\tBaseThreadInitThunk [0x7664FA29+25]\n\tRtlGetAppContainerNamedObjectPath [0x76F67A9E+286]\n\tRtlGetAppContainerNamedObjectPath [0x76F67A6E+238]\n",
     "output_type": "error",
     "traceback": [
      "\u001b[1;31m---------------------------------------------------------------------------\u001b[0m",
      "\u001b[1;31mNoSuchElementException\u001b[0m                    Traceback (most recent call last)",
      "\u001b[1;32m~\\AppData\\Local\\Temp/ipykernel_19824/1856682470.py\u001b[0m in \u001b[0;36m<module>\u001b[1;34m\u001b[0m\n\u001b[0;32m     47\u001b[0m     \u001b[0mfile\u001b[0m\u001b[1;33m.\u001b[0m\u001b[0mclose\u001b[0m\u001b[1;33m(\u001b[0m\u001b[1;33m)\u001b[0m\u001b[1;33m\u001b[0m\u001b[1;33m\u001b[0m\u001b[0m\n\u001b[0;32m     48\u001b[0m \u001b[1;33m\u001b[0m\u001b[0m\n\u001b[1;32m---> 49\u001b[1;33m     \u001b[0mbrowser\u001b[0m\u001b[1;33m.\u001b[0m\u001b[0mfind_element\u001b[0m\u001b[1;33m(\u001b[0m\u001b[0mBy\u001b[0m\u001b[1;33m.\u001b[0m\u001b[0mXPATH\u001b[0m\u001b[1;33m,\u001b[0m \u001b[1;34m'//*[@id=\"pnnext\"]/span[2]'\u001b[0m\u001b[1;33m)\u001b[0m\u001b[1;33m.\u001b[0m\u001b[0mclick\u001b[0m\u001b[1;33m(\u001b[0m\u001b[1;33m)\u001b[0m\u001b[1;33m\u001b[0m\u001b[1;33m\u001b[0m\u001b[0m\n\u001b[0m\u001b[0;32m     50\u001b[0m \u001b[1;33m\u001b[0m\u001b[0m\n",
      "\u001b[1;32m~\\anaconda3\\lib\\site-packages\\selenium\\webdriver\\remote\\webdriver.py\u001b[0m in \u001b[0;36mfind_element\u001b[1;34m(self, by, value)\u001b[0m\n\u001b[0;32m    854\u001b[0m             \u001b[0mvalue\u001b[0m \u001b[1;33m=\u001b[0m \u001b[1;34m'[name=\"%s\"]'\u001b[0m \u001b[1;33m%\u001b[0m \u001b[0mvalue\u001b[0m\u001b[1;33m\u001b[0m\u001b[1;33m\u001b[0m\u001b[0m\n\u001b[0;32m    855\u001b[0m \u001b[1;33m\u001b[0m\u001b[0m\n\u001b[1;32m--> 856\u001b[1;33m         return self.execute(Command.FIND_ELEMENT, {\n\u001b[0m\u001b[0;32m    857\u001b[0m             \u001b[1;34m'using'\u001b[0m\u001b[1;33m:\u001b[0m \u001b[0mby\u001b[0m\u001b[1;33m,\u001b[0m\u001b[1;33m\u001b[0m\u001b[1;33m\u001b[0m\u001b[0m\n\u001b[0;32m    858\u001b[0m             'value': value})['value']\n",
      "\u001b[1;32m~\\anaconda3\\lib\\site-packages\\selenium\\webdriver\\remote\\webdriver.py\u001b[0m in \u001b[0;36mexecute\u001b[1;34m(self, driver_command, params)\u001b[0m\n\u001b[0;32m    427\u001b[0m         \u001b[0mresponse\u001b[0m \u001b[1;33m=\u001b[0m \u001b[0mself\u001b[0m\u001b[1;33m.\u001b[0m\u001b[0mcommand_executor\u001b[0m\u001b[1;33m.\u001b[0m\u001b[0mexecute\u001b[0m\u001b[1;33m(\u001b[0m\u001b[0mdriver_command\u001b[0m\u001b[1;33m,\u001b[0m \u001b[0mparams\u001b[0m\u001b[1;33m)\u001b[0m\u001b[1;33m\u001b[0m\u001b[1;33m\u001b[0m\u001b[0m\n\u001b[0;32m    428\u001b[0m         \u001b[1;32mif\u001b[0m \u001b[0mresponse\u001b[0m\u001b[1;33m:\u001b[0m\u001b[1;33m\u001b[0m\u001b[1;33m\u001b[0m\u001b[0m\n\u001b[1;32m--> 429\u001b[1;33m             \u001b[0mself\u001b[0m\u001b[1;33m.\u001b[0m\u001b[0merror_handler\u001b[0m\u001b[1;33m.\u001b[0m\u001b[0mcheck_response\u001b[0m\u001b[1;33m(\u001b[0m\u001b[0mresponse\u001b[0m\u001b[1;33m)\u001b[0m\u001b[1;33m\u001b[0m\u001b[1;33m\u001b[0m\u001b[0m\n\u001b[0m\u001b[0;32m    430\u001b[0m             response['value'] = self._unwrap_value(\n\u001b[0;32m    431\u001b[0m                 response.get('value', None))\n",
      "\u001b[1;32m~\\anaconda3\\lib\\site-packages\\selenium\\webdriver\\remote\\errorhandler.py\u001b[0m in \u001b[0;36mcheck_response\u001b[1;34m(self, response)\u001b[0m\n\u001b[0;32m    241\u001b[0m                 \u001b[0malert_text\u001b[0m \u001b[1;33m=\u001b[0m \u001b[0mvalue\u001b[0m\u001b[1;33m[\u001b[0m\u001b[1;34m'alert'\u001b[0m\u001b[1;33m]\u001b[0m\u001b[1;33m.\u001b[0m\u001b[0mget\u001b[0m\u001b[1;33m(\u001b[0m\u001b[1;34m'text'\u001b[0m\u001b[1;33m)\u001b[0m\u001b[1;33m\u001b[0m\u001b[1;33m\u001b[0m\u001b[0m\n\u001b[0;32m    242\u001b[0m             \u001b[1;32mraise\u001b[0m \u001b[0mexception_class\u001b[0m\u001b[1;33m(\u001b[0m\u001b[0mmessage\u001b[0m\u001b[1;33m,\u001b[0m \u001b[0mscreen\u001b[0m\u001b[1;33m,\u001b[0m \u001b[0mstacktrace\u001b[0m\u001b[1;33m,\u001b[0m \u001b[0malert_text\u001b[0m\u001b[1;33m)\u001b[0m  \u001b[1;31m# type: ignore[call-arg]  # mypy is not smart enough here\u001b[0m\u001b[1;33m\u001b[0m\u001b[1;33m\u001b[0m\u001b[0m\n\u001b[1;32m--> 243\u001b[1;33m         \u001b[1;32mraise\u001b[0m \u001b[0mexception_class\u001b[0m\u001b[1;33m(\u001b[0m\u001b[0mmessage\u001b[0m\u001b[1;33m,\u001b[0m \u001b[0mscreen\u001b[0m\u001b[1;33m,\u001b[0m \u001b[0mstacktrace\u001b[0m\u001b[1;33m)\u001b[0m\u001b[1;33m\u001b[0m\u001b[1;33m\u001b[0m\u001b[0m\n\u001b[0m",
      "\u001b[1;31mNoSuchElementException\u001b[0m: Message: no such element: Unable to locate element: {\"method\":\"xpath\",\"selector\":\"//*[@id=\"pnnext\"]/span[2]\"}\n  (Session info: chrome=106.0.5249.119)\nStacktrace:\nBacktrace:\n\tOrdinal0 [0x003F1ED3+2236115]\n\tOrdinal0 [0x003892F1+1807089]\n\tOrdinal0 [0x002966FD+812797]\n\tOrdinal0 [0x002C55DF+1005023]\n\tOrdinal0 [0x002C57CB+1005515]\n\tOrdinal0 [0x002F7632+1209906]\n\tOrdinal0 [0x002E1AD4+1120980]\n\tOrdinal0 [0x002F59E2+1202658]\n\tOrdinal0 [0x002E18A6+1120422]\n\tOrdinal0 [0x002BA73D+960317]\n\tOrdinal0 [0x002BB71F+964383]\n\tGetHandleVerifier [0x0069E7E2+2743074]\n\tGetHandleVerifier [0x006908D4+2685972]\n\tGetHandleVerifier [0x00482BAA+532202]\n\tGetHandleVerifier [0x00481990+527568]\n\tOrdinal0 [0x0039080C+1837068]\n\tOrdinal0 [0x00394CD8+1854680]\n\tOrdinal0 [0x00394DC5+1854917]\n\tOrdinal0 [0x0039ED64+1895780]\n\tBaseThreadInitThunk [0x7664FA29+25]\n\tRtlGetAppContainerNamedObjectPath [0x76F67A9E+286]\n\tRtlGetAppContainerNamedObjectPath [0x76F67A6E+238]\n"
     ]
    }
   ],
   "source": [
    "while True:\n",
    "    \n",
    "    # 시간\n",
    "    seed = np.random.randint(100)\n",
    "    np.random.seed(seed)\n",
    "    a = np.random.randint(5)\n",
    "    time.sleep(a)\n",
    "    \n",
    "    # 기사 제목\n",
    "    titles = browser.find_elements(By.CLASS_NAME, 'mCBkyc')\n",
    "    title = []\n",
    "    \n",
    "    for i in titles:\n",
    "            temp_title = i.text\n",
    "            temp_title = temp_title.replace(\",\", \"\")\n",
    "            title.append(temp_title)\n",
    "            \n",
    "    print(title)\n",
    "    \n",
    "    # 기사 내용\n",
    "    contents = browser.find_elements(By.CLASS_NAME, 'GI74Re')\n",
    "    content = []\n",
    "    \n",
    "    for i in contents:\n",
    "        temp_content = i.text\n",
    "        temp_content = temp_content.replace(\",\", \"\")\n",
    "        content.append(temp_content)\n",
    "    \n",
    "    # 기사 링크\n",
    "    links = browser.find_elements(By.CLASS_NAME, 'WlydOe')\n",
    "    link = []\n",
    "    \n",
    "    for i in links:\n",
    "        link.append(i.get_attribute('href'))\n",
    "    \n",
    "    # 시간\n",
    "    seed = np.random.randint(100)\n",
    "    np.random.seed(seed)\n",
    "    a = np.random.randint(5)\n",
    "    time.sleep(a)\n",
    "    \n",
    "    file = open(\"google_news.csv\", \"a\", encoding=\"UTF-8-sig\")\n",
    "\n",
    "    for i in range(len(title)):\n",
    "        file.write(\"{}, {}, {} \\n\".format(title[i], content[i], link[i]))\n",
    "\n",
    "    file.close()\n",
    "    \n",
    "    browser.find_element(By.XPATH, '//*[@id=\"pnnext\"]/span[2]').click()\n",
    "\n"
   ]
  },
  {
   "cell_type": "code",
   "execution_count": 162,
   "id": "b89c935c",
   "metadata": {
    "ExecuteTime": {
     "end_time": "2022-10-25T13:57:50.663009Z",
     "start_time": "2022-10-25T13:57:50.129864Z"
    }
   },
   "outputs": [],
   "source": [
    "browser.find_element(By.XPATH, '//*[@id=\"pnnext\"]/span[2]').click()"
   ]
  }
 ],
 "metadata": {
  "kernelspec": {
   "display_name": "Python 3 (ipykernel)",
   "language": "python",
   "name": "python3"
  },
  "language_info": {
   "codemirror_mode": {
    "name": "ipython",
    "version": 3
   },
   "file_extension": ".py",
   "mimetype": "text/x-python",
   "name": "python",
   "nbconvert_exporter": "python",
   "pygments_lexer": "ipython3",
   "version": "3.9.7"
  },
  "toc": {
   "base_numbering": 1,
   "nav_menu": {},
   "number_sections": true,
   "sideBar": true,
   "skip_h1_title": false,
   "title_cell": "Table of Contents",
   "title_sidebar": "Contents",
   "toc_cell": false,
   "toc_position": {},
   "toc_section_display": true,
   "toc_window_display": false
  },
  "varInspector": {
   "cols": {
    "lenName": 16,
    "lenType": 16,
    "lenVar": 40
   },
   "kernels_config": {
    "python": {
     "delete_cmd_postfix": "",
     "delete_cmd_prefix": "del ",
     "library": "var_list.py",
     "varRefreshCmd": "print(var_dic_list())"
    },
    "r": {
     "delete_cmd_postfix": ") ",
     "delete_cmd_prefix": "rm(",
     "library": "var_list.r",
     "varRefreshCmd": "cat(var_dic_list()) "
    }
   },
   "types_to_exclude": [
    "module",
    "function",
    "builtin_function_or_method",
    "instance",
    "_Feature"
   ],
   "window_display": false
  }
 },
 "nbformat": 4,
 "nbformat_minor": 5
}
