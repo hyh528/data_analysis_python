{
 "cells": [
  {
   "cell_type": "markdown",
   "id": "f67b4a6a",
   "metadata": {},
   "source": [
    "# 크롤링 기초\n",
    "## 네이버 날씨 정보 가져오기"
   ]
  },
  {
   "cell_type": "code",
   "execution_count": 1,
   "id": "c02c242c",
   "metadata": {
    "ExecuteTime": {
     "end_time": "2022-10-25T04:46:20.231781Z",
     "start_time": "2022-10-25T04:46:09.014275Z"
    },
    "collapsed": true
   },
   "outputs": [
    {
     "name": "stdout",
     "output_type": "stream",
     "text": [
      "Collecting selenium\n",
      "  Downloading selenium-4.5.0-py3-none-any.whl (995 kB)\n",
      "Requirement already satisfied: urllib3[socks]~=1.26 in c:\\users\\hah_5\\anaconda3\\lib\\site-packages (from selenium) (1.26.7)\n",
      "Requirement already satisfied: certifi>=2021.10.8 in c:\\users\\hah_5\\anaconda3\\lib\\site-packages (from selenium) (2021.10.8)\n",
      "Collecting trio~=0.17\n",
      "  Downloading trio-0.22.0-py3-none-any.whl (384 kB)\n",
      "Collecting trio-websocket~=0.9\n",
      "  Using cached trio_websocket-0.9.2-py3-none-any.whl (16 kB)\n",
      "Collecting outcome\n",
      "  Using cached outcome-1.2.0-py2.py3-none-any.whl (9.7 kB)\n",
      "Collecting exceptiongroup>=1.0.0rc9\n",
      "  Downloading exceptiongroup-1.0.0rc9-py3-none-any.whl (12 kB)\n",
      "Requirement already satisfied: sortedcontainers in c:\\users\\hah_5\\anaconda3\\lib\\site-packages (from trio~=0.17->selenium) (2.4.0)\n",
      "Requirement already satisfied: idna in c:\\users\\hah_5\\anaconda3\\lib\\site-packages (from trio~=0.17->selenium) (3.2)\n",
      "Requirement already satisfied: attrs>=19.2.0 in c:\\users\\hah_5\\anaconda3\\lib\\site-packages (from trio~=0.17->selenium) (21.2.0)\n",
      "Requirement already satisfied: sniffio in c:\\users\\hah_5\\anaconda3\\lib\\site-packages (from trio~=0.17->selenium) (1.2.0)\n",
      "Requirement already satisfied: cffi>=1.14 in c:\\users\\hah_5\\anaconda3\\lib\\site-packages (from trio~=0.17->selenium) (1.14.6)\n",
      "Requirement already satisfied: async-generator>=1.9 in c:\\users\\hah_5\\anaconda3\\lib\\site-packages (from trio~=0.17->selenium) (1.10)\n",
      "Requirement already satisfied: pycparser in c:\\users\\hah_5\\anaconda3\\lib\\site-packages (from cffi>=1.14->trio~=0.17->selenium) (2.20)\n",
      "Collecting wsproto>=0.14\n",
      "  Downloading wsproto-1.2.0-py3-none-any.whl (24 kB)\n",
      "Requirement already satisfied: PySocks!=1.5.7,<2.0,>=1.5.6 in c:\\users\\hah_5\\anaconda3\\lib\\site-packages (from urllib3[socks]~=1.26->selenium) (1.7.1)\n",
      "Collecting h11<1,>=0.9.0\n",
      "  Downloading h11-0.14.0-py3-none-any.whl (58 kB)\n",
      "Installing collected packages: outcome, h11, exceptiongroup, wsproto, trio, trio-websocket, selenium\n",
      "Successfully installed exceptiongroup-1.0.0rc9 h11-0.14.0 outcome-1.2.0 selenium-4.5.0 trio-0.22.0 trio-websocket-0.9.2 wsproto-1.2.0\n",
      "Note: you may need to restart the kernel to use updated packages.\n"
     ]
    }
   ],
   "source": [
    "pip install selenium"
   ]
  },
  {
   "cell_type": "code",
   "execution_count": 4,
   "id": "71356507",
   "metadata": {
    "ExecuteTime": {
     "end_time": "2022-10-25T04:52:38.187755Z",
     "start_time": "2022-10-25T04:52:38.180759Z"
    }
   },
   "outputs": [],
   "source": [
    "from selenium import webdriver"
   ]
  },
  {
   "cell_type": "code",
   "execution_count": 5,
   "id": "b7942ae5",
   "metadata": {
    "ExecuteTime": {
     "end_time": "2022-10-25T04:52:42.781409Z",
     "start_time": "2022-10-25T04:52:40.081285Z"
    }
   },
   "outputs": [],
   "source": [
    "browser = webdriver.Chrome()"
   ]
  },
  {
   "cell_type": "code",
   "execution_count": 7,
   "id": "77ff8084",
   "metadata": {
    "ExecuteTime": {
     "end_time": "2022-10-25T05:07:56.163214Z",
     "start_time": "2022-10-25T05:07:54.218267Z"
    }
   },
   "outputs": [],
   "source": [
    "browser.get(\"http://www.naver.com\")"
   ]
  },
  {
   "cell_type": "code",
   "execution_count": 9,
   "id": "4b791b72",
   "metadata": {
    "ExecuteTime": {
     "end_time": "2022-10-25T05:27:15.954526Z",
     "start_time": "2022-10-25T05:27:14.829738Z"
    }
   },
   "outputs": [],
   "source": [
    "weather_url = \"https://search.naver.com/search.naver?where=nexearch&sm=top_hty&fbm=0&ie=utf8&query=%EB%82%A0%EC%94%A8\"\n",
    "browser.get(weather_url)"
   ]
  },
  {
   "cell_type": "code",
   "execution_count": 10,
   "id": "e501d7f6",
   "metadata": {
    "ExecuteTime": {
     "end_time": "2022-10-25T05:31:04.211913Z",
     "start_time": "2022-10-25T05:31:04.196922Z"
    }
   },
   "outputs": [],
   "source": [
    "from selenium.webdriver.common.by import By\n",
    "from selenium.webdriver.chrome.service import Service\n",
    "from selenium.webdriver.common.keys import Keys"
   ]
  },
  {
   "cell_type": "code",
   "execution_count": 11,
   "id": "f52ffbea",
   "metadata": {
    "ExecuteTime": {
     "end_time": "2022-10-25T05:31:26.912255Z",
     "start_time": "2022-10-25T05:31:26.752267Z"
    }
   },
   "outputs": [],
   "source": [
    "browser.find_element(By.ID, 'query').click()"
   ]
  },
  {
   "cell_type": "code",
   "execution_count": 12,
   "id": "fd90dbef",
   "metadata": {
    "ExecuteTime": {
     "end_time": "2022-10-25T05:32:25.643111Z",
     "start_time": "2022-10-25T05:32:25.518169Z"
    }
   },
   "outputs": [],
   "source": [
    "browser.find_element(By.ID, 'query').send_keys(\"날씨\")"
   ]
  },
  {
   "cell_type": "code",
   "execution_count": 13,
   "id": "f5053b02",
   "metadata": {
    "ExecuteTime": {
     "end_time": "2022-10-25T05:34:15.847842Z",
     "start_time": "2022-10-25T05:34:14.798870Z"
    }
   },
   "outputs": [],
   "source": [
    "browser.find_element(By.ID, 'query').send_keys(Keys.RETURN)"
   ]
  },
  {
   "cell_type": "code",
   "execution_count": 34,
   "id": "ed608de3",
   "metadata": {
    "ExecuteTime": {
     "end_time": "2022-10-25T05:50:37.570147Z",
     "start_time": "2022-10-25T05:50:37.425283Z"
    }
   },
   "outputs": [
    {
     "data": {
      "text/plain": [
       "'16.1°'"
      ]
     },
     "execution_count": 34,
     "metadata": {},
     "output_type": "execute_result"
    }
   ],
   "source": [
    "browser.find_element(By.XPATH, '//*[@id=\"main_pack\"]/sectbion[1]/div[1]/div[2]/div[1]/div[1]/div/div[2]/div/div[1]/div[1]/div[2]').text[6:]"
   ]
  },
  {
   "cell_type": "code",
   "execution_count": 37,
   "id": "f4277d16",
   "metadata": {
    "ExecuteTime": {
     "end_time": "2022-10-25T05:56:17.354013Z",
     "start_time": "2022-10-25T05:56:17.189825Z"
    }
   },
   "outputs": [],
   "source": [
    "browser.find_element(By.XPATH, '//*[@id=\"nx_query\"]').clear()"
   ]
  },
  {
   "cell_type": "code",
   "execution_count": 40,
   "id": "64b7e249",
   "metadata": {
    "ExecuteTime": {
     "end_time": "2022-10-25T05:57:07.878615Z",
     "start_time": "2022-10-25T05:57:07.703721Z"
    }
   },
   "outputs": [],
   "source": [
    "browser.find_element(By.XPATH, '//*[@id=\"nx_query\"]').send_keys(\"환율\")"
   ]
  },
  {
   "cell_type": "code",
   "execution_count": 42,
   "id": "5b872be2",
   "metadata": {
    "ExecuteTime": {
     "end_time": "2022-10-25T05:57:25.251544Z",
     "start_time": "2022-10-25T05:57:23.128750Z"
    }
   },
   "outputs": [],
   "source": [
    "browser.find_element(By.XPATH, '//*[@id=\"nx_query\"]').send_keys(Keys.RETURN)"
   ]
  },
  {
   "cell_type": "code",
   "execution_count": 45,
   "id": "72e79341",
   "metadata": {
    "ExecuteTime": {
     "end_time": "2022-10-25T06:06:42.253349Z",
     "start_time": "2022-10-25T06:06:42.159479Z"
    }
   },
   "outputs": [
    {
     "data": {
      "text/plain": [
       "'1,435.90'"
      ]
     },
     "execution_count": 45,
     "metadata": {},
     "output_type": "execute_result"
    }
   ],
   "source": [
    "browser.find_element(By.XPATH, '//*[@id=\"_cs_foreigninfo\"]/div/div[2]/div/div[1]/div[1]/div[1]/div[1]/h3/a/span[2]/strong').text"
   ]
  },
  {
   "cell_type": "code",
   "execution_count": null,
   "id": "0e001a33",
   "metadata": {},
   "outputs": [],
   "source": [
    "currency_list[]"
   ]
  },
  {
   "cell_type": "code",
   "execution_count": 54,
   "id": "054ea6bb",
   "metadata": {
    "ExecuteTime": {
     "end_time": "2022-10-25T06:29:07.819186Z",
     "start_time": "2022-10-25T06:29:07.706250Z"
    }
   },
   "outputs": [
    {
     "name": "stdout",
     "output_type": "stream",
     "text": [
      "미국 USD\n"
     ]
    }
   ],
   "source": [
    "country = browser.find_element(By.XPATH, '//*[@id=\"_cs_foreigninfo\"]/div/div[2]/div/div[1]/div[2]/table/tbody/tr[1]/th/a/span')\n",
    "print(country.text)"
   ]
  },
  {
   "cell_type": "code",
   "execution_count": null,
   "id": "59bab780",
   "metadata": {},
   "outputs": [],
   "source": [
    "//*[@id=\"_cs_foreigninfo\"]/div/div[2]/div/div[1]/div[2]/table/tbody/tr[1]/td[1]/span"
   ]
  },
  {
   "cell_type": "code",
   "execution_count": null,
   "id": "cf6ade56",
   "metadata": {},
   "outputs": [],
   "source": [
    "country = browser.find_element(By.XPATH, '//*[@id=\"_cs_foreigninfo\"]/div/div[2]/div/div[1]/div[2]/table/tbody/tr[1]/th/a/span')\n",
    "print(country.text)"
   ]
  },
  {
   "cell_type": "code",
   "execution_count": 55,
   "id": "af538026",
   "metadata": {
    "ExecuteTime": {
     "end_time": "2022-10-25T06:31:33.882467Z",
     "start_time": "2022-10-25T06:31:33.875472Z"
    }
   },
   "outputs": [],
   "source": [
    "google = 'https://www.google.com/webhp?hl=en&sa=X&ved=0ahUKEwjC0fPV4Pr6AhUbEogKHUN0A_sQPAgI'"
   ]
  },
  {
   "cell_type": "code",
   "execution_count": 56,
   "id": "c58e19b4",
   "metadata": {
    "ExecuteTime": {
     "end_time": "2022-10-25T06:31:45.939879Z",
     "start_time": "2022-10-25T06:31:43.190138Z"
    }
   },
   "outputs": [],
   "source": [
    "browser.get(google)"
   ]
  },
  {
   "cell_type": "code",
   "execution_count": 57,
   "id": "fcefe77e",
   "metadata": {
    "ExecuteTime": {
     "end_time": "2022-10-25T06:32:27.031699Z",
     "start_time": "2022-10-25T06:32:26.852802Z"
    }
   },
   "outputs": [],
   "source": [
    "browser.find_element(By.XPATH, '/html/body/div[1]/div[3]/form/div[1]/div[1]/div[1]/div/div[2]/input').click()"
   ]
  },
  {
   "cell_type": "code",
   "execution_count": 58,
   "id": "47d15a42",
   "metadata": {
    "ExecuteTime": {
     "end_time": "2022-10-25T06:32:50.300124Z",
     "start_time": "2022-10-25T06:32:50.147196Z"
    }
   },
   "outputs": [],
   "source": [
    "browser.find_element(By.XPATH, '/html/body/div[1]/div[3]/form/div[1]/div[1]/div[1]/div/div[2]/input').send_keys(\"자동화\")"
   ]
  },
  {
   "cell_type": "code",
   "execution_count": 59,
   "id": "ca534b97",
   "metadata": {
    "ExecuteTime": {
     "end_time": "2022-10-25T06:33:08.280133Z",
     "start_time": "2022-10-25T06:33:03.932687Z"
    }
   },
   "outputs": [],
   "source": [
    "browser.find_element(By.XPATH, '/html/body/div[1]/div[3]/form/div[1]/div[1]/div[1]/div/div[2]/input').send_keys(Keys.RETURN)"
   ]
  },
  {
   "cell_type": "code",
   "execution_count": 61,
   "id": "b77d23ab",
   "metadata": {
    "ExecuteTime": {
     "end_time": "2022-10-25T06:33:56.668725Z",
     "start_time": "2022-10-25T06:33:56.589644Z"
    }
   },
   "outputs": [
    {
     "data": {
      "text/plain": [
       "'자동화의 이해: 개념, 필요성, 장점, 종류, 무료 체험판 - Red Hat'"
      ]
     },
     "execution_count": 61,
     "metadata": {},
     "output_type": "execute_result"
    }
   ],
   "source": [
    "browser.find_element(By.XPATH, '//*[@id=\"rso\"]/div[1]/div/div/div[1]/div/a/h3').text"
   ]
  },
  {
   "cell_type": "code",
   "execution_count": 62,
   "id": "cd502307",
   "metadata": {
    "ExecuteTime": {
     "end_time": "2022-10-25T06:34:21.131346Z",
     "start_time": "2022-10-25T06:34:21.045396Z"
    }
   },
   "outputs": [
    {
     "data": {
      "text/plain": [
       "'자동화란 무엇일까요? · IT 자동화 · 비즈니스 자동화 · 비즈니스 프로세스 자동화 · 로봇 프로세스 자동화 · 산업 자동화 · 인공지능(AI) · 머신 러닝 · 딥 러닝.'"
      ]
     },
     "execution_count": 62,
     "metadata": {},
     "output_type": "execute_result"
    }
   ],
   "source": [
    "browser.find_element(By.XPATH, '//*[@id=\"rso\"]/div[1]/div/div/div[2]/div/span[2]').text"
   ]
  },
  {
   "cell_type": "code",
   "execution_count": 72,
   "id": "52b2f15e",
   "metadata": {
    "ExecuteTime": {
     "end_time": "2022-10-25T06:45:37.106814Z",
     "start_time": "2022-10-25T06:45:37.016865Z"
    }
   },
   "outputs": [
    {
     "data": {
      "text/plain": [
       "'https://www.redhat.com/ko/topics/automation'"
      ]
     },
     "execution_count": 72,
     "metadata": {},
     "output_type": "execute_result"
    }
   ],
   "source": [
    "browser.find_element(By.XPATH, '//*[@id=\"rso\"]/div[1]/div/div/div[1]/div/a').get_attribute(\"href\")"
   ]
  },
  {
   "cell_type": "code",
   "execution_count": 73,
   "id": "a69ad4e2",
   "metadata": {
    "ExecuteTime": {
     "end_time": "2022-10-25T06:48:41.493442Z",
     "start_time": "2022-10-25T06:48:41.409221Z"
    }
   },
   "outputs": [
    {
     "data": {
      "text/plain": [
       "'https://www.yna.co.kr/view/AKR20221025034300002'"
      ]
     },
     "execution_count": 73,
     "metadata": {},
     "output_type": "execute_result"
    }
   ],
   "source": [
    "\n",
    "browser.find_element(By.XPATH, '//*[@id=\"rso\"]/div/div/div[1]/div[2]/div/a').get_attribute(\"href\")"
   ]
  },
  {
   "cell_type": "code",
   "execution_count": 86,
   "id": "1f6c053f",
   "metadata": {
    "ExecuteTime": {
     "end_time": "2022-10-25T06:57:51.963675Z",
     "start_time": "2022-10-25T06:57:51.712801Z"
    }
   },
   "outputs": [
    {
     "name": "stdout",
     "output_type": "stream",
     "text": [
      "링크:https://www.yna.co.kr/view/AKR20221025034300002\n",
      "링크:https://www.sedaily.com/NewsView/26CHK5V7NA\n",
      "링크:https://news.mt.co.kr/mtview.php?no=2022102510404686281\n",
      "링크:https://www.straightnews.co.kr/news/articleView.html?idxno=219294\n",
      "링크:https://biz.sbs.co.kr/article/20000086101\n",
      "링크:https://www.etnews.com/20221025000069\n",
      "링크:https://www.wowtv.co.kr/NewsCenter/News/Read?articleId=AKR20221025034300002\n",
      "링크:http://www.dt.co.kr/contents.html?article_no=2022102502109963076006\n",
      "링크:https://www.itworld.co.kr/news/260974\n",
      "링크:http://www.nextdaily.co.kr/news/articleView.html?idxno=211142\n"
     ]
    }
   ],
   "source": [
    "l = browser.find_elements(By.CLASS_NAME, 'WlydOe')\n",
    "\n",
    "for i in l:\n",
    "   print(\"링크:\"+ i.get_attribute(\"href\"))"
   ]
  },
  {
   "cell_type": "code",
   "execution_count": null,
   "id": "b465dd81",
   "metadata": {},
   "outputs": [],
   "source": []
  },
  {
   "cell_type": "code",
   "execution_count": 89,
   "id": "e7382bfb",
   "metadata": {
    "ExecuteTime": {
     "end_time": "2022-10-25T07:01:54.667491Z",
     "start_time": "2022-10-25T07:01:54.549560Z"
    }
   },
   "outputs": [
    {
     "data": {
      "text/plain": [
       "'미국 USD\\n1,435.50\\n전일대비\\n하락6.50\\n-0.45%'"
      ]
     },
     "execution_count": 89,
     "metadata": {},
     "output_type": "execute_result"
    }
   ],
   "source": [
    "\n",
    "browser.find_element(By.XPATH, '//*[@id=\"_cs_foreigninfo\"]/div/div[2]/div/div[1]/div[2]/table/tbody/tr[{index}]').text"
   ]
  },
  {
   "cell_type": "code",
   "execution_count": null,
   "id": "d34a7013",
   "metadata": {},
   "outputs": [],
   "source": [
    "for index "
   ]
  },
  {
   "cell_type": "code",
   "execution_count": 93,
   "id": "61c89a9f",
   "metadata": {
    "ExecuteTime": {
     "end_time": "2022-10-25T07:02:59.137325Z",
     "start_time": "2022-10-25T07:02:59.000405Z"
    }
   },
   "outputs": [
    {
     "data": {
      "text/plain": [
       "'뉴질랜드 NZD\\n819.53\\n전일대비\\n하락0.25\\n-0.03%'"
      ]
     },
     "execution_count": 93,
     "metadata": {},
     "output_type": "execute_result"
    }
   ],
   "source": [
    "browser.find_element(By.XPATH, '//*[@id=\"_cs_foreigninfo\"]/div/div[2]/div/div[1]/div[2]/table/tbody/tr[8]').text"
   ]
  },
  {
   "cell_type": "code",
   "execution_count": 100,
   "id": "717cc9ee",
   "metadata": {
    "ExecuteTime": {
     "end_time": "2022-10-25T07:14:33.002665Z",
     "start_time": "2022-10-25T07:14:32.902990Z"
    }
   },
   "outputs": [
    {
     "data": {
      "text/plain": [
       "'1,435.50'"
      ]
     },
     "execution_count": 100,
     "metadata": {},
     "output_type": "execute_result"
    }
   ],
   "source": [
    "# tr 매매율\n",
    "trs = browser.find_element(By.XPATH, '//*[@id=\"_cs_foreigninfo\"]/div/div[2]/div/div[1]/div[2]/table/tbody/tr[1]/td').text"
   ]
  },
  {
   "cell_type": "code",
   "execution_count": 127,
   "id": "26225777",
   "metadata": {
    "ExecuteTime": {
     "end_time": "2022-10-25T07:30:14.064663Z",
     "start_time": "2022-10-25T07:30:13.975580Z"
    }
   },
   "outputs": [
    {
     "data": {
      "text/plain": [
       "'미국 USD'"
      ]
     },
     "execution_count": 127,
     "metadata": {},
     "output_type": "execute_result"
    }
   ],
   "source": [
    "# 통화명\n",
    "browser.find_element(By.CLASS_NAME, 'dw>th>a>span').text"
   ]
  },
  {
   "cell_type": "code",
   "execution_count": 129,
   "id": "a6aabed9",
   "metadata": {
    "ExecuteTime": {
     "end_time": "2022-10-25T07:31:56.954151Z",
     "start_time": "2022-10-25T07:31:56.855208Z"
    }
   },
   "outputs": [
    {
     "data": {
      "text/plain": [
       "'1,435.50'"
      ]
     },
     "execution_count": 129,
     "metadata": {},
     "output_type": "execute_result"
    }
   ],
   "source": [
    "# 매매기준율\n",
    "browser.find_element(By.CLASS_NAME, 'dw>td>span').text"
   ]
  },
  {
   "cell_type": "code",
   "execution_count": 122,
   "id": "be51ad82",
   "metadata": {
    "ExecuteTime": {
     "end_time": "2022-10-25T07:29:04.829183Z",
     "start_time": "2022-10-25T07:29:04.728227Z"
    }
   },
   "outputs": [
    {
     "ename": "NoSuchElementException",
     "evalue": "Message: no such element: Unable to locate element: {\"method\":\"css selector\",\"selector\":\".dw>span\"}\n  (Session info: chrome=106.0.5249.119)\nStacktrace:\nBacktrace:\n\tOrdinal0 [0x003F1ED3+2236115]\n\tOrdinal0 [0x003892F1+1807089]\n\tOrdinal0 [0x002966FD+812797]\n\tOrdinal0 [0x002C55DF+1005023]\n\tOrdinal0 [0x002C57CB+1005515]\n\tOrdinal0 [0x002BBE01+966145]\n\tOrdinal0 [0x002E1AD4+1120980]\n\tOrdinal0 [0x002BBD84+966020]\n\tOrdinal0 [0x002E1CA4+1121444]\n\tOrdinal0 [0x002F59E2+1202658]\n\tOrdinal0 [0x002E18A6+1120422]\n\tOrdinal0 [0x002BA73D+960317]\n\tOrdinal0 [0x002BB71F+964383]\n\tGetHandleVerifier [0x0069E7E2+2743074]\n\tGetHandleVerifier [0x006908D4+2685972]\n\tGetHandleVerifier [0x00482BAA+532202]\n\tGetHandleVerifier [0x00481990+527568]\n\tOrdinal0 [0x0039080C+1837068]\n\tOrdinal0 [0x00394CD8+1854680]\n\tOrdinal0 [0x00394DC5+1854917]\n\tOrdinal0 [0x0039ED64+1895780]\n\tBaseThreadInitThunk [0x7664FA29+25]\n\tRtlGetAppContainerNamedObjectPath [0x76F67A9E+286]\n\tRtlGetAppContainerNamedObjectPath [0x76F67A6E+238]\n",
     "output_type": "error",
     "traceback": [
      "\u001b[1;31m---------------------------------------------------------------------------\u001b[0m",
      "\u001b[1;31mNoSuchElementException\u001b[0m                    Traceback (most recent call last)",
      "\u001b[1;32m~\\AppData\\Local\\Temp/ipykernel_448/3670348295.py\u001b[0m in \u001b[0;36m<module>\u001b[1;34m\u001b[0m\n\u001b[1;32m----> 1\u001b[1;33m \u001b[0mbrowser\u001b[0m\u001b[1;33m.\u001b[0m\u001b[0mfind_element\u001b[0m\u001b[1;33m(\u001b[0m\u001b[0mBy\u001b[0m\u001b[1;33m.\u001b[0m\u001b[0mTAG_NAME\u001b[0m\u001b[1;33m,\u001b[0m\u001b[1;34m'tbody'\u001b[0m\u001b[1;33m)\u001b[0m\u001b[1;33m.\u001b[0m\u001b[0mfind_element\u001b[0m\u001b[1;33m(\u001b[0m\u001b[0mBy\u001b[0m\u001b[1;33m.\u001b[0m\u001b[0mCLASS_NAME\u001b[0m\u001b[1;33m,\u001b[0m \u001b[1;34m'dw>span'\u001b[0m\u001b[1;33m)\u001b[0m\u001b[1;33m.\u001b[0m\u001b[0mtext\u001b[0m\u001b[1;33m\u001b[0m\u001b[1;33m\u001b[0m\u001b[0m\n\u001b[0m",
      "\u001b[1;32m~\\anaconda3\\lib\\site-packages\\selenium\\webdriver\\remote\\webelement.py\u001b[0m in \u001b[0;36mfind_element\u001b[1;34m(self, by, value)\u001b[0m\n\u001b[0;32m    417\u001b[0m             \u001b[0mvalue\u001b[0m \u001b[1;33m=\u001b[0m \u001b[1;34m'[name=\"%s\"]'\u001b[0m \u001b[1;33m%\u001b[0m \u001b[0mvalue\u001b[0m\u001b[1;33m\u001b[0m\u001b[1;33m\u001b[0m\u001b[0m\n\u001b[0;32m    418\u001b[0m \u001b[1;33m\u001b[0m\u001b[0m\n\u001b[1;32m--> 419\u001b[1;33m         return self._execute(Command.FIND_CHILD_ELEMENT,\n\u001b[0m\u001b[0;32m    420\u001b[0m                              {\"using\": by, \"value\": value})['value']\n\u001b[0;32m    421\u001b[0m \u001b[1;33m\u001b[0m\u001b[0m\n",
      "\u001b[1;32m~\\anaconda3\\lib\\site-packages\\selenium\\webdriver\\remote\\webelement.py\u001b[0m in \u001b[0;36m_execute\u001b[1;34m(self, command, params)\u001b[0m\n\u001b[0;32m    394\u001b[0m             \u001b[0mparams\u001b[0m \u001b[1;33m=\u001b[0m \u001b[1;33m{\u001b[0m\u001b[1;33m}\u001b[0m\u001b[1;33m\u001b[0m\u001b[1;33m\u001b[0m\u001b[0m\n\u001b[0;32m    395\u001b[0m         \u001b[0mparams\u001b[0m\u001b[1;33m[\u001b[0m\u001b[1;34m'id'\u001b[0m\u001b[1;33m]\u001b[0m \u001b[1;33m=\u001b[0m \u001b[0mself\u001b[0m\u001b[1;33m.\u001b[0m\u001b[0m_id\u001b[0m\u001b[1;33m\u001b[0m\u001b[1;33m\u001b[0m\u001b[0m\n\u001b[1;32m--> 396\u001b[1;33m         \u001b[1;32mreturn\u001b[0m \u001b[0mself\u001b[0m\u001b[1;33m.\u001b[0m\u001b[0m_parent\u001b[0m\u001b[1;33m.\u001b[0m\u001b[0mexecute\u001b[0m\u001b[1;33m(\u001b[0m\u001b[0mcommand\u001b[0m\u001b[1;33m,\u001b[0m \u001b[0mparams\u001b[0m\u001b[1;33m)\u001b[0m\u001b[1;33m\u001b[0m\u001b[1;33m\u001b[0m\u001b[0m\n\u001b[0m\u001b[0;32m    397\u001b[0m \u001b[1;33m\u001b[0m\u001b[0m\n\u001b[0;32m    398\u001b[0m     \u001b[1;32mdef\u001b[0m \u001b[0mfind_element\u001b[0m\u001b[1;33m(\u001b[0m\u001b[0mself\u001b[0m\u001b[1;33m,\u001b[0m \u001b[0mby\u001b[0m\u001b[1;33m=\u001b[0m\u001b[0mBy\u001b[0m\u001b[1;33m.\u001b[0m\u001b[0mID\u001b[0m\u001b[1;33m,\u001b[0m \u001b[0mvalue\u001b[0m\u001b[1;33m=\u001b[0m\u001b[1;32mNone\u001b[0m\u001b[1;33m)\u001b[0m \u001b[1;33m->\u001b[0m \u001b[0mWebElement\u001b[0m\u001b[1;33m:\u001b[0m\u001b[1;33m\u001b[0m\u001b[1;33m\u001b[0m\u001b[0m\n",
      "\u001b[1;32m~\\anaconda3\\lib\\site-packages\\selenium\\webdriver\\remote\\webdriver.py\u001b[0m in \u001b[0;36mexecute\u001b[1;34m(self, driver_command, params)\u001b[0m\n\u001b[0;32m    427\u001b[0m         \u001b[0mresponse\u001b[0m \u001b[1;33m=\u001b[0m \u001b[0mself\u001b[0m\u001b[1;33m.\u001b[0m\u001b[0mcommand_executor\u001b[0m\u001b[1;33m.\u001b[0m\u001b[0mexecute\u001b[0m\u001b[1;33m(\u001b[0m\u001b[0mdriver_command\u001b[0m\u001b[1;33m,\u001b[0m \u001b[0mparams\u001b[0m\u001b[1;33m)\u001b[0m\u001b[1;33m\u001b[0m\u001b[1;33m\u001b[0m\u001b[0m\n\u001b[0;32m    428\u001b[0m         \u001b[1;32mif\u001b[0m \u001b[0mresponse\u001b[0m\u001b[1;33m:\u001b[0m\u001b[1;33m\u001b[0m\u001b[1;33m\u001b[0m\u001b[0m\n\u001b[1;32m--> 429\u001b[1;33m             \u001b[0mself\u001b[0m\u001b[1;33m.\u001b[0m\u001b[0merror_handler\u001b[0m\u001b[1;33m.\u001b[0m\u001b[0mcheck_response\u001b[0m\u001b[1;33m(\u001b[0m\u001b[0mresponse\u001b[0m\u001b[1;33m)\u001b[0m\u001b[1;33m\u001b[0m\u001b[1;33m\u001b[0m\u001b[0m\n\u001b[0m\u001b[0;32m    430\u001b[0m             response['value'] = self._unwrap_value(\n\u001b[0;32m    431\u001b[0m                 response.get('value', None))\n",
      "\u001b[1;32m~\\anaconda3\\lib\\site-packages\\selenium\\webdriver\\remote\\errorhandler.py\u001b[0m in \u001b[0;36mcheck_response\u001b[1;34m(self, response)\u001b[0m\n\u001b[0;32m    241\u001b[0m                 \u001b[0malert_text\u001b[0m \u001b[1;33m=\u001b[0m \u001b[0mvalue\u001b[0m\u001b[1;33m[\u001b[0m\u001b[1;34m'alert'\u001b[0m\u001b[1;33m]\u001b[0m\u001b[1;33m.\u001b[0m\u001b[0mget\u001b[0m\u001b[1;33m(\u001b[0m\u001b[1;34m'text'\u001b[0m\u001b[1;33m)\u001b[0m\u001b[1;33m\u001b[0m\u001b[1;33m\u001b[0m\u001b[0m\n\u001b[0;32m    242\u001b[0m             \u001b[1;32mraise\u001b[0m \u001b[0mexception_class\u001b[0m\u001b[1;33m(\u001b[0m\u001b[0mmessage\u001b[0m\u001b[1;33m,\u001b[0m \u001b[0mscreen\u001b[0m\u001b[1;33m,\u001b[0m \u001b[0mstacktrace\u001b[0m\u001b[1;33m,\u001b[0m \u001b[0malert_text\u001b[0m\u001b[1;33m)\u001b[0m  \u001b[1;31m# type: ignore[call-arg]  # mypy is not smart enough here\u001b[0m\u001b[1;33m\u001b[0m\u001b[1;33m\u001b[0m\u001b[0m\n\u001b[1;32m--> 243\u001b[1;33m         \u001b[1;32mraise\u001b[0m \u001b[0mexception_class\u001b[0m\u001b[1;33m(\u001b[0m\u001b[0mmessage\u001b[0m\u001b[1;33m,\u001b[0m \u001b[0mscreen\u001b[0m\u001b[1;33m,\u001b[0m \u001b[0mstacktrace\u001b[0m\u001b[1;33m)\u001b[0m\u001b[1;33m\u001b[0m\u001b[1;33m\u001b[0m\u001b[0m\n\u001b[0m",
      "\u001b[1;31mNoSuchElementException\u001b[0m: Message: no such element: Unable to locate element: {\"method\":\"css selector\",\"selector\":\".dw>span\"}\n  (Session info: chrome=106.0.5249.119)\nStacktrace:\nBacktrace:\n\tOrdinal0 [0x003F1ED3+2236115]\n\tOrdinal0 [0x003892F1+1807089]\n\tOrdinal0 [0x002966FD+812797]\n\tOrdinal0 [0x002C55DF+1005023]\n\tOrdinal0 [0x002C57CB+1005515]\n\tOrdinal0 [0x002BBE01+966145]\n\tOrdinal0 [0x002E1AD4+1120980]\n\tOrdinal0 [0x002BBD84+966020]\n\tOrdinal0 [0x002E1CA4+1121444]\n\tOrdinal0 [0x002F59E2+1202658]\n\tOrdinal0 [0x002E18A6+1120422]\n\tOrdinal0 [0x002BA73D+960317]\n\tOrdinal0 [0x002BB71F+964383]\n\tGetHandleVerifier [0x0069E7E2+2743074]\n\tGetHandleVerifier [0x006908D4+2685972]\n\tGetHandleVerifier [0x00482BAA+532202]\n\tGetHandleVerifier [0x00481990+527568]\n\tOrdinal0 [0x0039080C+1837068]\n\tOrdinal0 [0x00394CD8+1854680]\n\tOrdinal0 [0x00394DC5+1854917]\n\tOrdinal0 [0x0039ED64+1895780]\n\tBaseThreadInitThunk [0x7664FA29+25]\n\tRtlGetAppContainerNamedObjectPath [0x76F67A9E+286]\n\tRtlGetAppContainerNamedObjectPath [0x76F67A6E+238]\n"
     ]
    }
   ],
   "source": [
    "content = []\n",
    "for i in contents:\n",
    "    content.append(i.text)"
   ]
  },
  {
   "cell_type": "code",
   "execution_count": 117,
   "id": "9b1b416e",
   "metadata": {
    "ExecuteTime": {
     "end_time": "2022-10-25T07:25:09.020034Z",
     "start_time": "2022-10-25T07:25:08.992050Z"
    }
   },
   "outputs": [
    {
     "ename": "TypeError",
     "evalue": "'WebElement' object is not iterable",
     "output_type": "error",
     "traceback": [
      "\u001b[1;31m---------------------------------------------------------------------------\u001b[0m",
      "\u001b[1;31mTypeError\u001b[0m                                 Traceback (most recent call last)",
      "\u001b[1;32m~\\AppData\\Local\\Temp/ipykernel_448/1798708912.py\u001b[0m in \u001b[0;36m<module>\u001b[1;34m\u001b[0m\n\u001b[0;32m      2\u001b[0m \u001b[0mtr_data\u001b[0m \u001b[1;33m=\u001b[0m \u001b[1;33m[\u001b[0m\u001b[1;33m]\u001b[0m\u001b[1;33m\u001b[0m\u001b[1;33m\u001b[0m\u001b[0m\n\u001b[0;32m      3\u001b[0m \u001b[1;33m\u001b[0m\u001b[0m\n\u001b[1;32m----> 4\u001b[1;33m \u001b[1;32mfor\u001b[0m \u001b[0mi\u001b[0m \u001b[1;32min\u001b[0m \u001b[0mtrs\u001b[0m\u001b[1;33m:\u001b[0m\u001b[1;33m\u001b[0m\u001b[1;33m\u001b[0m\u001b[0m\n\u001b[0m\u001b[0;32m      5\u001b[0m     \u001b[0mtr\u001b[0m \u001b[1;33m=\u001b[0m \u001b[0mi\u001b[0m\u001b[1;33m.\u001b[0m\u001b[0mfind_element\u001b[0m\u001b[1;33m(\u001b[0m\u001b[0mBy\u001b[0m\u001b[1;33m.\u001b[0m\u001b[0mCLASS_NAME\u001b[0m\u001b[1;33m,\u001b[0m \u001b[1;34m'dw>span'\u001b[0m\u001b[1;33m)\u001b[0m\u001b[1;33m\u001b[0m\u001b[1;33m\u001b[0m\u001b[0m\n\u001b[0;32m      6\u001b[0m \u001b[1;33m\u001b[0m\u001b[0m\n",
      "\u001b[1;31mTypeError\u001b[0m: 'WebElement' object is not iterable"
     ]
    }
   ],
   "source": [
    "currency_list = []\n",
    "tr_data = []\n",
    "\n",
    "for i in trs:\n",
    "    tr = i.find_element(By.CLASS_NAME, 'dw>span')\n",
    "    \n",
    "for x in tr:\n",
    "    tr_data.append(x.text)\n",
    "    currency_list.append(tr_data)\n",
    "\n",
    "print(currency_list)"
   ]
  },
  {
   "cell_type": "code",
   "execution_count": null,
   "id": "bc22acf4",
   "metadata": {},
   "outputs": [],
   "source": [
    "# 통화명\n",
    "country = browser.find_element(By.CLASS_NAME, 'dw>th>a').text\n",
    "# 매매기준율\n",
    "currency = browser.find_element(By.CLASS_NAME, 'dw>td>span').text"
   ]
  },
  {
   "cell_type": "code",
   "execution_count": 138,
   "id": "c28d51b2",
   "metadata": {
    "ExecuteTime": {
     "end_time": "2022-10-25T07:49:53.890307Z",
     "start_time": "2022-10-25T07:49:53.871319Z"
    }
   },
   "outputs": [
    {
     "ename": "TypeError",
     "evalue": "'WebElement' object is not iterable",
     "output_type": "error",
     "traceback": [
      "\u001b[1;31m---------------------------------------------------------------------------\u001b[0m",
      "\u001b[1;31mTypeError\u001b[0m                                 Traceback (most recent call last)",
      "\u001b[1;32m~\\AppData\\Local\\Temp/ipykernel_448/1415674860.py\u001b[0m in \u001b[0;36m<module>\u001b[1;34m\u001b[0m\n\u001b[0;32m      1\u001b[0m \u001b[0mcountry_list\u001b[0m \u001b[1;33m=\u001b[0m \u001b[1;33m[\u001b[0m\u001b[1;33m]\u001b[0m\u001b[1;33m\u001b[0m\u001b[1;33m\u001b[0m\u001b[0m\n\u001b[0;32m      2\u001b[0m \u001b[1;33m\u001b[0m\u001b[0m\n\u001b[1;32m----> 3\u001b[1;33m \u001b[1;32mfor\u001b[0m \u001b[0mi\u001b[0m \u001b[1;32min\u001b[0m \u001b[0mcountry\u001b[0m\u001b[1;33m:\u001b[0m\u001b[1;33m\u001b[0m\u001b[1;33m\u001b[0m\u001b[0m\n\u001b[0m\u001b[0;32m      4\u001b[0m     \u001b[0mcountry\u001b[0m \u001b[1;33m=\u001b[0m \u001b[0mi\u001b[0m\u001b[1;33m.\u001b[0m\u001b[0mfind_elements\u001b[0m\u001b[1;33m(\u001b[0m\u001b[1;34m\"span\"\u001b[0m\u001b[1;33m)\u001b[0m\u001b[1;33m.\u001b[0m\u001b[0mtext\u001b[0m\u001b[1;33m\u001b[0m\u001b[1;33m\u001b[0m\u001b[0m\n\u001b[0;32m      5\u001b[0m \u001b[1;33m\u001b[0m\u001b[0m\n",
      "\u001b[1;31mTypeError\u001b[0m: 'WebElement' object is not iterable"
     ]
    }
   ],
   "source": [
    "country_list = []\n",
    "\n",
    "for i in country:\n",
    "    country = i.find_elements(\"span\").text\n",
    "\n",
    "\n"
   ]
  },
  {
   "cell_type": "code",
   "execution_count": null,
   "id": "9ead9838",
   "metadata": {},
   "outputs": [],
   "source": [
    "driver.get(\"https://www.britannica.com/topic/list-of-state-capitals-in-the-United-States-2119210\")\n",
    "list_states = []\n",
    "trs = driver.find_element_by_tag_name(\"tbody\").find_elements_by_tag_name(\"tr\")\n",
    "for iin trs:\n",
    "tr = i.find_elements_by_tag_name(\"td\")\n",
    "tr_data = []\n",
    "for x in tr:\n",
    "tr_data.append(x.text)\n",
    "list_states.append(tr_data)\n",
    "print(list_states)"
   ]
  },
  {
   "cell_type": "code",
   "execution_count": 175,
   "id": "f3744c69",
   "metadata": {
    "ExecuteTime": {
     "end_time": "2022-10-25T09:00:17.887574Z",
     "start_time": "2022-10-25T09:00:15.925239Z"
    }
   },
   "outputs": [
    {
     "name": "stdout",
     "output_type": "stream",
     "text": [
      "['https://news.einfomax.co.kr/news/articleView.html?idxno=4239120', 'https://www.ngetnews.com/news/articleView.html?idxno=411836', 'https://m.khan.co.kr/economy/finance/article/202210251130001', 'http://www.klnews.co.kr/news/articleView.html?idxno=305926', 'http://www.snmnews.com/news/articleView.html?idxno=506612', 'https://www.hellot.net/news/article.html?no=72189', 'https://www.yna.co.kr/view/MYH20221025012900038?section=video/all', 'http://www.newsfreezone.co.kr/news/articleView.html?idxno=419338', 'https://www.itworld.co.kr/news/260974', 'https://www.etnews.com/20221023000012']\n",
      "제목 '5분이면 청약 끝'…한화생명, 청약자동화 솔루션 특허 취득\n",
      "내용 (서울=연합인포맥스) 정지서 기자 = 한화생명이 업계 최초로 보험 신계약 과정을 로봇 기술로 자동화하며 법인대리점(GA) 시장에서의 영업 경쟁력 강화에 나섰다.\n",
      "링크https://news.einfomax.co.kr/news/articleView.html?idxno=4239120\n"
     ]
    }
   ],
   "source": [
    "browser.get(\"https://www.google.com/search?q=%EC%9E%90%EB%8F%99%ED%99%94&rlz=1C1CHBD_koKR1009KR1009&tbm=nws&source=lnt&tbs=qdr:w&sa=X&ved=2ahUKEwjK8byR8_r6AhUQfXAKHTEaDp4QpwV6BAgBEBs&biw=1600&bih=744&dpr=2\")\n",
    "\n",
    "links = browser.find_elements(By.CLASS_NAME, 'WlydOe')\n",
    "\n",
    "link = []\n",
    "for i in links :\n",
    "    link.append(i.get_attribute('href'))\n",
    "\n",
    "print(link)\n",
    "  \n",
    "contents = browser.find_elements(By.CLASS_NAME, 'GI74Re')\n",
    "\n",
    "content = []\n",
    "for i in contents:\n",
    "    temp_content = i.text\n",
    "    temp_content = temp_content.replace(\",\",\"\")\n",
    "    content.append(temp_content)\n",
    "    \n",
    "titles = browser.find_elements(By.CLASS_NAME, 'mCBkyc')\n",
    "    \n",
    "title = []\n",
    "for i in titles:\n",
    "    temp_title = i.text\n",
    "    temp_title = temp_title.replace(\",\",\"\")\n",
    "    title.append(i.text)\n",
    "    \n",
    "print(\"제목 \" + title[0])\n",
    "print(\"내용 \" + content[0])\n",
    "print(\"링크\" + link[0])\n",
    "\n",
    "file = open(\"google_news.csv\", \"a\", encoding=\"UTF-8-sig\")\n",
    "\n",
    "for i in range(len(title)):\n",
    "    file.write(\"{}, {}, {} \\n\".format(title[i], content[i], link[i]))\n",
    "file.close()"
   ]
  },
  {
   "cell_type": "code",
   "execution_count": 171,
   "id": "d80aa681",
   "metadata": {
    "ExecuteTime": {
     "end_time": "2022-10-25T08:55:32.716991Z",
     "start_time": "2022-10-25T08:55:32.689986Z"
    }
   },
   "outputs": [
    {
     "ename": "IndexError",
     "evalue": "list index out of range",
     "output_type": "error",
     "traceback": [
      "\u001b[1;31m---------------------------------------------------------------------------\u001b[0m",
      "\u001b[1;31mIndexError\u001b[0m                                Traceback (most recent call last)",
      "\u001b[1;32m~\\AppData\\Local\\Temp/ipykernel_448/3866376142.py\u001b[0m in \u001b[0;36m<module>\u001b[1;34m\u001b[0m\n\u001b[0;32m      2\u001b[0m \u001b[1;33m\u001b[0m\u001b[0m\n\u001b[0;32m      3\u001b[0m \u001b[1;32mfor\u001b[0m \u001b[0mi\u001b[0m \u001b[1;32min\u001b[0m \u001b[0mrange\u001b[0m\u001b[1;33m(\u001b[0m\u001b[0mlen\u001b[0m\u001b[1;33m(\u001b[0m\u001b[0mtitle\u001b[0m\u001b[1;33m)\u001b[0m\u001b[1;33m)\u001b[0m\u001b[1;33m:\u001b[0m\u001b[1;33m\u001b[0m\u001b[1;33m\u001b[0m\u001b[0m\n\u001b[1;32m----> 4\u001b[1;33m     \u001b[0mfile\u001b[0m\u001b[1;33m.\u001b[0m\u001b[0mwrite\u001b[0m\u001b[1;33m(\u001b[0m\u001b[1;34m\"{}, {}, {} \\n\"\u001b[0m\u001b[1;33m.\u001b[0m\u001b[0mformat\u001b[0m\u001b[1;33m(\u001b[0m\u001b[0mtitle\u001b[0m\u001b[1;33m[\u001b[0m\u001b[0mi\u001b[0m\u001b[1;33m]\u001b[0m\u001b[1;33m,\u001b[0m \u001b[0mcontent\u001b[0m\u001b[1;33m[\u001b[0m\u001b[0mi\u001b[0m\u001b[1;33m]\u001b[0m\u001b[1;33m,\u001b[0m \u001b[0mlink\u001b[0m\u001b[1;33m[\u001b[0m\u001b[0mi\u001b[0m\u001b[1;33m]\u001b[0m\u001b[1;33m)\u001b[0m\u001b[1;33m)\u001b[0m\u001b[1;33m\u001b[0m\u001b[1;33m\u001b[0m\u001b[0m\n\u001b[0m\u001b[0;32m      5\u001b[0m \u001b[0mfile\u001b[0m\u001b[1;33m.\u001b[0m\u001b[0mclose\u001b[0m\u001b[1;33m(\u001b[0m\u001b[1;33m)\u001b[0m\u001b[1;33m\u001b[0m\u001b[1;33m\u001b[0m\u001b[0m\n",
      "\u001b[1;31mIndexError\u001b[0m: list index out of range"
     ]
    }
   ],
   "source": [
    "file = open(\"google_news.csv\", \"a\", encoding=\"UTF-8-sig\")\n",
    "\n",
    "for i in range(len(title)):\n",
    "    file.write(\"{}, {}, {} \\n\".format(title[i], content[i], link[i]))\n",
    "file.close()"
   ]
  },
  {
   "cell_type": "code",
   "execution_count": 147,
   "id": "755766f5",
   "metadata": {
    "ExecuteTime": {
     "end_time": "2022-10-25T07:59:49.596094Z",
     "start_time": "2022-10-25T07:59:49.582122Z"
    }
   },
   "outputs": [],
   "source": [
    "open(\"google_news.csv\", \"a\", encoding=\"UTF-8-sig\")\n",
    "file.write(\"{},{},{} \\n\".format(\"제목\", \"내용\", \"링크\"))\n",
    "file.write(\"{},{},{} \\n\".format(\"제목2\", \"내용2\", \"링크2\"))\n",
    "file.close()"
   ]
  },
  {
   "cell_type": "code",
   "execution_count": 133,
   "id": "c3ae1d11",
   "metadata": {
    "ExecuteTime": {
     "end_time": "2022-10-25T07:44:22.557565Z",
     "start_time": "2022-10-25T07:44:22.528585Z"
    }
   },
   "outputs": [
    {
     "ename": "FileNotFoundError",
     "evalue": "[Errno 2] No such file or directory: 'google_news.csv'",
     "output_type": "error",
     "traceback": [
      "\u001b[1;31m---------------------------------------------------------------------------\u001b[0m",
      "\u001b[1;31mFileNotFoundError\u001b[0m                         Traceback (most recent call last)",
      "\u001b[1;32m~\\AppData\\Local\\Temp/ipykernel_448/4239420542.py\u001b[0m in \u001b[0;36m<module>\u001b[1;34m\u001b[0m\n\u001b[1;32m----> 1\u001b[1;33m \u001b[0mfile\u001b[0m \u001b[1;33m=\u001b[0m \u001b[0mopen\u001b[0m\u001b[1;33m(\u001b[0m\u001b[1;34m\"google_news.csv\"\u001b[0m\u001b[1;33m,\u001b[0m \u001b[0mencoding\u001b[0m\u001b[1;33m=\u001b[0m\u001b[1;34m\"UTF-8-sig\"\u001b[0m\u001b[1;33m)\u001b[0m\u001b[1;33m\u001b[0m\u001b[1;33m\u001b[0m\u001b[0m\n\u001b[0m\u001b[0;32m      2\u001b[0m \u001b[0mfile\u001b[0m\u001b[1;33m.\u001b[0m\u001b[0mwrite\u001b[0m\u001b[1;33m(\u001b[0m\u001b[1;34m\"{}, {}, {} \\n\"\u001b[0m\u001b[1;33m.\u001b[0m\u001b[0mformat\u001b[0m\u001b[1;33m(\u001b[0m\u001b[0mtitle\u001b[0m\u001b[1;33m[\u001b[0m\u001b[1;36m0\u001b[0m\u001b[1;33m]\u001b[0m\u001b[1;33m,\u001b[0m \u001b[0mcontent\u001b[0m\u001b[1;33m[\u001b[0m\u001b[1;36m0\u001b[0m\u001b[1;33m]\u001b[0m\u001b[1;33m,\u001b[0m \u001b[0mlink\u001b[0m\u001b[1;33m[\u001b[0m\u001b[1;36m0\u001b[0m\u001b[1;33m]\u001b[0m\u001b[1;33m)\u001b[0m\u001b[1;33m)\u001b[0m\u001b[1;33m\u001b[0m\u001b[1;33m\u001b[0m\u001b[0m\n\u001b[0;32m      3\u001b[0m \u001b[0mfile\u001b[0m\u001b[1;33m.\u001b[0m\u001b[0mclose\u001b[0m\u001b[1;33m(\u001b[0m\u001b[1;33m)\u001b[0m\u001b[1;33m\u001b[0m\u001b[1;33m\u001b[0m\u001b[0m\n",
      "\u001b[1;31mFileNotFoundError\u001b[0m: [Errno 2] No such file or directory: 'google_news.csv'"
     ]
    }
   ],
   "source": [
    "file = open(\"google_news.csv\", encoding=\"UTF-8-sig\")\n",
    "file.write(\"{}, {}, {} \\n\".format(title[0], content[0], link[0]))\n",
    "file.close()"
   ]
  },
  {
   "cell_type": "code",
   "execution_count": null,
   "id": "ee69db0a",
   "metadata": {},
   "outputs": [],
   "source": []
  },
  {
   "cell_type": "code",
   "execution_count": null,
   "id": "48c2cf73",
   "metadata": {},
   "outputs": [],
   "source": []
  }
 ],
 "metadata": {
  "kernelspec": {
   "display_name": "Python 3 (ipykernel)",
   "language": "python",
   "name": "python3"
  },
  "language_info": {
   "codemirror_mode": {
    "name": "ipython",
    "version": 3
   },
   "file_extension": ".py",
   "mimetype": "text/x-python",
   "name": "python",
   "nbconvert_exporter": "python",
   "pygments_lexer": "ipython3",
   "version": "3.9.7"
  },
  "toc": {
   "base_numbering": 1,
   "nav_menu": {},
   "number_sections": true,
   "sideBar": true,
   "skip_h1_title": false,
   "title_cell": "Table of Contents",
   "title_sidebar": "Contents",
   "toc_cell": false,
   "toc_position": {},
   "toc_section_display": true,
   "toc_window_display": false
  },
  "varInspector": {
   "cols": {
    "lenName": 16,
    "lenType": 16,
    "lenVar": 40
   },
   "kernels_config": {
    "python": {
     "delete_cmd_postfix": "",
     "delete_cmd_prefix": "del ",
     "library": "var_list.py",
     "varRefreshCmd": "print(var_dic_list())"
    },
    "r": {
     "delete_cmd_postfix": ") ",
     "delete_cmd_prefix": "rm(",
     "library": "var_list.r",
     "varRefreshCmd": "cat(var_dic_list()) "
    }
   },
   "types_to_exclude": [
    "module",
    "function",
    "builtin_function_or_method",
    "instance",
    "_Feature"
   ],
   "window_display": false
  }
 },
 "nbformat": 4,
 "nbformat_minor": 5
}
