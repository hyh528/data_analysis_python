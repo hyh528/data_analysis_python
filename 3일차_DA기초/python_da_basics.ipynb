{
 "cells": [
  {
   "cell_type": "markdown",
   "id": "effc0014",
   "metadata": {},
   "source": [
    "## Numpy\n",
    "- 파이썬에서 수학적 계산을 쉽게 할 수 있도록 도와주는 라이브러리"
   ]
  },
  {
   "cell_type": "code",
   "execution_count": 1,
   "id": "cc6b80a4",
   "metadata": {
    "ExecuteTime": {
     "end_time": "2022-10-26T08:20:41.998974Z",
     "start_time": "2022-10-26T08:20:41.972989Z"
    }
   },
   "outputs": [],
   "source": [
    "import numpy as np"
   ]
  },
  {
   "cell_type": "code",
   "execution_count": 2,
   "id": "7b7632dd",
   "metadata": {
    "ExecuteTime": {
     "end_time": "2022-10-26T08:21:12.063895Z",
     "start_time": "2022-10-26T08:21:12.031915Z"
    }
   },
   "outputs": [
    {
     "data": {
      "text/plain": [
       "array(['A', 'B', 'C', 'D', 'E'], dtype='<U1')"
      ]
     },
     "execution_count": 2,
     "metadata": {},
     "output_type": "execute_result"
    }
   ],
   "source": [
    "array = np.array(['A','B','C','D','E'])\n",
    "array"
   ]
  },
  {
   "cell_type": "code",
   "execution_count": 5,
   "id": "65daabd1",
   "metadata": {
    "ExecuteTime": {
     "end_time": "2022-10-26T08:22:16.410738Z",
     "start_time": "2022-10-26T08:22:16.393748Z"
    }
   },
   "outputs": [
    {
     "name": "stdout",
     "output_type": "stream",
     "text": [
      "(5,)\n",
      "1\n",
      "<U1\n"
     ]
    }
   ],
   "source": [
    "print(array.shape)\n",
    "print(array.ndim)\n",
    "print(array.dtype)"
   ]
  },
  {
   "cell_type": "code",
   "execution_count": 6,
   "id": "95689eab",
   "metadata": {
    "ExecuteTime": {
     "end_time": "2022-10-26T08:25:09.171366Z",
     "start_time": "2022-10-26T08:25:09.156356Z"
    }
   },
   "outputs": [
    {
     "name": "stdout",
     "output_type": "stream",
     "text": [
      "[['A' 'B' 'C']\n",
      " ['D' 'E' 'F']]\n"
     ]
    }
   ],
   "source": [
    "array2 = np.array([[\"A\",'B', \"C\"], [\"D\",\"E\",\"F\"]])\n",
    "print(array2)"
   ]
  },
  {
   "cell_type": "code",
   "execution_count": 7,
   "id": "cb602422",
   "metadata": {
    "ExecuteTime": {
     "end_time": "2022-10-26T08:25:58.939471Z",
     "start_time": "2022-10-26T08:25:58.924481Z"
    }
   },
   "outputs": [
    {
     "name": "stdout",
     "output_type": "stream",
     "text": [
      "(2, 3)\n",
      "2\n",
      "<U1\n"
     ]
    }
   ],
   "source": [
    "print(array2.shape)\n",
    "print(array2.ndim)\n",
    "print(array2.dtype)"
   ]
  },
  {
   "cell_type": "code",
   "execution_count": 8,
   "id": "6e84cdb5",
   "metadata": {
    "ExecuteTime": {
     "end_time": "2022-10-26T08:27:20.806353Z",
     "start_time": "2022-10-26T08:27:20.793361Z"
    }
   },
   "outputs": [
    {
     "name": "stdout",
     "output_type": "stream",
     "text": [
      "(2, 2, 3)\n",
      "[[[1 1 2]\n",
      "  [2 3 3]]\n",
      "\n",
      " [[1 1 1]\n",
      "  [1 1 1]]]\n"
     ]
    }
   ],
   "source": [
    "x = np.array([[[1,1,2], [2,3,3]], [[1,1,1], [1,1,1]]])\n",
    "print(x.shape)\n",
    "print(x)"
   ]
  },
  {
   "cell_type": "code",
   "execution_count": 13,
   "id": "89bc0aa9",
   "metadata": {
    "ExecuteTime": {
     "end_time": "2022-10-26T08:35:56.640906Z",
     "start_time": "2022-10-26T08:35:56.633912Z"
    }
   },
   "outputs": [
    {
     "name": "stdout",
     "output_type": "stream",
     "text": [
      "<U1\n",
      "float64\n"
     ]
    }
   ],
   "source": [
    "array4 = np.array(['1','2','3','4','5'])\n",
    "\n",
    "print(array4.dtype)\n",
    "\n",
    "array4 = array4.astype(np.float64)\n",
    "\n",
    "print(array4.dtype)"
   ]
  },
  {
   "cell_type": "code",
   "execution_count": 14,
   "id": "5d0cfe5f",
   "metadata": {
    "ExecuteTime": {
     "end_time": "2022-10-26T08:36:54.325539Z",
     "start_time": "2022-10-26T08:36:54.307548Z"
    }
   },
   "outputs": [],
   "source": [
    "arr = np.arange(1,10)"
   ]
  },
  {
   "cell_type": "code",
   "execution_count": 15,
   "id": "84efb067",
   "metadata": {
    "ExecuteTime": {
     "end_time": "2022-10-26T08:37:00.538395Z",
     "start_time": "2022-10-26T08:37:00.531399Z"
    }
   },
   "outputs": [
    {
     "data": {
      "text/plain": [
       "array([1, 2, 3, 4, 5, 6, 7, 8, 9])"
      ]
     },
     "execution_count": 15,
     "metadata": {},
     "output_type": "execute_result"
    }
   ],
   "source": [
    "arr"
   ]
  },
  {
   "cell_type": "code",
   "execution_count": 16,
   "id": "df9a6830",
   "metadata": {
    "ExecuteTime": {
     "end_time": "2022-10-26T08:38:25.397204Z",
     "start_time": "2022-10-26T08:38:25.382192Z"
    }
   },
   "outputs": [
    {
     "data": {
      "text/plain": [
       "array([1, 2, 3])"
      ]
     },
     "execution_count": 16,
     "metadata": {},
     "output_type": "execute_result"
    }
   ],
   "source": [
    "arr[0:3]"
   ]
  },
  {
   "cell_type": "code",
   "execution_count": 17,
   "id": "07af052a",
   "metadata": {
    "ExecuteTime": {
     "end_time": "2022-10-26T08:38:47.085488Z",
     "start_time": "2022-10-26T08:38:47.073495Z"
    }
   },
   "outputs": [
    {
     "data": {
      "text/plain": [
       "array([7, 8, 9])"
      ]
     },
     "execution_count": 17,
     "metadata": {},
     "output_type": "execute_result"
    }
   ],
   "source": [
    "arr[arr > 6]"
   ]
  },
  {
   "cell_type": "code",
   "execution_count": null,
   "id": "352fe327",
   "metadata": {},
   "outputs": [],
   "source": [
    "arr1 = "
   ]
  }
 ],
 "metadata": {
  "kernelspec": {
   "display_name": "Python 3 (ipykernel)",
   "language": "python",
   "name": "python3"
  },
  "language_info": {
   "codemirror_mode": {
    "name": "ipython",
    "version": 3
   },
   "file_extension": ".py",
   "mimetype": "text/x-python",
   "name": "python",
   "nbconvert_exporter": "python",
   "pygments_lexer": "ipython3",
   "version": "3.9.7"
  },
  "toc": {
   "base_numbering": 1,
   "nav_menu": {},
   "number_sections": true,
   "sideBar": true,
   "skip_h1_title": false,
   "title_cell": "Table of Contents",
   "title_sidebar": "Contents",
   "toc_cell": false,
   "toc_position": {},
   "toc_section_display": true,
   "toc_window_display": false
  },
  "varInspector": {
   "cols": {
    "lenName": 16,
    "lenType": 16,
    "lenVar": 40
   },
   "kernels_config": {
    "python": {
     "delete_cmd_postfix": "",
     "delete_cmd_prefix": "del ",
     "library": "var_list.py",
     "varRefreshCmd": "print(var_dic_list())"
    },
    "r": {
     "delete_cmd_postfix": ") ",
     "delete_cmd_prefix": "rm(",
     "library": "var_list.r",
     "varRefreshCmd": "cat(var_dic_list()) "
    }
   },
   "types_to_exclude": [
    "module",
    "function",
    "builtin_function_or_method",
    "instance",
    "_Feature"
   ],
   "window_display": false
  }
 },
 "nbformat": 4,
 "nbformat_minor": 5
}
